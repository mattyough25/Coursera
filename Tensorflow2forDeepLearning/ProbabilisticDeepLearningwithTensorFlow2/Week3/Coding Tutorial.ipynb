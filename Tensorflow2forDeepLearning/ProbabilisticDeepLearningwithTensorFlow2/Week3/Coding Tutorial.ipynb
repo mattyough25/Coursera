{
 "cells": [
  {
   "cell_type": "code",
   "execution_count": 1,
   "metadata": {},
   "outputs": [],
   "source": [
    "import numpy as np\n",
    "import pandas as pd\n",
    "import matplotlib.pyplot as plt\n",
    "import tensorflow as tf\n",
    "import tensorflow_probability as tfp\n",
    "tfd = tfp.distributions\n",
    "tfb = tfp.bijectors\n",
    "tfpl = tfp.layers"
   ]
  },
  {
   "cell_type": "markdown",
   "metadata": {},
   "source": [
    "# Bijectors and normalising flows"
   ]
  },
  {
   "cell_type": "markdown",
   "metadata": {},
   "source": [
    " ## Coding tutorials\n",
    " #### [1. Bijectors](#coding_tutorial_1)\n",
    " #### [2. The TransformedDistribution class](#coding_tutorial_2)\n",
    " #### [3. Subclassing bijectors](#coding_tutorial_3)\n",
    " #### [4. Normalising flows](#coding_tutorial_4)"
   ]
  },
  {
   "cell_type": "markdown",
   "metadata": {},
   "source": [
    "***\n",
    "<a id=\"coding_tutorial_1\"></a>\n",
    "## Bijectors"
   ]
  },
  {
   "cell_type": "code",
   "execution_count": 2,
   "metadata": {},
   "outputs": [],
   "source": [
    "# Define base distribution\n",
    "\n",
    "normal = tfd.Normal(loc=0., scale=1.)"
   ]
  },
  {
   "cell_type": "code",
   "execution_count": 3,
   "metadata": {},
   "outputs": [],
   "source": [
    "# Sample from base distribution\n",
    "\n",
    "n = 10000\n",
    "z = normal.sample(n)"
   ]
  },
  {
   "cell_type": "markdown",
   "metadata": {},
   "source": [
    "### Scale and shift bijector"
   ]
  },
  {
   "cell_type": "code",
   "execution_count": 4,
   "metadata": {},
   "outputs": [],
   "source": [
    "# Define scale and shift\n",
    "\n",
    "scale = 4.5\n",
    "shift = 7"
   ]
  },
  {
   "cell_type": "code",
   "execution_count": 5,
   "metadata": {},
   "outputs": [],
   "source": [
    "# Define chain bijector\n",
    "\n",
    "scale_and_shift = tfb.Chain([tfb.Shift(shift), tfb.Scale(scale)])"
   ]
  },
  {
   "cell_type": "code",
   "execution_count": 6,
   "metadata": {},
   "outputs": [],
   "source": [
    "# We can also use call methods\n",
    "\n",
    "scale_transf = tfb.Scale(scale)\n",
    "shift_transf = tfb.Shift(shift)\n",
    "scale_and_shift = shift_transf(scale_transf)"
   ]
  },
  {
   "cell_type": "code",
   "execution_count": 7,
   "metadata": {},
   "outputs": [],
   "source": [
    "# Apply the forward transformation\n",
    "\n",
    "x = scale_and_shift.forward(z)"
   ]
  },
  {
   "cell_type": "code",
   "execution_count": 8,
   "metadata": {},
   "outputs": [
    {
     "data": {
      "text/plain": [
       "<tf.Tensor: shape=(), dtype=float32, numpy=0.0>"
      ]
     },
     "execution_count": 8,
     "metadata": {},
     "output_type": "execute_result"
    }
   ],
   "source": [
    "# Check the forward transformation\n",
    "\n",
    "tf.norm(x - (scale*z + shift))"
   ]
  },
  {
   "cell_type": "markdown",
   "metadata": {},
   "source": [
    "#### Plots"
   ]
  },
  {
   "cell_type": "code",
   "execution_count": 9,
   "metadata": {},
   "outputs": [
    {
     "data": {
      "text/plain": [
       "<function matplotlib.pyplot.show(close=None, block=None)>"
      ]
     },
     "execution_count": 9,
     "metadata": {},
     "output_type": "execute_result"
    },
    {
     "data": {
      "image/png": "[encoded data removed]",
      "text/plain": [
       "<Figure size 432x288 with 1 Axes>"
      ]
     },
     "metadata": {
      "needs_background": "light"
     },
     "output_type": "display_data"
    }
   ],
   "source": [
    "# Plot z density\n",
    "\n",
    "plt.hist(z, bins=60, density=True)\n",
    "plt.show"
   ]
  },
  {
   "cell_type": "code",
   "execution_count": 10,
   "metadata": {},
   "outputs": [
    {
     "data": {
      "text/plain": [
       "<function matplotlib.pyplot.show(close=None, block=None)>"
      ]
     },
     "execution_count": 10,
     "metadata": {},
     "output_type": "execute_result"
    },
    {
     "data": {
      "image/png": "[encoded data removed]",
      "text/plain": [
       "<Figure size 432x288 with 1 Axes>"
      ]
     },
     "metadata": {
      "needs_background": "light"
     },
     "output_type": "display_data"
    }
   ],
   "source": [
    "# Plot x density\n",
    "\n",
    "plt.hist(x, bins=60, density=True)\n",
    "plt.show"
   ]
  },
  {
   "cell_type": "markdown",
   "metadata": {},
   "source": [
    "#### Inverse transformation"
   ]
  },
  {
   "cell_type": "code",
   "execution_count": 11,
   "metadata": {},
   "outputs": [],
   "source": [
    "# Apply inverse transformation\n",
    "\n",
    "inv_x = scale_and_shift.inverse(x)"
   ]
  },
  {
   "cell_type": "code",
   "execution_count": 12,
   "metadata": {},
   "outputs": [
    {
     "data": {
      "text/plain": [
       "<tf.Tensor: shape=(), dtype=float32, numpy=0.0>"
      ]
     },
     "execution_count": 12,
     "metadata": {},
     "output_type": "execute_result"
    }
   ],
   "source": [
    "# Check inverse transformation\n",
    "\n",
    "tf.norm(inv_x-z)"
   ]
  },
  {
   "cell_type": "markdown",
   "metadata": {},
   "source": [
    "#### Log probability"
   ]
  },
  {
   "cell_type": "code",
   "execution_count": 13,
   "metadata": {},
   "outputs": [
    {
     "name": "stdout",
     "output_type": "stream",
     "text": [
      "tf.Tensor([-3.500026  -3.6504679 -2.755453  ... -3.1031961 -2.7630124 -2.6013315], shape=(10000,), dtype=float32)\n"
     ]
    }
   ],
   "source": [
    "# Compute log prob for x\n",
    "log_prob_x = normal.log_prob(z) - scale_and_shift.forward_log_det_jacobian(z, event_ndims=0)\n",
    "print(log_prob_x)\n"
   ]
  },
  {
   "cell_type": "code",
   "execution_count": 14,
   "metadata": {},
   "outputs": [
    {
     "name": "stdout",
     "output_type": "stream",
     "text": [
      "tf.Tensor([-3.500026  -3.6504679 -2.755453  ... -3.1031961 -2.7630124 -2.6013315], shape=(10000,), dtype=float32)\n"
     ]
    }
   ],
   "source": [
    "# We can also use the inverse transformation\n",
    "\n",
    "log_prob_x = (normal.log_prob(scale_and_shift.inverse(x)) + scale_and_shift.inverse_log_det_jacobian(x, event_ndims=0))\n",
    "print(log_prob_x)"
   ]
  },
  {
   "cell_type": "markdown",
   "metadata": {},
   "source": [
    "### Broadcasting"
   ]
  },
  {
   "cell_type": "code",
   "execution_count": 15,
   "metadata": {},
   "outputs": [],
   "source": [
    "x = tf.random.normal(shape=(100, 1))"
   ]
  },
  {
   "cell_type": "code",
   "execution_count": 16,
   "metadata": {},
   "outputs": [
    {
     "name": "stdout",
     "output_type": "stream",
     "text": [
      "(100, 1)\n"
     ]
    }
   ],
   "source": [
    "# Softfloor bijector\n",
    "\n",
    "softfloor = tfb.Softfloor(temperature=0.01)\n",
    "y = softfloor.forward(x)\n",
    "print(y.shape)"
   ]
  },
  {
   "cell_type": "code",
   "execution_count": 17,
   "metadata": {},
   "outputs": [
    {
     "name": "stdout",
     "output_type": "stream",
     "text": [
      "(100, 2)\n"
     ]
    }
   ],
   "source": [
    "# Softfloor bijector using broadcasting\n",
    "\n",
    "softfloor = tfb.Softfloor(temperature=[0.2, 1.])\n",
    "y = softfloor.forward(x)\n",
    "print(y.shape)"
   ]
  },
  {
   "cell_type": "code",
   "execution_count": 18,
   "metadata": {},
   "outputs": [],
   "source": [
    "# Softfloor bijector using broadcasting\n",
    "\n",
    "softfloor = tfb.Softfloor(temperature=[0.01, 0.1, 1.])"
   ]
  },
  {
   "cell_type": "code",
   "execution_count": 19,
   "metadata": {},
   "outputs": [],
   "source": [
    "# Plot routine\n",
    "\n",
    "def _plot(nparams, bijector, params, x):\n",
    "    bijector_params = tuple(getattr(bijector, name) for name in params)\n",
    "    upper_params = [name[0].upper() + name[1:] for name in params]\n",
    "    fig = plt.figure(figsize=(14, 5))\n",
    "    lines = plt.plot(np.tile(x, nparams), bijector.forward(x))\n",
    "    for l in zip(lines, *bijector_params):\n",
    "        labels = \": {:.2f}, \".join(upper_params) + ': {:.2f}'\n",
    "        l[0].set_label(labels.format(*l[1:]))\n",
    "    plt.legend()\n",
    "    plt.show()"
   ]
  },
  {
   "cell_type": "code",
   "execution_count": 20,
   "metadata": {},
   "outputs": [
    {
     "data": {
      "image/png": "[encoded data removed]",
      "text/plain": [
       "<Figure size 1008x360 with 1 Axes>"
      ]
     },
     "metadata": {
      "needs_background": "light"
     },
     "output_type": "display_data"
    }
   ],
   "source": [
    "# Plot\n",
    "\n",
    "x = np.linspace(-2, 2, 2000)[..., np.newaxis]\n",
    "_plot(3, softfloor, ['temperature'], x)"
   ]
  },
  {
   "cell_type": "code",
   "execution_count": 21,
   "metadata": {},
   "outputs": [],
   "source": [
    "# Gumbel bijector using broadcasting\n",
    "\n",
    "exps = tfb.GumbelCDF(loc=[0.5,1,1.5,2,3],scale=[1,2,2,3,4])"
   ]
  },
  {
   "cell_type": "code",
   "execution_count": 22,
   "metadata": {},
   "outputs": [
    {
     "data": {
      "image/png": "[encoded data removed]",
      "text/plain": [
       "<Figure size 1008x360 with 1 Axes>"
      ]
     },
     "metadata": {
      "needs_background": "light"
     },
     "output_type": "display_data"
    }
   ],
   "source": [
    "# Plot\n",
    "\n",
    "x = np.linspace(-10, 10, 2000, dtype=np.float32)[..., np.newaxis]\n",
    "_plot(5, exps, ['loc','scale'],x)"
   ]
  },
  {
   "cell_type": "markdown",
   "metadata": {},
   "source": [
    "***\n",
    "<a id=\"coding_tutorial_2\"></a>\n",
    "## The TransformedDistribution class"
   ]
  },
  {
   "cell_type": "markdown",
   "metadata": {},
   "source": [
    "### TransformedDistribution"
   ]
  },
  {
   "cell_type": "code",
   "execution_count": 23,
   "metadata": {},
   "outputs": [],
   "source": [
    "# Parameters\n",
    "\n",
    "n = 10000\n",
    "loc = 0\n",
    "scale = 0.5"
   ]
  },
  {
   "cell_type": "code",
   "execution_count": 24,
   "metadata": {},
   "outputs": [],
   "source": [
    "# Normal distribution\n",
    "\n",
    "normal = tfd.Normal(loc=loc, scale=scale)"
   ]
  },
  {
   "cell_type": "code",
   "execution_count": 25,
   "metadata": {},
   "outputs": [
    {
     "name": "stdout",
     "output_type": "stream",
     "text": [
      "batch shape:  ()\n",
      "event shape:  ()\n"
     ]
    }
   ],
   "source": [
    "# Display event and batch shape\n",
    "\n",
    "print('batch shape: ', normal.batch_shape)\n",
    "print('event shape: ', normal.event_shape)"
   ]
  },
  {
   "cell_type": "code",
   "execution_count": 26,
   "metadata": {},
   "outputs": [],
   "source": [
    "# Exponential bijector\n",
    "\n",
    "\n",
    "exp  =tfb.Exp()"
   ]
  },
  {
   "cell_type": "code",
   "execution_count": 27,
   "metadata": {},
   "outputs": [],
   "source": [
    "# Log normal transformed distribution using exp and normal bijectors\n",
    "\n",
    "log_normal_td = exp(normal)"
   ]
  },
  {
   "cell_type": "code",
   "execution_count": 28,
   "metadata": {},
   "outputs": [
    {
     "name": "stdout",
     "output_type": "stream",
     "text": [
      "batch shape:  ()\n",
      "event shape:  ()\n"
     ]
    }
   ],
   "source": [
    "# Display event and batch shape\n",
    "\n",
    "print('batch shape: ', log_normal_td .batch_shape)\n",
    "print('event shape: ', log_normal_td .event_shape)"
   ]
  },
  {
   "cell_type": "code",
   "execution_count": 29,
   "metadata": {},
   "outputs": [],
   "source": [
    "# Base distribution\n",
    "\n",
    "z = normal.sample(n)"
   ]
  },
  {
   "cell_type": "markdown",
   "metadata": {},
   "source": [
    "#### Plots"
   ]
  },
  {
   "cell_type": "code",
   "execution_count": 30,
   "metadata": {},
   "outputs": [
    {
     "data": {
      "text/plain": [
       "<function matplotlib.pyplot.show(close=None, block=None)>"
      ]
     },
     "execution_count": 30,
     "metadata": {},
     "output_type": "execute_result"
    },
    {
     "data": {
      "image/png": "[encoded data removed]",
      "text/plain": [
       "<Figure size 432x288 with 1 Axes>"
      ]
     },
     "metadata": {
      "needs_background": "light"
     },
     "output_type": "display_data"
    }
   ],
   "source": [
    "# Plot z density\n",
    "\n",
    "plt.hist(z, bins=100, density=True)\n",
    "plt.show"
   ]
  },
  {
   "cell_type": "code",
   "execution_count": 31,
   "metadata": {},
   "outputs": [],
   "source": [
    "# Transformed distribution\n",
    "\n",
    "x = log_normal_td.sample(n)"
   ]
  },
  {
   "cell_type": "code",
   "execution_count": 32,
   "metadata": {},
   "outputs": [
    {
     "data": {
      "text/plain": [
       "<function matplotlib.pyplot.show(close=None, block=None)>"
      ]
     },
     "execution_count": 32,
     "metadata": {},
     "output_type": "execute_result"
    },
    {
     "data": {
      "image/png": "[encoded data removed]",
      "text/plain": [
       "<Figure size 432x288 with 1 Axes>"
      ]
     },
     "metadata": {
      "needs_background": "light"
     },
     "output_type": "display_data"
    }
   ],
   "source": [
    "# Plot x density\n",
    "\n",
    "plt.hist(x, bins=100, density=True)\n",
    "plt.show"
   ]
  },
  {
   "cell_type": "code",
   "execution_count": 33,
   "metadata": {},
   "outputs": [],
   "source": [
    "# Define log normal distribution\n",
    "\n",
    "log_normal = tfd.LogNormal(loc=loc, scale=scale)"
   ]
  },
  {
   "cell_type": "code",
   "execution_count": 34,
   "metadata": {},
   "outputs": [],
   "source": [
    "# Sample log_normal\n",
    "\n",
    "l = log_normal.sample(n)"
   ]
  },
  {
   "cell_type": "code",
   "execution_count": 35,
   "metadata": {},
   "outputs": [
    {
     "data": {
      "text/plain": [
       "<function matplotlib.pyplot.show(close=None, block=None)>"
      ]
     },
     "execution_count": 35,
     "metadata": {},
     "output_type": "execute_result"
    },
    {
     "data": {
      "image/png": "[encoded data removed]",
      "text/plain": [
       "<Figure size 432x288 with 1 Axes>"
      ]
     },
     "metadata": {
      "needs_background": "light"
     },
     "output_type": "display_data"
    }
   ],
   "source": [
    "# Plot l density\n",
    "\n",
    "plt.hist(l, bins=100, density=True)\n",
    "plt.show"
   ]
  },
  {
   "cell_type": "markdown",
   "metadata": {},
   "source": [
    "#### Log probability"
   ]
  },
  {
   "cell_type": "code",
   "execution_count": 36,
   "metadata": {},
   "outputs": [],
   "source": [
    "# Log prob of LogNormal\n",
    "\n",
    "log_prob = log_normal.log_prob(x)"
   ]
  },
  {
   "cell_type": "code",
   "execution_count": 37,
   "metadata": {},
   "outputs": [],
   "source": [
    "# Log prob of log normal transformed distribution\n",
    "\n",
    "log_prob_td = log_normal_td.log_prob(x)"
   ]
  },
  {
   "cell_type": "code",
   "execution_count": 38,
   "metadata": {},
   "outputs": [
    {
     "data": {
      "text/plain": [
       "<tf.Tensor: shape=(), dtype=float32, numpy=0.0>"
      ]
     },
     "execution_count": 38,
     "metadata": {},
     "output_type": "execute_result"
    }
   ],
   "source": [
    "# Check log probs\n",
    "\n",
    "tf.norm(log_prob - log_prob_td)"
   ]
  },
  {
   "cell_type": "markdown",
   "metadata": {},
   "source": [
    "### Event shape and batch shape"
   ]
  },
  {
   "cell_type": "code",
   "execution_count": 39,
   "metadata": {},
   "outputs": [],
   "source": [
    "# Set a scaling lower triangular matrix\n",
    "\n",
    "tril = tf.random.normal((2,4,4))\n",
    "scale_low_tri = tf.linalg.LinearOperatorLowerTriangular(tril)"
   ]
  },
  {
   "cell_type": "code",
   "execution_count": 40,
   "metadata": {},
   "outputs": [
    {
     "data": {
      "text/plain": [
       "<tf.Tensor: shape=(2, 4, 4), dtype=float32, numpy=\n",
       "array([[[-0.4735371 ,  0.        ,  0.        ,  0.        ],\n",
       "        [ 0.27291396, -0.19812635,  0.        ,  0.        ],\n",
       "        [ 0.33184195, -1.0093279 , -0.26416942,  0.        ],\n",
       "        [-1.448463  , -0.01865838,  0.08690156, -1.2569395 ]],\n",
       "\n",
       "       [[ 0.18404295,  0.        ,  0.        ,  0.        ],\n",
       "        [-0.82172436,  0.18981498,  0.        ,  0.        ],\n",
       "        [ 0.22118253, -0.7932171 ,  0.04243834,  0.        ],\n",
       "        [-0.05981743, -1.4985616 , -0.81434363, -2.1714568 ]]],\n",
       "      dtype=float32)>"
      ]
     },
     "execution_count": 40,
     "metadata": {},
     "output_type": "execute_result"
    }
   ],
   "source": [
    "# View of scale_low_tri\n",
    "\n",
    "scale_low_tri.to_dense()"
   ]
  },
  {
   "cell_type": "code",
   "execution_count": 41,
   "metadata": {},
   "outputs": [],
   "source": [
    "# Define scale linear operator\n",
    "\n",
    "scale_lin_op = tfb.ScaleMatvecLinearOperator(scale_low_tri)"
   ]
  },
  {
   "cell_type": "code",
   "execution_count": 50,
   "metadata": {},
   "outputs": [
    {
     "ename": "TypeError",
     "evalue": "got an unexpected keyword argument 'batch_shape'",
     "output_type": "error",
     "traceback": [
      "\u001b[1;31m---------------------------------------------------------------------------\u001b[0m",
      "\u001b[1;31mTypeError\u001b[0m                                 Traceback (most recent call last)",
      "\u001b[1;32md:\\GitHub\\Coursera\\Tensorflow2forDeepLearning\\ProbabilisticDeepLearningwithTensorFlow2\\Week3\\Coding Tutorial.ipynb Cell 55\u001b[0m in \u001b[0;36m<cell line: 3>\u001b[1;34m()\u001b[0m\n\u001b[0;32m      <a href='vscode-notebook-cell:/d%3A/GitHub/Coursera/Tensorflow2forDeepLearning/ProbabilisticDeepLearningwithTensorFlow2/Week3/Coding%20Tutorial.ipynb#Y105sZmlsZQ%3D%3D?line=0'>1</a>\u001b[0m \u001b[39m# Define scale linear operator transformed distribution with a batch and event shape\u001b[39;00m\n\u001b[1;32m----> <a href='vscode-notebook-cell:/d%3A/GitHub/Coursera/Tensorflow2forDeepLearning/ProbabilisticDeepLearningwithTensorFlow2/Week3/Coding%20Tutorial.ipynb#Y105sZmlsZQ%3D%3D?line=2'>3</a>\u001b[0m mvn \u001b[39m=\u001b[39m tfd\u001b[39m.\u001b[39;49mTransformedDistribution(normal, scale_lin_op, batch_shape\u001b[39m=\u001b[39;49m\u001b[39m2\u001b[39;49m, event_shape\u001b[39m=\u001b[39;49m\u001b[39m2\u001b[39;49m)\n\u001b[0;32m      <a href='vscode-notebook-cell:/d%3A/GitHub/Coursera/Tensorflow2forDeepLearning/ProbabilisticDeepLearningwithTensorFlow2/Week3/Coding%20Tutorial.ipynb#Y105sZmlsZQ%3D%3D?line=3'>4</a>\u001b[0m \u001b[39mprint\u001b[39m(mvn)\n",
      "File \u001b[1;32mc:\\Python38\\lib\\site-packages\\decorator.py:231\u001b[0m, in \u001b[0;36mdecorate.<locals>.fun\u001b[1;34m(*args, **kw)\u001b[0m\n\u001b[0;32m    229\u001b[0m \u001b[39mdef\u001b[39;00m \u001b[39mfun\u001b[39m(\u001b[39m*\u001b[39margs, \u001b[39m*\u001b[39m\u001b[39m*\u001b[39mkw):\n\u001b[0;32m    230\u001b[0m     \u001b[39mif\u001b[39;00m \u001b[39mnot\u001b[39;00m kwsyntax:\n\u001b[1;32m--> 231\u001b[0m         args, kw \u001b[39m=\u001b[39m fix(args, kw, sig)\n\u001b[0;32m    232\u001b[0m     \u001b[39mreturn\u001b[39;00m caller(func, \u001b[39m*\u001b[39m(extras \u001b[39m+\u001b[39m args), \u001b[39m*\u001b[39m\u001b[39m*\u001b[39mkw)\n",
      "File \u001b[1;32mc:\\Python38\\lib\\site-packages\\decorator.py:203\u001b[0m, in \u001b[0;36mfix\u001b[1;34m(args, kwargs, sig)\u001b[0m\n\u001b[0;32m    199\u001b[0m \u001b[39mdef\u001b[39;00m \u001b[39mfix\u001b[39m(args, kwargs, sig):\n\u001b[0;32m    200\u001b[0m     \u001b[39m\"\"\"\u001b[39;00m\n\u001b[0;32m    201\u001b[0m \u001b[39m    Fix args and kwargs to be consistent with the signature\u001b[39;00m\n\u001b[0;32m    202\u001b[0m \u001b[39m    \"\"\"\u001b[39;00m\n\u001b[1;32m--> 203\u001b[0m     ba \u001b[39m=\u001b[39m sig\u001b[39m.\u001b[39;49mbind(\u001b[39m*\u001b[39;49margs, \u001b[39m*\u001b[39;49m\u001b[39m*\u001b[39;49mkwargs)\n\u001b[0;32m    204\u001b[0m     ba\u001b[39m.\u001b[39mapply_defaults()  \u001b[39m# needed for test_dan_schult\u001b[39;00m\n\u001b[0;32m    205\u001b[0m     \u001b[39mreturn\u001b[39;00m ba\u001b[39m.\u001b[39margs, ba\u001b[39m.\u001b[39mkwargs\n",
      "File \u001b[1;32mc:\\Python38\\lib\\inspect.py:3025\u001b[0m, in \u001b[0;36mSignature.bind\u001b[1;34m(self, *args, **kwargs)\u001b[0m\n\u001b[0;32m   3020\u001b[0m \u001b[39mdef\u001b[39;00m \u001b[39mbind\u001b[39m(\u001b[39mself\u001b[39m, \u001b[39m/\u001b[39m, \u001b[39m*\u001b[39margs, \u001b[39m*\u001b[39m\u001b[39m*\u001b[39mkwargs):\n\u001b[0;32m   3021\u001b[0m     \u001b[39m\"\"\"Get a BoundArguments object, that maps the passed `args`\u001b[39;00m\n\u001b[0;32m   3022\u001b[0m \u001b[39m    and `kwargs` to the function's signature.  Raises `TypeError`\u001b[39;00m\n\u001b[0;32m   3023\u001b[0m \u001b[39m    if the passed arguments can not be bound.\u001b[39;00m\n\u001b[0;32m   3024\u001b[0m \u001b[39m    \"\"\"\u001b[39;00m\n\u001b[1;32m-> 3025\u001b[0m     \u001b[39mreturn\u001b[39;00m \u001b[39mself\u001b[39;49m\u001b[39m.\u001b[39;49m_bind(args, kwargs)\n",
      "File \u001b[1;32mc:\\Python38\\lib\\inspect.py:3014\u001b[0m, in \u001b[0;36mSignature._bind\u001b[1;34m(self, args, kwargs, partial)\u001b[0m\n\u001b[0;32m   3012\u001b[0m         arguments[kwargs_param\u001b[39m.\u001b[39mname] \u001b[39m=\u001b[39m kwargs\n\u001b[0;32m   3013\u001b[0m     \u001b[39melse\u001b[39;00m:\n\u001b[1;32m-> 3014\u001b[0m         \u001b[39mraise\u001b[39;00m \u001b[39mTypeError\u001b[39;00m(\n\u001b[0;32m   3015\u001b[0m             \u001b[39m'\u001b[39m\u001b[39mgot an unexpected keyword argument \u001b[39m\u001b[39m{arg!r}\u001b[39;00m\u001b[39m'\u001b[39m\u001b[39m.\u001b[39mformat(\n\u001b[0;32m   3016\u001b[0m                 arg\u001b[39m=\u001b[39m\u001b[39mnext\u001b[39m(\u001b[39miter\u001b[39m(kwargs))))\n\u001b[0;32m   3018\u001b[0m \u001b[39mreturn\u001b[39;00m \u001b[39mself\u001b[39m\u001b[39m.\u001b[39m_bound_arguments_cls(\u001b[39mself\u001b[39m, arguments)\n",
      "\u001b[1;31mTypeError\u001b[0m: got an unexpected keyword argument 'batch_shape'"
     ]
    }
   ],
   "source": [
    "# Define scale linear operator transformed distribution with a batch and event shape\n",
    "\n",
    "mvn = tfd.TransformedDistribution(normal, scale_lin_op, batch_shape=2, event_shape=4)\n",
    "print(mvn)"
   ]
  },
  {
   "cell_type": "code",
   "execution_count": 48,
   "metadata": {},
   "outputs": [
    {
     "name": "stdout",
     "output_type": "stream",
     "text": [
      "batch shape:  (2,)\n",
      "event shape:  ()\n"
     ]
    }
   ],
   "source": [
    "# Display event and batch shape\n",
    "\n",
    "print('batch shape: ', mvn.batch_shape)\n",
    "print('event shape: ', mvn.event_shape)"
   ]
  },
  {
   "cell_type": "code",
   "execution_count": 49,
   "metadata": {},
   "outputs": [
    {
     "ename": "ValueError",
     "evalue": "Dimensions 4 and 2 are not compatible",
     "output_type": "error",
     "traceback": [
      "\u001b[1;31m---------------------------------------------------------------------------\u001b[0m",
      "\u001b[1;31mValueError\u001b[0m                                Traceback (most recent call last)",
      "\u001b[1;32md:\\GitHub\\Coursera\\Tensorflow2forDeepLearning\\ProbabilisticDeepLearningwithTensorFlow2\\Week3\\Coding Tutorial.ipynb Cell 57\u001b[0m in \u001b[0;36m<cell line: 3>\u001b[1;34m()\u001b[0m\n\u001b[0;32m      <a href='vscode-notebook-cell:/d%3A/GitHub/Coursera/Tensorflow2forDeepLearning/ProbabilisticDeepLearningwithTensorFlow2/Week3/Coding%20Tutorial.ipynb#Y110sZmlsZQ%3D%3D?line=0'>1</a>\u001b[0m \u001b[39m# Sample\u001b[39;00m\n\u001b[1;32m----> <a href='vscode-notebook-cell:/d%3A/GitHub/Coursera/Tensorflow2forDeepLearning/ProbabilisticDeepLearningwithTensorFlow2/Week3/Coding%20Tutorial.ipynb#Y110sZmlsZQ%3D%3D?line=2'>3</a>\u001b[0m y1 \u001b[39m=\u001b[39m mvn\u001b[39m.\u001b[39;49msample(sample_shape\u001b[39m=\u001b[39;49m(n,))\n\u001b[0;32m      <a href='vscode-notebook-cell:/d%3A/GitHub/Coursera/Tensorflow2forDeepLearning/ProbabilisticDeepLearningwithTensorFlow2/Week3/Coding%20Tutorial.ipynb#Y110sZmlsZQ%3D%3D?line=3'>4</a>\u001b[0m \u001b[39mprint\u001b[39m(y1\u001b[39m.\u001b[39mshape)\n",
      "File \u001b[1;32mc:\\Python38\\lib\\site-packages\\tensorflow_probability\\python\\distributions\\distribution.py:1205\u001b[0m, in \u001b[0;36mDistribution.sample\u001b[1;34m(self, sample_shape, seed, name, **kwargs)\u001b[0m\n\u001b[0;32m   1190\u001b[0m \u001b[39m\"\"\"Generate samples of the specified shape.\u001b[39;00m\n\u001b[0;32m   1191\u001b[0m \n\u001b[0;32m   1192\u001b[0m \u001b[39mNote that a call to `sample()` without arguments will generate a single\u001b[39;00m\n\u001b[1;32m   (...)\u001b[0m\n\u001b[0;32m   1202\u001b[0m \u001b[39m  samples: a `Tensor` with prepended dimensions `sample_shape`.\u001b[39;00m\n\u001b[0;32m   1203\u001b[0m \u001b[39m\"\"\"\u001b[39;00m\n\u001b[0;32m   1204\u001b[0m \u001b[39mwith\u001b[39;00m \u001b[39mself\u001b[39m\u001b[39m.\u001b[39m_name_and_control_scope(name):\n\u001b[1;32m-> 1205\u001b[0m   \u001b[39mreturn\u001b[39;00m \u001b[39mself\u001b[39;49m\u001b[39m.\u001b[39;49m_call_sample_n(sample_shape, seed, \u001b[39m*\u001b[39;49m\u001b[39m*\u001b[39;49mkwargs)\n",
      "File \u001b[1;32mc:\\Python38\\lib\\site-packages\\tensorflow_probability\\python\\distributions\\transformed_distribution.py:338\u001b[0m, in \u001b[0;36m_TransformedDistribution._call_sample_n\u001b[1;34m(self, sample_shape, seed, **kwargs)\u001b[0m\n\u001b[0;32m    333\u001b[0m x \u001b[39m=\u001b[39m \u001b[39mself\u001b[39m\u001b[39m.\u001b[39m_maybe_broadcast_distribution_batch_shape()\u001b[39m.\u001b[39msample(\n\u001b[0;32m    334\u001b[0m     sample_shape\u001b[39m=\u001b[39msample_shape, seed\u001b[39m=\u001b[39mseed, \u001b[39m*\u001b[39m\u001b[39m*\u001b[39mdistribution_kwargs)\n\u001b[0;32m    335\u001b[0m \u001b[39m# Apply the bijector's forward transformation. For caching to\u001b[39;00m\n\u001b[0;32m    336\u001b[0m \u001b[39m# work, it is imperative that this is the last modification to the\u001b[39;00m\n\u001b[0;32m    337\u001b[0m \u001b[39m# returned result.\u001b[39;00m\n\u001b[1;32m--> 338\u001b[0m \u001b[39mreturn\u001b[39;00m \u001b[39mself\u001b[39;49m\u001b[39m.\u001b[39;49mbijector\u001b[39m.\u001b[39;49mforward(x, \u001b[39m*\u001b[39;49m\u001b[39m*\u001b[39;49mbijector_kwargs)\n",
      "File \u001b[1;32mc:\\Python38\\lib\\site-packages\\tensorflow_probability\\python\\bijectors\\bijector.py:1326\u001b[0m, in \u001b[0;36mBijector.forward\u001b[1;34m(self, x, name, **kwargs)\u001b[0m\n\u001b[0;32m   1310\u001b[0m \u001b[39mdef\u001b[39;00m \u001b[39mforward\u001b[39m(\u001b[39mself\u001b[39m, x, name\u001b[39m=\u001b[39m\u001b[39m'\u001b[39m\u001b[39mforward\u001b[39m\u001b[39m'\u001b[39m, \u001b[39m*\u001b[39m\u001b[39m*\u001b[39mkwargs):\n\u001b[0;32m   1311\u001b[0m   \u001b[39m\"\"\"Returns the forward `Bijector` evaluation, i.e., X = g(Y).\u001b[39;00m\n\u001b[0;32m   1312\u001b[0m \n\u001b[0;32m   1313\u001b[0m \u001b[39m  Args:\u001b[39;00m\n\u001b[1;32m   (...)\u001b[0m\n\u001b[0;32m   1324\u001b[0m \u001b[39m    NotImplementedError: if `_forward` is not implemented.\u001b[39;00m\n\u001b[0;32m   1325\u001b[0m \u001b[39m  \"\"\"\u001b[39;00m\n\u001b[1;32m-> 1326\u001b[0m   \u001b[39mreturn\u001b[39;00m \u001b[39mself\u001b[39;49m\u001b[39m.\u001b[39;49m_call_forward(x, name, \u001b[39m*\u001b[39;49m\u001b[39m*\u001b[39;49mkwargs)\n",
      "File \u001b[1;32mc:\\Python38\\lib\\site-packages\\tensorflow_probability\\python\\bijectors\\bijector.py:1308\u001b[0m, in \u001b[0;36mBijector._call_forward\u001b[1;34m(self, x, name, **kwargs)\u001b[0m\n\u001b[0;32m   1306\u001b[0m \u001b[39mif\u001b[39;00m \u001b[39mnot\u001b[39;00m \u001b[39mself\u001b[39m\u001b[39m.\u001b[39m_is_injective:  \u001b[39m# No caching for non-injective\u001b[39;00m\n\u001b[0;32m   1307\u001b[0m   \u001b[39mreturn\u001b[39;00m \u001b[39mself\u001b[39m\u001b[39m.\u001b[39m_forward(x, \u001b[39m*\u001b[39m\u001b[39m*\u001b[39mkwargs)\n\u001b[1;32m-> 1308\u001b[0m \u001b[39mreturn\u001b[39;00m \u001b[39mself\u001b[39;49m\u001b[39m.\u001b[39;49m_cache\u001b[39m.\u001b[39;49mforward(x, \u001b[39m*\u001b[39;49m\u001b[39m*\u001b[39;49mkwargs)\n",
      "File \u001b[1;32mc:\\Python38\\lib\\site-packages\\tensorflow_probability\\python\\internal\\cache_util.py:334\u001b[0m, in \u001b[0;36mBijectorCache.forward\u001b[1;34m(self, x, **kwargs)\u001b[0m\n\u001b[0;32m    323\u001b[0m \u001b[39mdef\u001b[39;00m \u001b[39mforward\u001b[39m(\u001b[39mself\u001b[39m, x, \u001b[39m*\u001b[39m\u001b[39m*\u001b[39mkwargs):\n\u001b[0;32m    324\u001b[0m   \u001b[39m\"\"\"Invokes the 'forward' transformation, or looks up previous results.\u001b[39;00m\n\u001b[0;32m    325\u001b[0m \n\u001b[0;32m    326\u001b[0m \u001b[39m  Args:\u001b[39;00m\n\u001b[1;32m   (...)\u001b[0m\n\u001b[0;32m    332\u001b[0m \u001b[39m    The output of the bijector's `_forward` method, or a cached result.\u001b[39;00m\n\u001b[0;32m    333\u001b[0m \u001b[39m  \"\"\"\u001b[39;00m\n\u001b[1;32m--> 334\u001b[0m   \u001b[39mreturn\u001b[39;00m \u001b[39mself\u001b[39;49m\u001b[39m.\u001b[39;49m_lookup(x, \u001b[39mself\u001b[39;49m\u001b[39m.\u001b[39;49m_forward_name, \u001b[39mself\u001b[39;49m\u001b[39m.\u001b[39;49m_inverse_name, \u001b[39m*\u001b[39;49m\u001b[39m*\u001b[39;49mkwargs)\n",
      "File \u001b[1;32mc:\\Python38\\lib\\site-packages\\tensorflow_probability\\python\\internal\\cache_util.py:493\u001b[0m, in \u001b[0;36mBijectorCache._lookup\u001b[1;34m(self, input, forward_name, inverse_name, **kwargs)\u001b[0m\n\u001b[0;32m    487\u001b[0m   output \u001b[39m=\u001b[39m output_ref()\n\u001b[0;32m    488\u001b[0m \u001b[39melse\u001b[39;00m:\n\u001b[0;32m    489\u001b[0m   \u001b[39m# Get the output structure, and declare a\u001b[39;00m\n\u001b[0;32m    490\u001b[0m   \u001b[39m# weakref to clear it from the cache once it gets GCed\u001b[39;00m\n\u001b[0;32m    491\u001b[0m   output \u001b[39m=\u001b[39m nest\u001b[39m.\u001b[39mmap_structure(\n\u001b[0;32m    492\u001b[0m       _containerize,\n\u001b[1;32m--> 493\u001b[0m       \u001b[39mself\u001b[39;49m\u001b[39m.\u001b[39;49m_invoke(\u001b[39minput\u001b[39;49m, forward_name, kwargs, attrs))\n\u001b[0;32m    494\u001b[0m   output_ref \u001b[39m=\u001b[39m WeakStructRef(\n\u001b[0;32m    495\u001b[0m       output,\n\u001b[0;32m    496\u001b[0m       subkey\u001b[39m=\u001b[39m(\u001b[39mself\u001b[39m\u001b[39m.\u001b[39mbijector, \u001b[39mself\u001b[39m\u001b[39m.\u001b[39mbijector_class, inverse_name, kwargs),\n\u001b[0;32m    497\u001b[0m       callback\u001b[39m=\u001b[39m\u001b[39mself\u001b[39m\u001b[39m.\u001b[39mstorage\u001b[39m.\u001b[39mmaybe_del)\n\u001b[0;32m    498\u001b[0m   \u001b[39m# Set the input->output mapping.\u001b[39;00m\n",
      "File \u001b[1;32mc:\\Python38\\lib\\site-packages\\tensorflow_probability\\python\\internal\\cache_util.py:532\u001b[0m, in \u001b[0;36mBijectorCache._invoke\u001b[1;34m(self, input, fn_name, kwargs, attributes)\u001b[0m\n\u001b[0;32m    530\u001b[0m \u001b[39mdef\u001b[39;00m \u001b[39m_invoke\u001b[39m(\u001b[39mself\u001b[39m, \u001b[39minput\u001b[39m, fn_name, kwargs, attributes):  \u001b[39m# pylint: disable=unused-argument\u001b[39;00m\n\u001b[0;32m    531\u001b[0m   \u001b[39m\"\"\"Invokes the wrapped function. Override to customize behavior.\"\"\"\u001b[39;00m\n\u001b[1;32m--> 532\u001b[0m   \u001b[39mreturn\u001b[39;00m \u001b[39mgetattr\u001b[39;49m(\u001b[39mself\u001b[39;49m\u001b[39m.\u001b[39;49mbijector, fn_name)(\u001b[39minput\u001b[39;49m, \u001b[39m*\u001b[39;49m\u001b[39m*\u001b[39;49mkwargs)\n",
      "File \u001b[1;32mc:\\Python38\\lib\\site-packages\\tensorflow_probability\\python\\bijectors\\scale_matvec_linear_operator.py:51\u001b[0m, in \u001b[0;36m_ScaleMatvecLinearOperatorBase._forward\u001b[1;34m(self, x)\u001b[0m\n\u001b[0;32m     50\u001b[0m \u001b[39mdef\u001b[39;00m \u001b[39m_forward\u001b[39m(\u001b[39mself\u001b[39m, x):\n\u001b[1;32m---> 51\u001b[0m   \u001b[39mreturn\u001b[39;00m \u001b[39mself\u001b[39;49m\u001b[39m.\u001b[39;49mscale\u001b[39m.\u001b[39;49mmatvec(x, adjoint\u001b[39m=\u001b[39;49m\u001b[39mself\u001b[39;49m\u001b[39m.\u001b[39;49madjoint)\n",
      "File \u001b[1;32mc:\\Python38\\lib\\site-packages\\tensorflow\\python\\ops\\linalg\\linear_operator.py:729\u001b[0m, in \u001b[0;36mLinearOperator.matvec\u001b[1;34m(self, x, adjoint, name)\u001b[0m\n\u001b[0;32m    727\u001b[0m \u001b[39mself\u001b[39m\u001b[39m.\u001b[39m_check_input_dtype(x)\n\u001b[0;32m    728\u001b[0m self_dim \u001b[39m=\u001b[39m \u001b[39m-\u001b[39m\u001b[39m2\u001b[39m \u001b[39mif\u001b[39;00m adjoint \u001b[39melse\u001b[39;00m \u001b[39m-\u001b[39m\u001b[39m1\u001b[39m\n\u001b[1;32m--> 729\u001b[0m tensor_shape\u001b[39m.\u001b[39;49mdimension_at_index(\n\u001b[0;32m    730\u001b[0m     \u001b[39mself\u001b[39;49m\u001b[39m.\u001b[39;49mshape, self_dim)\u001b[39m.\u001b[39;49massert_is_compatible_with(x\u001b[39m.\u001b[39;49mshape[\u001b[39m-\u001b[39;49m\u001b[39m1\u001b[39;49m])\n\u001b[0;32m    731\u001b[0m \u001b[39mreturn\u001b[39;00m \u001b[39mself\u001b[39m\u001b[39m.\u001b[39m_matvec(x, adjoint\u001b[39m=\u001b[39madjoint)\n",
      "File \u001b[1;32mc:\\Python38\\lib\\site-packages\\tensorflow\\python\\framework\\tensor_shape.py:297\u001b[0m, in \u001b[0;36mDimension.assert_is_compatible_with\u001b[1;34m(self, other)\u001b[0m\n\u001b[0;32m    287\u001b[0m \u001b[39m\"\"\"Raises an exception if `other` is not compatible with this Dimension.\u001b[39;00m\n\u001b[0;32m    288\u001b[0m \n\u001b[0;32m    289\u001b[0m \u001b[39mArgs:\u001b[39;00m\n\u001b[1;32m   (...)\u001b[0m\n\u001b[0;32m    294\u001b[0m \u001b[39m    is_compatible_with).\u001b[39;00m\n\u001b[0;32m    295\u001b[0m \u001b[39m\"\"\"\u001b[39;00m\n\u001b[0;32m    296\u001b[0m \u001b[39mif\u001b[39;00m \u001b[39mnot\u001b[39;00m \u001b[39mself\u001b[39m\u001b[39m.\u001b[39mis_compatible_with(other):\n\u001b[1;32m--> 297\u001b[0m   \u001b[39mraise\u001b[39;00m \u001b[39mValueError\u001b[39;00m(\u001b[39m\"\u001b[39m\u001b[39mDimensions \u001b[39m\u001b[39m%s\u001b[39;00m\u001b[39m and \u001b[39m\u001b[39m%s\u001b[39;00m\u001b[39m are not compatible\u001b[39m\u001b[39m\"\u001b[39m \u001b[39m%\u001b[39m\n\u001b[0;32m    298\u001b[0m                    (\u001b[39mself\u001b[39m, other))\n",
      "\u001b[1;31mValueError\u001b[0m: Dimensions 4 and 2 are not compatible"
     ]
    }
   ],
   "source": [
    "# Sample\n",
    "\n",
    "y1 = mvn.sample(sample_shape=(n,))\n",
    "print(y1.shape)"
   ]
  },
  {
   "cell_type": "code",
   "execution_count": null,
   "metadata": {},
   "outputs": [],
   "source": [
    "# Define a MultivariateNormalLinearOperator distribution\n",
    "\n",
    "mvn2 = tfd.MultivariateNormalLinearOperator(loc=0, scale-scale_low_tri)\n",
    "print(mvn2)"
   ]
  },
  {
   "cell_type": "code",
   "execution_count": null,
   "metadata": {},
   "outputs": [],
   "source": [
    "# Display event and batch shape\n",
    "\n",
    "print('batch shape: ', mvn2.batch_shape)\n",
    "print('event shape: ', mvn2.event_shape)"
   ]
  },
  {
   "cell_type": "code",
   "execution_count": null,
   "metadata": {},
   "outputs": [],
   "source": [
    "# Sample\n",
    "\n",
    "y2 = mvn2.sample(sample_shape=(n,))\n",
    "print(y2.shape)"
   ]
  },
  {
   "cell_type": "code",
   "execution_count": null,
   "metadata": {},
   "outputs": [],
   "source": [
    "# Check\n",
    "\n",
    "xn = normal.sample((n,2,4))\n",
    "tf.norm(mvn.log_prob(xn) - mvn2.log_prob(xn))/ tf.norm(mvn.log_prob(xn))"
   ]
  },
  {
   "cell_type": "markdown",
   "metadata": {},
   "source": [
    "***\n",
    "<a id=\"coding_tutorial_3\"></a>\n",
    "## Subclassing bijectors"
   ]
  },
  {
   "cell_type": "code",
   "execution_count": 3,
   "metadata": {},
   "outputs": [],
   "source": [
    "# Define a new bijector: Cubic\n",
    "\n",
    "class Cubic(tfb.Bijector):\n",
    "\n",
    "    def __init__(self, a, b, validate_args=False, name='Cubic'):\n",
    "        self.a = tf.cast(a, tf.float32)\n",
    "        self.b = tf.cast(b, tf.float32)\n",
    "        if validate_args:\n",
    "            assert tf.reduce_mean(tf.cast(tf.math.greater_equal(tf.abs(self.a), 1e-5), tf.float32)) == 1.0\n",
    "            assert tf.reduce_mean(tf.cast(tf.math.greater_equal(tf.abs(self.b), 1e-5), tf.float32)) == 1.0\n",
    "        super(Cubic, self).__init__(\n",
    "            validate_args=validate_args, forward_min_event_ndims=0, name=name)\n",
    "\n",
    "    def _forward(self, x):\n",
    "        x = tf.cast(x, tf.float32)\n",
    "        return tf.squeeze(tf.pow(self.a * x + self.b, 3))\n",
    "\n",
    "    def _inverse(self, y):\n",
    "        y = tf.cast(y, tf.float32)\n",
    "        return(tf.math.sign(y) * tf.pow(tf.abs(y), 1/3) - self.b) / self.a\n",
    "\n",
    "    def _forward_log_det_jacobian(self, x):\n",
    "        x = tf.cast(x, tf.float32)\n",
    "        return tf.math.log(3. * tf.abs(self.a)) + 2. * tf.math.log(tf.abs(self.a * x + self.b))\n",
    "\n",
    "        "
   ]
  },
  {
   "cell_type": "code",
   "execution_count": 4,
   "metadata": {},
   "outputs": [],
   "source": [
    "# Cubic bijector\n",
    "\n",
    "cubic = Cubic([1.0, -2.0], [1.0, 0.4], validate_args=True)"
   ]
  },
  {
   "cell_type": "code",
   "execution_count": 13,
   "metadata": {},
   "outputs": [
    {
     "name": "stdout",
     "output_type": "stream",
     "text": [
      "tf.Tensor(\n",
      "[[   8.        -46.655994]\n",
      " [  64.       -438.97598 ]], shape=(2, 2), dtype=float32)\n"
     ]
    }
   ],
   "source": [
    "# Apply forward transformation\n",
    "\n",
    "x = tf.constant([[1,2], [3,4]])\n",
    "y = cubic.forward(x)\n",
    "print(y)"
   ]
  },
  {
   "cell_type": "code",
   "execution_count": 6,
   "metadata": {},
   "outputs": [
    {
     "data": {
      "text/plain": [
       "0.0"
      ]
     },
     "execution_count": 6,
     "metadata": {},
     "output_type": "execute_result"
    }
   ],
   "source": [
    "# Check inverse\n",
    "\n",
    "np.linalg.norm(x - cubic.inverse(y))"
   ]
  },
  {
   "cell_type": "markdown",
   "metadata": {},
   "source": [
    "#### Function plots"
   ]
  },
  {
   "cell_type": "code",
   "execution_count": 7,
   "metadata": {},
   "outputs": [
    {
     "data": {
      "text/plain": [
       "[<matplotlib.lines.Line2D at 0x1ee86defac0>,\n",
       " <matplotlib.lines.Line2D at 0x1ee86def970>]"
      ]
     },
     "execution_count": 7,
     "metadata": {},
     "output_type": "execute_result"
    },
    {
     "data": {
      "image/png": "[encoded data removed]",
      "text/plain": [
       "<Figure size 432x288 with 1 Axes>"
      ]
     },
     "metadata": {
      "needs_background": "light"
     },
     "output_type": "display_data"
    }
   ],
   "source": [
    "# Plot the forward transformation\n",
    "\n",
    "x = np.linspace(-10, 10, 500).reshape(-1, 1)\n",
    "plt.plot(x, cubic.forward(x))"
   ]
  },
  {
   "cell_type": "code",
   "execution_count": 8,
   "metadata": {},
   "outputs": [
    {
     "name": "stdout",
     "output_type": "stream",
     "text": [
      "(500, 2)\n"
     ]
    }
   ],
   "source": [
    "# Display shape\n",
    "\n",
    "print(cubic.forward(x).shape)"
   ]
  },
  {
   "cell_type": "code",
   "execution_count": 9,
   "metadata": {},
   "outputs": [
    {
     "data": {
      "text/plain": [
       "[<matplotlib.lines.Line2D at 0x1ee88f13400>,\n",
       " <matplotlib.lines.Line2D at 0x1ee88f13610>]"
      ]
     },
     "execution_count": 9,
     "metadata": {},
     "output_type": "execute_result"
    },
    {
     "data": {
      "image/png": "[encoded data removed]",
      "text/plain": [
       "<Figure size 432x288 with 1 Axes>"
      ]
     },
     "metadata": {
      "needs_background": "light"
     },
     "output_type": "display_data"
    }
   ],
   "source": [
    "# Plot the inverse\n",
    "\n",
    "plt.plot(x, cubic.inverse(x))"
   ]
  },
  {
   "cell_type": "code",
   "execution_count": 10,
   "metadata": {},
   "outputs": [
    {
     "data": {
      "text/plain": [
       "[<matplotlib.lines.Line2D at 0x1ee88fbe7f0>,\n",
       " <matplotlib.lines.Line2D at 0x1ee88fbea00>]"
      ]
     },
     "execution_count": 10,
     "metadata": {},
     "output_type": "execute_result"
    },
    {
     "data": {
      "image/png": "[encoded data removed]",
      "text/plain": [
       "<Figure size 432x288 with 1 Axes>"
      ]
     },
     "metadata": {
      "needs_background": "light"
     },
     "output_type": "display_data"
    }
   ],
   "source": [
    "# Plot the forward log Jacobian determinant\n",
    "\n",
    "plt.plot(x, cubic.forward_log_det_jacobian(x,event_ndims=0))"
   ]
  },
  {
   "cell_type": "code",
   "execution_count": 11,
   "metadata": {},
   "outputs": [
    {
     "data": {
      "text/plain": [
       "[<matplotlib.lines.Line2D at 0x1ee85b6fca0>,\n",
       " <matplotlib.lines.Line2D at 0x1ee8902d8e0>]"
      ]
     },
     "execution_count": 11,
     "metadata": {},
     "output_type": "execute_result"
    },
    {
     "data": {
      "image/png": "[encoded data removed]",
      "text/plain": [
       "<Figure size 432x288 with 1 Axes>"
      ]
     },
     "metadata": {
      "needs_background": "light"
     },
     "output_type": "display_data"
    }
   ],
   "source": [
    "# Plot the inverse log Jacobian determinant\n",
    "\n",
    "plt.plot(x, cubic.inverse_log_det_jacobian(x,event_ndims=0))"
   ]
  },
  {
   "cell_type": "markdown",
   "metadata": {},
   "source": [
    "#### TransformedDistribution and plots"
   ]
  },
  {
   "cell_type": "code",
   "execution_count": 14,
   "metadata": {},
   "outputs": [
    {
     "ename": "TypeError",
     "evalue": "got an unexpected keyword argument 'event_shape'",
     "output_type": "error",
     "traceback": [
      "\u001b[1;31m---------------------------------------------------------------------------\u001b[0m",
      "\u001b[1;31mTypeError\u001b[0m                                 Traceback (most recent call last)",
      "\u001b[1;32md:\\GitHub\\Coursera\\Tensorflow2forDeepLearning\\ProbabilisticDeepLearningwithTensorFlow2\\Week3\\Coding Tutorial.ipynb Cell 74\u001b[0m in \u001b[0;36m<cell line: 4>\u001b[1;34m()\u001b[0m\n\u001b[0;32m      <a href='vscode-notebook-cell:/d%3A/GitHub/Coursera/Tensorflow2forDeepLearning/ProbabilisticDeepLearningwithTensorFlow2/Week3/Coding%20Tutorial.ipynb#Y133sZmlsZQ%3D%3D?line=0'>1</a>\u001b[0m \u001b[39m# Create a transformed distribution with Cubic\u001b[39;00m\n\u001b[0;32m      <a href='vscode-notebook-cell:/d%3A/GitHub/Coursera/Tensorflow2forDeepLearning/ProbabilisticDeepLearningwithTensorFlow2/Week3/Coding%20Tutorial.ipynb#Y133sZmlsZQ%3D%3D?line=2'>3</a>\u001b[0m normal \u001b[39m=\u001b[39m tfd\u001b[39m.\u001b[39mNormal(loc\u001b[39m=\u001b[39m\u001b[39m0.\u001b[39m, scale\u001b[39m=\u001b[39m\u001b[39m1\u001b[39m)\n\u001b[1;32m----> <a href='vscode-notebook-cell:/d%3A/GitHub/Coursera/Tensorflow2forDeepLearning/ProbabilisticDeepLearningwithTensorFlow2/Week3/Coding%20Tutorial.ipynb#Y133sZmlsZQ%3D%3D?line=3'>4</a>\u001b[0m cubed_normal \u001b[39m=\u001b[39m tfd\u001b[39m.\u001b[39;49mTransformedDistribution(normal, cubic, event_shape\u001b[39m=\u001b[39;49m[\u001b[39m2\u001b[39;49m])\n",
      "File \u001b[1;32mc:\\Python38\\lib\\site-packages\\tensorflow_probability\\python\\distributions\\transformed_distribution.py:689\u001b[0m, in \u001b[0;36mTransformedDistribution.__new__\u001b[1;34m(cls, *args, **kwargs)\u001b[0m\n\u001b[0;32m    685\u001b[0m     bijector \u001b[39m=\u001b[39m kwargs\u001b[39m.\u001b[39mget(\u001b[39m'\u001b[39m\u001b[39mbijector\u001b[39m\u001b[39m'\u001b[39m)\n\u001b[0;32m    687\u001b[0m   \u001b[39mif\u001b[39;00m \u001b[39mnot\u001b[39;00m (\u001b[39misinstance\u001b[39m(distribution, tf\u001b[39m.\u001b[39m__internal__\u001b[39m.\u001b[39mCompositeTensor)\n\u001b[0;32m    688\u001b[0m           \u001b[39mand\u001b[39;00m \u001b[39misinstance\u001b[39m(bijector, tf\u001b[39m.\u001b[39m__internal__\u001b[39m.\u001b[39mCompositeTensor)):\n\u001b[1;32m--> 689\u001b[0m     \u001b[39mreturn\u001b[39;00m _TransformedDistribution(\u001b[39m*\u001b[39;49margs, \u001b[39m*\u001b[39;49m\u001b[39m*\u001b[39;49mkwargs)\n\u001b[0;32m    690\u001b[0m \u001b[39mreturn\u001b[39;00m \u001b[39msuper\u001b[39m(TransformedDistribution, \u001b[39mcls\u001b[39m)\u001b[39m.\u001b[39m\u001b[39m__new__\u001b[39m(\u001b[39mcls\u001b[39m)\n",
      "File \u001b[1;32mc:\\Python38\\lib\\site-packages\\decorator.py:231\u001b[0m, in \u001b[0;36mdecorate.<locals>.fun\u001b[1;34m(*args, **kw)\u001b[0m\n\u001b[0;32m    229\u001b[0m \u001b[39mdef\u001b[39;00m \u001b[39mfun\u001b[39m(\u001b[39m*\u001b[39margs, \u001b[39m*\u001b[39m\u001b[39m*\u001b[39mkw):\n\u001b[0;32m    230\u001b[0m     \u001b[39mif\u001b[39;00m \u001b[39mnot\u001b[39;00m kwsyntax:\n\u001b[1;32m--> 231\u001b[0m         args, kw \u001b[39m=\u001b[39m fix(args, kw, sig)\n\u001b[0;32m    232\u001b[0m     \u001b[39mreturn\u001b[39;00m caller(func, \u001b[39m*\u001b[39m(extras \u001b[39m+\u001b[39m args), \u001b[39m*\u001b[39m\u001b[39m*\u001b[39mkw)\n",
      "File \u001b[1;32mc:\\Python38\\lib\\site-packages\\decorator.py:203\u001b[0m, in \u001b[0;36mfix\u001b[1;34m(args, kwargs, sig)\u001b[0m\n\u001b[0;32m    199\u001b[0m \u001b[39mdef\u001b[39;00m \u001b[39mfix\u001b[39m(args, kwargs, sig):\n\u001b[0;32m    200\u001b[0m     \u001b[39m\"\"\"\u001b[39;00m\n\u001b[0;32m    201\u001b[0m \u001b[39m    Fix args and kwargs to be consistent with the signature\u001b[39;00m\n\u001b[0;32m    202\u001b[0m \u001b[39m    \"\"\"\u001b[39;00m\n\u001b[1;32m--> 203\u001b[0m     ba \u001b[39m=\u001b[39m sig\u001b[39m.\u001b[39;49mbind(\u001b[39m*\u001b[39;49margs, \u001b[39m*\u001b[39;49m\u001b[39m*\u001b[39;49mkwargs)\n\u001b[0;32m    204\u001b[0m     ba\u001b[39m.\u001b[39mapply_defaults()  \u001b[39m# needed for test_dan_schult\u001b[39;00m\n\u001b[0;32m    205\u001b[0m     \u001b[39mreturn\u001b[39;00m ba\u001b[39m.\u001b[39margs, ba\u001b[39m.\u001b[39mkwargs\n",
      "File \u001b[1;32mc:\\Python38\\lib\\inspect.py:3025\u001b[0m, in \u001b[0;36mSignature.bind\u001b[1;34m(self, *args, **kwargs)\u001b[0m\n\u001b[0;32m   3020\u001b[0m \u001b[39mdef\u001b[39;00m \u001b[39mbind\u001b[39m(\u001b[39mself\u001b[39m, \u001b[39m/\u001b[39m, \u001b[39m*\u001b[39margs, \u001b[39m*\u001b[39m\u001b[39m*\u001b[39mkwargs):\n\u001b[0;32m   3021\u001b[0m     \u001b[39m\"\"\"Get a BoundArguments object, that maps the passed `args`\u001b[39;00m\n\u001b[0;32m   3022\u001b[0m \u001b[39m    and `kwargs` to the function's signature.  Raises `TypeError`\u001b[39;00m\n\u001b[0;32m   3023\u001b[0m \u001b[39m    if the passed arguments can not be bound.\u001b[39;00m\n\u001b[0;32m   3024\u001b[0m \u001b[39m    \"\"\"\u001b[39;00m\n\u001b[1;32m-> 3025\u001b[0m     \u001b[39mreturn\u001b[39;00m \u001b[39mself\u001b[39;49m\u001b[39m.\u001b[39;49m_bind(args, kwargs)\n",
      "File \u001b[1;32mc:\\Python38\\lib\\inspect.py:3014\u001b[0m, in \u001b[0;36mSignature._bind\u001b[1;34m(self, args, kwargs, partial)\u001b[0m\n\u001b[0;32m   3012\u001b[0m         arguments[kwargs_param\u001b[39m.\u001b[39mname] \u001b[39m=\u001b[39m kwargs\n\u001b[0;32m   3013\u001b[0m     \u001b[39melse\u001b[39;00m:\n\u001b[1;32m-> 3014\u001b[0m         \u001b[39mraise\u001b[39;00m \u001b[39mTypeError\u001b[39;00m(\n\u001b[0;32m   3015\u001b[0m             \u001b[39m'\u001b[39m\u001b[39mgot an unexpected keyword argument \u001b[39m\u001b[39m{arg!r}\u001b[39;00m\u001b[39m'\u001b[39m\u001b[39m.\u001b[39mformat(\n\u001b[0;32m   3016\u001b[0m                 arg\u001b[39m=\u001b[39m\u001b[39mnext\u001b[39m(\u001b[39miter\u001b[39m(kwargs))))\n\u001b[0;32m   3018\u001b[0m \u001b[39mreturn\u001b[39;00m \u001b[39mself\u001b[39m\u001b[39m.\u001b[39m_bound_arguments_cls(\u001b[39mself\u001b[39m, arguments)\n",
      "\u001b[1;31mTypeError\u001b[0m: got an unexpected keyword argument 'event_shape'"
     ]
    }
   ],
   "source": [
    "# Create a transformed distribution with Cubic\n",
    "\n",
    "normal = tfd.Normal(loc=0., scale=1)\n",
    "cubed_normal = tfd.TransformedDistribution(normal, cubic, event_shape=[2])"
   ]
  },
  {
   "cell_type": "code",
   "execution_count": 15,
   "metadata": {},
   "outputs": [
    {
     "ename": "NameError",
     "evalue": "name 'cubed_normal' is not defined",
     "output_type": "error",
     "traceback": [
      "\u001b[1;31m---------------------------------------------------------------------------\u001b[0m",
      "\u001b[1;31mNameError\u001b[0m                                 Traceback (most recent call last)",
      "\u001b[1;32md:\\GitHub\\Coursera\\Tensorflow2forDeepLearning\\ProbabilisticDeepLearningwithTensorFlow2\\Week3\\Coding Tutorial.ipynb Cell 75\u001b[0m in \u001b[0;36m<cell line: 4>\u001b[1;34m()\u001b[0m\n\u001b[0;32m      <a href='vscode-notebook-cell:/d%3A/GitHub/Coursera/Tensorflow2forDeepLearning/ProbabilisticDeepLearningwithTensorFlow2/Week3/Coding%20Tutorial.ipynb#Y134sZmlsZQ%3D%3D?line=0'>1</a>\u001b[0m \u001b[39m# Sample cubed_normal\u001b[39;00m\n\u001b[0;32m      <a href='vscode-notebook-cell:/d%3A/GitHub/Coursera/Tensorflow2forDeepLearning/ProbabilisticDeepLearningwithTensorFlow2/Week3/Coding%20Tutorial.ipynb#Y134sZmlsZQ%3D%3D?line=2'>3</a>\u001b[0m n \u001b[39m=\u001b[39m \u001b[39m1000\u001b[39m\n\u001b[1;32m----> <a href='vscode-notebook-cell:/d%3A/GitHub/Coursera/Tensorflow2forDeepLearning/ProbabilisticDeepLearningwithTensorFlow2/Week3/Coding%20Tutorial.ipynb#Y134sZmlsZQ%3D%3D?line=3'>4</a>\u001b[0m g \u001b[39m=\u001b[39m cubed_normal\u001b[39m.\u001b[39msample(n)\n\u001b[0;32m      <a href='vscode-notebook-cell:/d%3A/GitHub/Coursera/Tensorflow2forDeepLearning/ProbabilisticDeepLearningwithTensorFlow2/Week3/Coding%20Tutorial.ipynb#Y134sZmlsZQ%3D%3D?line=4'>5</a>\u001b[0m g\u001b[39m.\u001b[39mshape\n",
      "\u001b[1;31mNameError\u001b[0m: name 'cubed_normal' is not defined"
     ]
    }
   ],
   "source": [
    "# Sample cubed_normal\n",
    "\n",
    "n = 1000\n",
    "g = cubed_normal.sample(n)\n",
    "g.shape"
   ]
  },
  {
   "cell_type": "code",
   "execution_count": null,
   "metadata": {},
   "outputs": [],
   "source": [
    "# Plot histograms\n",
    "\n",
    "plt.figure(figsize=(12, 4))\n",
    "plt.subplot(1, 2, 1)\n",
    "plt.hist(g[..., 0], bins=50, density=True)\n",
    "plt.subplot(1, 2, 2)\n",
    "plt.hist(g[..., 1], bins=50, density=True)\n",
    "plt.show()"
   ]
  },
  {
   "cell_type": "code",
   "execution_count": null,
   "metadata": {},
   "outputs": [],
   "source": [
    "# Make contour plot\n",
    "\n",
    "xx = np.linspace(-0.5, 0.5, 100)\n",
    "yy = np.linspace(-0.5, 0.5, 100)\n",
    "X, Y = np.meshgrid(xx, yy)\n",
    "\n",
    "fig,ax=plt.subplots(1,1)\n",
    "Z = cubed_normal.prob(np.dstack((X, Y)))\n",
    "cp = ax.contourf(X, Y, Z)\n",
    "fig.colorbar(cp) # Add a colorbar to a plot\n",
    "ax.set_title('Filled Contours Plot')\n",
    "ax.set_xlabel('x')\n",
    "ax.set_ylabel('y')\n",
    "plt.show()"
   ]
  },
  {
   "cell_type": "code",
   "execution_count": 16,
   "metadata": {},
   "outputs": [
    {
     "ename": "TypeError",
     "evalue": "got an unexpected keyword argument 'event_shape'",
     "output_type": "error",
     "traceback": [
      "\u001b[1;31m---------------------------------------------------------------------------\u001b[0m",
      "\u001b[1;31mTypeError\u001b[0m                                 Traceback (most recent call last)",
      "\u001b[1;32md:\\GitHub\\Coursera\\Tensorflow2forDeepLearning\\ProbabilisticDeepLearningwithTensorFlow2\\Week3\\Coding Tutorial.ipynb Cell 78\u001b[0m in \u001b[0;36m<cell line: 4>\u001b[1;34m()\u001b[0m\n\u001b[0;32m      <a href='vscode-notebook-cell:/d%3A/GitHub/Coursera/Tensorflow2forDeepLearning/ProbabilisticDeepLearningwithTensorFlow2/Week3/Coding%20Tutorial.ipynb#Y140sZmlsZQ%3D%3D?line=0'>1</a>\u001b[0m \u001b[39m# Create a transformed distribution with the inverse of Cube\u001b[39;00m\n\u001b[0;32m      <a href='vscode-notebook-cell:/d%3A/GitHub/Coursera/Tensorflow2forDeepLearning/ProbabilisticDeepLearningwithTensorFlow2/Week3/Coding%20Tutorial.ipynb#Y140sZmlsZQ%3D%3D?line=2'>3</a>\u001b[0m inverse_cubic \u001b[39m=\u001b[39m tfb\u001b[39m.\u001b[39mInvert(cubic)\n\u001b[1;32m----> <a href='vscode-notebook-cell:/d%3A/GitHub/Coursera/Tensorflow2forDeepLearning/ProbabilisticDeepLearningwithTensorFlow2/Week3/Coding%20Tutorial.ipynb#Y140sZmlsZQ%3D%3D?line=3'>4</a>\u001b[0m inv_cubed_normal \u001b[39m=\u001b[39m inverse_cubic(normal, event_shape\u001b[39m=\u001b[39;49m[\u001b[39m2\u001b[39;49m])\n",
      "File \u001b[1;32mc:\\Python38\\lib\\site-packages\\tensorflow_probability\\python\\bijectors\\bijector.py:895\u001b[0m, in \u001b[0;36mBijector.__call__\u001b[1;34m(self, value, name, **kwargs)\u001b[0m\n\u001b[0;32m    892\u001b[0m   \u001b[39mreturn\u001b[39;00m transformed_distribution\u001b[39m.\u001b[39mTransformedDistribution(\u001b[39m*\u001b[39m\u001b[39m*\u001b[39mnew_kwargs)\n\u001b[0;32m    894\u001b[0m \u001b[39mif\u001b[39;00m \u001b[39misinstance\u001b[39m(value, distribution\u001b[39m.\u001b[39mDistribution):\n\u001b[1;32m--> 895\u001b[0m   \u001b[39mreturn\u001b[39;00m transformed_distribution\u001b[39m.\u001b[39;49mTransformedDistribution(\n\u001b[0;32m    896\u001b[0m       distribution\u001b[39m=\u001b[39;49mvalue,\n\u001b[0;32m    897\u001b[0m       bijector\u001b[39m=\u001b[39;49m\u001b[39mself\u001b[39;49m,\n\u001b[0;32m    898\u001b[0m       name\u001b[39m=\u001b[39;49mname,\n\u001b[0;32m    899\u001b[0m       \u001b[39m*\u001b[39;49m\u001b[39m*\u001b[39;49mkwargs)\n\u001b[0;32m    901\u001b[0m \u001b[39mif\u001b[39;00m \u001b[39misinstance\u001b[39m(value, chain\u001b[39m.\u001b[39mChain):\n\u001b[0;32m    902\u001b[0m   new_kwargs \u001b[39m=\u001b[39m kwargs\u001b[39m.\u001b[39mcopy()\n",
      "File \u001b[1;32mc:\\Python38\\lib\\site-packages\\tensorflow_probability\\python\\distributions\\transformed_distribution.py:689\u001b[0m, in \u001b[0;36mTransformedDistribution.__new__\u001b[1;34m(cls, *args, **kwargs)\u001b[0m\n\u001b[0;32m    685\u001b[0m     bijector \u001b[39m=\u001b[39m kwargs\u001b[39m.\u001b[39mget(\u001b[39m'\u001b[39m\u001b[39mbijector\u001b[39m\u001b[39m'\u001b[39m)\n\u001b[0;32m    687\u001b[0m   \u001b[39mif\u001b[39;00m \u001b[39mnot\u001b[39;00m (\u001b[39misinstance\u001b[39m(distribution, tf\u001b[39m.\u001b[39m__internal__\u001b[39m.\u001b[39mCompositeTensor)\n\u001b[0;32m    688\u001b[0m           \u001b[39mand\u001b[39;00m \u001b[39misinstance\u001b[39m(bijector, tf\u001b[39m.\u001b[39m__internal__\u001b[39m.\u001b[39mCompositeTensor)):\n\u001b[1;32m--> 689\u001b[0m     \u001b[39mreturn\u001b[39;00m _TransformedDistribution(\u001b[39m*\u001b[39;49margs, \u001b[39m*\u001b[39;49m\u001b[39m*\u001b[39;49mkwargs)\n\u001b[0;32m    690\u001b[0m \u001b[39mreturn\u001b[39;00m \u001b[39msuper\u001b[39m(TransformedDistribution, \u001b[39mcls\u001b[39m)\u001b[39m.\u001b[39m\u001b[39m__new__\u001b[39m(\u001b[39mcls\u001b[39m)\n",
      "File \u001b[1;32mc:\\Python38\\lib\\site-packages\\decorator.py:231\u001b[0m, in \u001b[0;36mdecorate.<locals>.fun\u001b[1;34m(*args, **kw)\u001b[0m\n\u001b[0;32m    229\u001b[0m \u001b[39mdef\u001b[39;00m \u001b[39mfun\u001b[39m(\u001b[39m*\u001b[39margs, \u001b[39m*\u001b[39m\u001b[39m*\u001b[39mkw):\n\u001b[0;32m    230\u001b[0m     \u001b[39mif\u001b[39;00m \u001b[39mnot\u001b[39;00m kwsyntax:\n\u001b[1;32m--> 231\u001b[0m         args, kw \u001b[39m=\u001b[39m fix(args, kw, sig)\n\u001b[0;32m    232\u001b[0m     \u001b[39mreturn\u001b[39;00m caller(func, \u001b[39m*\u001b[39m(extras \u001b[39m+\u001b[39m args), \u001b[39m*\u001b[39m\u001b[39m*\u001b[39mkw)\n",
      "File \u001b[1;32mc:\\Python38\\lib\\site-packages\\decorator.py:203\u001b[0m, in \u001b[0;36mfix\u001b[1;34m(args, kwargs, sig)\u001b[0m\n\u001b[0;32m    199\u001b[0m \u001b[39mdef\u001b[39;00m \u001b[39mfix\u001b[39m(args, kwargs, sig):\n\u001b[0;32m    200\u001b[0m     \u001b[39m\"\"\"\u001b[39;00m\n\u001b[0;32m    201\u001b[0m \u001b[39m    Fix args and kwargs to be consistent with the signature\u001b[39;00m\n\u001b[0;32m    202\u001b[0m \u001b[39m    \"\"\"\u001b[39;00m\n\u001b[1;32m--> 203\u001b[0m     ba \u001b[39m=\u001b[39m sig\u001b[39m.\u001b[39;49mbind(\u001b[39m*\u001b[39;49margs, \u001b[39m*\u001b[39;49m\u001b[39m*\u001b[39;49mkwargs)\n\u001b[0;32m    204\u001b[0m     ba\u001b[39m.\u001b[39mapply_defaults()  \u001b[39m# needed for test_dan_schult\u001b[39;00m\n\u001b[0;32m    205\u001b[0m     \u001b[39mreturn\u001b[39;00m ba\u001b[39m.\u001b[39margs, ba\u001b[39m.\u001b[39mkwargs\n",
      "File \u001b[1;32mc:\\Python38\\lib\\inspect.py:3025\u001b[0m, in \u001b[0;36mSignature.bind\u001b[1;34m(self, *args, **kwargs)\u001b[0m\n\u001b[0;32m   3020\u001b[0m \u001b[39mdef\u001b[39;00m \u001b[39mbind\u001b[39m(\u001b[39mself\u001b[39m, \u001b[39m/\u001b[39m, \u001b[39m*\u001b[39margs, \u001b[39m*\u001b[39m\u001b[39m*\u001b[39mkwargs):\n\u001b[0;32m   3021\u001b[0m     \u001b[39m\"\"\"Get a BoundArguments object, that maps the passed `args`\u001b[39;00m\n\u001b[0;32m   3022\u001b[0m \u001b[39m    and `kwargs` to the function's signature.  Raises `TypeError`\u001b[39;00m\n\u001b[0;32m   3023\u001b[0m \u001b[39m    if the passed arguments can not be bound.\u001b[39;00m\n\u001b[0;32m   3024\u001b[0m \u001b[39m    \"\"\"\u001b[39;00m\n\u001b[1;32m-> 3025\u001b[0m     \u001b[39mreturn\u001b[39;00m \u001b[39mself\u001b[39;49m\u001b[39m.\u001b[39;49m_bind(args, kwargs)\n",
      "File \u001b[1;32mc:\\Python38\\lib\\inspect.py:3014\u001b[0m, in \u001b[0;36mSignature._bind\u001b[1;34m(self, args, kwargs, partial)\u001b[0m\n\u001b[0;32m   3012\u001b[0m         arguments[kwargs_param\u001b[39m.\u001b[39mname] \u001b[39m=\u001b[39m kwargs\n\u001b[0;32m   3013\u001b[0m     \u001b[39melse\u001b[39;00m:\n\u001b[1;32m-> 3014\u001b[0m         \u001b[39mraise\u001b[39;00m \u001b[39mTypeError\u001b[39;00m(\n\u001b[0;32m   3015\u001b[0m             \u001b[39m'\u001b[39m\u001b[39mgot an unexpected keyword argument \u001b[39m\u001b[39m{arg!r}\u001b[39;00m\u001b[39m'\u001b[39m\u001b[39m.\u001b[39mformat(\n\u001b[0;32m   3016\u001b[0m                 arg\u001b[39m=\u001b[39m\u001b[39mnext\u001b[39m(\u001b[39miter\u001b[39m(kwargs))))\n\u001b[0;32m   3018\u001b[0m \u001b[39mreturn\u001b[39;00m \u001b[39mself\u001b[39m\u001b[39m.\u001b[39m_bound_arguments_cls(\u001b[39mself\u001b[39m, arguments)\n",
      "\u001b[1;31mTypeError\u001b[0m: got an unexpected keyword argument 'event_shape'"
     ]
    }
   ],
   "source": [
    "# Create a transformed distribution with the inverse of Cube\n",
    "\n",
    "inverse_cubic = tfb.Invert(cubic)\n",
    "inv_cubed_normal = inverse_cubic(normal, event_shape=[2])"
   ]
  },
  {
   "cell_type": "code",
   "execution_count": null,
   "metadata": {},
   "outputs": [],
   "source": [
    "# Samble inv_cubed_normal\n",
    "\n",
    "n = 1000\n",
    "g = inv_cubed_normal.sample(n)\n",
    "g.shape"
   ]
  },
  {
   "cell_type": "code",
   "execution_count": null,
   "metadata": {},
   "outputs": [],
   "source": [
    "# Make contour plot\n",
    "\n",
    "xx = np.linspace(-3.0, 3.0, 100)\n",
    "yy = np.linspace(-2.0, 2.0, 100)\n",
    "X, Y = np.meshgrid(xx, yy)\n",
    "\n",
    "fig,ax=plt.subplots(1,1)\n",
    "Z = inv_cubed_normal.prob(np.dstack((X, Y)))\n",
    "cp = ax.contourf(X, Y, Z)\n",
    "fig.colorbar(cp) # Add a colorbar to a plot\n",
    "ax.set_title('Filled Contours Plot')\n",
    "ax.set_xlabel('x')\n",
    "ax.set_ylabel('y')\n",
    "plt.show()"
   ]
  },
  {
   "cell_type": "code",
   "execution_count": null,
   "metadata": {},
   "outputs": [],
   "source": [
    "# Plot histograms\n",
    "\n",
    "plt.figure(figsize=(12, 4))\n",
    "plt.subplot(1, 2, 1)\n",
    "plt.hist(g[..., 0], bins=50, density=True)\n",
    "plt.subplot(1, 2, 2)\n",
    "plt.hist(g[..., 1], bins=50, density=True)\n",
    "plt.show()"
   ]
  },
  {
   "cell_type": "markdown",
   "metadata": {},
   "source": [
    "#### Training the bijector"
   ]
  },
  {
   "cell_type": "code",
   "execution_count": 17,
   "metadata": {},
   "outputs": [],
   "source": [
    "# Create a mixture of four Gaussians\n",
    "\n",
    "probs = [0.45, 0.55]\n",
    "mix_gauss = tfd.Mixture(cat = tfd.Categorical(probs=probs), components=[tfd.Normal(loc=2.3, scale=0.4), tfd.Normal(loc=-0.8, scale=0.4)])"
   ]
  },
  {
   "cell_type": "code",
   "execution_count": 18,
   "metadata": {},
   "outputs": [
    {
     "name": "stdout",
     "output_type": "stream",
     "text": [
      "TensorSpec(shape=(None,), dtype=tf.float32, name=None)\n",
      "TensorSpec(shape=(None,), dtype=tf.float32, name=None)\n"
     ]
    }
   ],
   "source": [
    "# Create the dataset\n",
    "\n",
    "x_train = mix_gauss.sample(10000)\n",
    "x_train = tf.data.Dataset.from_tensor_slices(x_train)\n",
    "x_train = x_train.batch(128)\n",
    "\n",
    "x_valid = mix_gauss.sample(1000)\n",
    "x_valid = tf.data.Dataset.from_tensor_slices(x_valid)\n",
    "x_valid = x_valid.batch(128)\n",
    "\n",
    "print(x_train.element_spec)\n",
    "print(x_valid.element_spec)"
   ]
  },
  {
   "cell_type": "code",
   "execution_count": 20,
   "metadata": {},
   "outputs": [
    {
     "data": {
      "text/plain": [
       "<function matplotlib.pyplot.show(close=None, block=None)>"
      ]
     },
     "execution_count": 20,
     "metadata": {},
     "output_type": "execute_result"
    },
    {
     "data": {
      "image/png": "[encoded data removed]",
      "text/plain": [
       "<Figure size 432x288 with 1 Axes>"
      ]
     },
     "metadata": {
      "needs_background": "light"
     },
     "output_type": "display_data"
    }
   ],
   "source": [
    "# Plot the data distribution\n",
    "\n",
    "x = np.linspace(-5.0, 5.0, 100)\n",
    "plt.plot(x, mix_gauss.prob(x))\n",
    "plt.title('Data distribution')\n",
    "plt.show"
   ]
  },
  {
   "cell_type": "code",
   "execution_count": 22,
   "metadata": {},
   "outputs": [
    {
     "data": {
      "text/plain": [
       "(<tf.Variable 'Variable:0' shape=() dtype=float32, numpy=0.25>,\n",
       " <tf.Variable 'Variable:0' shape=() dtype=float32, numpy=-0.1>)"
      ]
     },
     "execution_count": 22,
     "metadata": {},
     "output_type": "execute_result"
    }
   ],
   "source": [
    "# Make a trainable bijector\n",
    "\n",
    "trainable_inv_cubic = tfb.Invert(Cubic(tf.Variable(0.25), tf.Variable(-0.1)))\n",
    "trainable_inv_cubic.trainable_variables"
   ]
  },
  {
   "cell_type": "code",
   "execution_count": 23,
   "metadata": {},
   "outputs": [],
   "source": [
    "# Make a trainable transformed distribution\n",
    "\n",
    "trainable_dist = tfd.TransformedDistribution(normal, trainable_inv_cubic)"
   ]
  },
  {
   "cell_type": "code",
   "execution_count": 24,
   "metadata": {},
   "outputs": [
    {
     "data": {
      "text/plain": [
       "<function matplotlib.pyplot.show(close=None, block=None)>"
      ]
     },
     "execution_count": 24,
     "metadata": {},
     "output_type": "execute_result"
    },
    {
     "data": {
      "image/png": "[encoded data removed]",
      "text/plain": [
       "<Figure size 864x288 with 1 Axes>"
      ]
     },
     "metadata": {
      "needs_background": "light"
     },
     "output_type": "display_data"
    }
   ],
   "source": [
    "# Plot the data and learned distributions\n",
    "\n",
    "x = np.linspace(-5.0, 5.0, 100)\n",
    "plt.figure(figsize=(12,4))\n",
    "plt.plot(x, mix_gauss.prob(x), label='data')\n",
    "plt.plot(x, trainable_dist.prob(x), label='trainable')\n",
    "plt.title('Data and trainable distribution')\n",
    "plt.show"
   ]
  },
  {
   "cell_type": "code",
   "execution_count": 25,
   "metadata": {},
   "outputs": [
    {
     "name": "stdout",
     "output_type": "stream",
     "text": [
      "Epoch 0...\n",
      "Epoch 1...\n",
      "Epoch 2...\n",
      "Epoch 3...\n",
      "Epoch 4...\n",
      "Epoch 5...\n",
      "Epoch 6...\n",
      "Epoch 7...\n",
      "Epoch 8...\n",
      "Epoch 9...\n"
     ]
    }
   ],
   "source": [
    "# Train the bijector\n",
    "\n",
    "num_epochs = 10\n",
    "opt = tf.keras.optimizers.Adam()\n",
    "train_losses = []\n",
    "valid_losses = []\n",
    "\n",
    "for epoch in range(num_epochs):\n",
    "    print(\"Epoch {}...\".format(epoch))\n",
    "    train_loss = tf.keras.metrics.Mean()\n",
    "    val_loss = tf.keras.metrics.Mean()\n",
    "    for train_batch in x_train:\n",
    "        with tf.GradientTape() as tape:\n",
    "            tape.watch(trainable_inv_cubic.trainable_variables)\n",
    "            loss = -trainable_dist.log_prob(train_batch)\n",
    "        train_loss(loss)\n",
    "        grads = tape.gradient(loss, trainable_inv_cubic.trainable_variables)\n",
    "        opt.apply_gradients(zip(grads, trainable_inv_cubic.trainable_variables))\n",
    "    train_losses.append(train_loss.result().numpy())\n",
    "        \n",
    "    # Validation\n",
    "    for valid_batch in x_valid:\n",
    "        loss = -trainable_dist.log_prob(valid_batch)\n",
    "        val_loss(loss)\n",
    "    valid_losses.append(val_loss.result().numpy())"
   ]
  },
  {
   "cell_type": "code",
   "execution_count": 26,
   "metadata": {},
   "outputs": [
    {
     "data": {
      "image/png": "[encoded data removed]",
      "text/plain": [
       "<Figure size 432x288 with 1 Axes>"
      ]
     },
     "metadata": {
      "needs_background": "light"
     },
     "output_type": "display_data"
    }
   ],
   "source": [
    "# Plot the learning curves\n",
    "\n",
    "plt.plot(train_losses, label='train')\n",
    "plt.plot(valid_losses, label='valid')\n",
    "plt.legend()\n",
    "plt.xlabel(\"Epochs\")\n",
    "plt.ylabel(\"Negative log likelihood\")\n",
    "plt.title(\"Training and validation loss curves\")\n",
    "plt.show()"
   ]
  },
  {
   "cell_type": "code",
   "execution_count": 27,
   "metadata": {},
   "outputs": [
    {
     "data": {
      "text/plain": [
       "<function matplotlib.pyplot.show(close=None, block=None)>"
      ]
     },
     "execution_count": 27,
     "metadata": {},
     "output_type": "execute_result"
    },
    {
     "data": {
      "image/png": "[encoded data removed]",
      "text/plain": [
       "<Figure size 864x288 with 1 Axes>"
      ]
     },
     "metadata": {
      "needs_background": "light"
     },
     "output_type": "display_data"
    }
   ],
   "source": [
    "# Plot the data and learned distributions\n",
    "\n",
    "x = np.linspace(-5.0, 5.0, 100)\n",
    "plt.figure(figsize=(12,4))\n",
    "plt.plot(x, mix_gauss.prob(x), label='data')\n",
    "plt.plot(x, trainable_dist.prob(x), label='learned')\n",
    "plt.title('Data and learned distribution')\n",
    "plt.show"
   ]
  },
  {
   "cell_type": "code",
   "execution_count": 28,
   "metadata": {},
   "outputs": [
    {
     "data": {
      "text/plain": [
       "(<tf.Variable 'Variable:0' shape=() dtype=float32, numpy=0.5663646>,\n",
       " <tf.Variable 'Variable:0' shape=() dtype=float32, numpy=-0.425058>)"
      ]
     },
     "execution_count": 28,
     "metadata": {},
     "output_type": "execute_result"
    }
   ],
   "source": [
    "# Display trainable variables\n",
    "\n",
    "trainable_inv_cubic.trainable_variables"
   ]
  },
  {
   "cell_type": "markdown",
   "metadata": {},
   "source": [
    "***\n",
    "<a id=\"coding_tutorial_4\"></a>\n",
    "## Normalising flows"
   ]
  },
  {
   "cell_type": "code",
   "execution_count": 29,
   "metadata": {},
   "outputs": [],
   "source": [
    "# Load dataset\n",
    "\n",
    "from sklearn import datasets\n",
    "from sklearn.preprocessing import StandardScaler\n",
    "n_samples = 1000\n",
    "noisy_moons = datasets.make_moons(n_samples=n_samples, noise=.05)\n",
    "X, y = noisy_moons\n",
    "X_data = StandardScaler().fit_transform(X)\n",
    "xlim, ylim = [-2, 2], [-2, 2]"
   ]
  },
  {
   "cell_type": "code",
   "execution_count": 30,
   "metadata": {},
   "outputs": [
    {
     "name": "stderr",
     "output_type": "stream",
     "text": [
      "C:\\Users\\mgy0003\\AppData\\Local\\Temp\\ipykernel_25440\\835795586.py:3: DeprecationWarning: `np.bool` is a deprecated alias for the builtin `bool`. To silence this warning, use `bool` by itself. Doing this will not modify any behavior and is safe. If you specifically wanted the numpy scalar type, use `np.bool_` here.\n",
      "Deprecated in NumPy 1.20; for more details and guidance: https://numpy.org/devdocs/release/1.20.0-notes.html#deprecations\n",
      "  y_label = y.astype(np.bool)\n"
     ]
    },
    {
     "data": {
      "text/plain": [
       "(-2.0, 2.0)"
      ]
     },
     "execution_count": 30,
     "metadata": {},
     "output_type": "execute_result"
    },
    {
     "data": {
      "image/png": "[encoded data removed]",
      "text/plain": [
       "<Figure size 432x288 with 1 Axes>"
      ]
     },
     "metadata": {
      "needs_background": "light"
     },
     "output_type": "display_data"
    }
   ],
   "source": [
    "# Plot with labels\n",
    "\n",
    "y_label = y.astype(np.bool)\n",
    "X_train, Y_train = X_data[..., 0], X_data[..., 1]\n",
    "plt.scatter(X_train[y_label], Y_train[y_label], s=10, color='blue')\n",
    "plt.scatter(X_train[y_label == False], Y_train[y_label == False], s=10, color='red')\n",
    "plt.legend(['label: 1', 'label: 0'])\n",
    "plt.xlim(xlim)\n",
    "plt.ylim(ylim)"
   ]
  },
  {
   "cell_type": "code",
   "execution_count": 31,
   "metadata": {},
   "outputs": [],
   "source": [
    "# Define base distribution\n",
    "\n",
    "base_distribution = tfd.Normal(loc=0, scale=1)"
   ]
  },
  {
   "cell_type": "code",
   "execution_count": 33,
   "metadata": {},
   "outputs": [
    {
     "ename": "TypeError",
     "evalue": "got an unexpected keyword argument 'event_shape'",
     "output_type": "error",
     "traceback": [
      "\u001b[1;31m---------------------------------------------------------------------------\u001b[0m",
      "\u001b[1;31mTypeError\u001b[0m                                 Traceback (most recent call last)",
      "\u001b[1;32md:\\GitHub\\Coursera\\Tensorflow2forDeepLearning\\ProbabilisticDeepLearningwithTensorFlow2\\Week3\\Coding Tutorial.ipynb Cell 97\u001b[0m in \u001b[0;36m<cell line: 7>\u001b[1;34m()\u001b[0m\n\u001b[0;32m      <a href='vscode-notebook-cell:/d%3A/GitHub/Coursera/Tensorflow2forDeepLearning/ProbabilisticDeepLearningwithTensorFlow2/Week3/Coding%20Tutorial.ipynb#Y165sZmlsZQ%3D%3D?line=3'>4</a>\u001b[0m     made \u001b[39m=\u001b[39m tfb\u001b[39m.\u001b[39mAutoregressiveNetwork(params\u001b[39m=\u001b[39m\u001b[39m2\u001b[39m, event_shape\u001b[39m=\u001b[39m[\u001b[39m2\u001b[39m], hidden_units\u001b[39m=\u001b[39mhidden_units, activation\u001b[39m=\u001b[39mactivation)\n\u001b[0;32m      <a href='vscode-notebook-cell:/d%3A/GitHub/Coursera/Tensorflow2forDeepLearning/ProbabilisticDeepLearningwithTensorFlow2/Week3/Coding%20Tutorial.ipynb#Y165sZmlsZQ%3D%3D?line=4'>5</a>\u001b[0m     \u001b[39mreturn\u001b[39;00m tfb\u001b[39m.\u001b[39mMaskedAutoregressiveFlow(shift_and_log_scale_fn\u001b[39m=\u001b[39mmade)\n\u001b[1;32m----> <a href='vscode-notebook-cell:/d%3A/GitHub/Coursera/Tensorflow2forDeepLearning/ProbabilisticDeepLearningwithTensorFlow2/Week3/Coding%20Tutorial.ipynb#Y165sZmlsZQ%3D%3D?line=6'>7</a>\u001b[0m trainable_distribution \u001b[39m=\u001b[39m tfd\u001b[39m.\u001b[39;49mTransformedDistribution(base_distribution, make_masked_autoregressive_flow(), event_shape\u001b[39m=\u001b[39;49m[\u001b[39m2\u001b[39;49m])\n",
      "File \u001b[1;32mc:\\Python38\\lib\\site-packages\\tensorflow_probability\\python\\distributions\\transformed_distribution.py:689\u001b[0m, in \u001b[0;36mTransformedDistribution.__new__\u001b[1;34m(cls, *args, **kwargs)\u001b[0m\n\u001b[0;32m    685\u001b[0m     bijector \u001b[39m=\u001b[39m kwargs\u001b[39m.\u001b[39mget(\u001b[39m'\u001b[39m\u001b[39mbijector\u001b[39m\u001b[39m'\u001b[39m)\n\u001b[0;32m    687\u001b[0m   \u001b[39mif\u001b[39;00m \u001b[39mnot\u001b[39;00m (\u001b[39misinstance\u001b[39m(distribution, tf\u001b[39m.\u001b[39m__internal__\u001b[39m.\u001b[39mCompositeTensor)\n\u001b[0;32m    688\u001b[0m           \u001b[39mand\u001b[39;00m \u001b[39misinstance\u001b[39m(bijector, tf\u001b[39m.\u001b[39m__internal__\u001b[39m.\u001b[39mCompositeTensor)):\n\u001b[1;32m--> 689\u001b[0m     \u001b[39mreturn\u001b[39;00m _TransformedDistribution(\u001b[39m*\u001b[39;49margs, \u001b[39m*\u001b[39;49m\u001b[39m*\u001b[39;49mkwargs)\n\u001b[0;32m    690\u001b[0m \u001b[39mreturn\u001b[39;00m \u001b[39msuper\u001b[39m(TransformedDistribution, \u001b[39mcls\u001b[39m)\u001b[39m.\u001b[39m\u001b[39m__new__\u001b[39m(\u001b[39mcls\u001b[39m)\n",
      "File \u001b[1;32mc:\\Python38\\lib\\site-packages\\decorator.py:231\u001b[0m, in \u001b[0;36mdecorate.<locals>.fun\u001b[1;34m(*args, **kw)\u001b[0m\n\u001b[0;32m    229\u001b[0m \u001b[39mdef\u001b[39;00m \u001b[39mfun\u001b[39m(\u001b[39m*\u001b[39margs, \u001b[39m*\u001b[39m\u001b[39m*\u001b[39mkw):\n\u001b[0;32m    230\u001b[0m     \u001b[39mif\u001b[39;00m \u001b[39mnot\u001b[39;00m kwsyntax:\n\u001b[1;32m--> 231\u001b[0m         args, kw \u001b[39m=\u001b[39m fix(args, kw, sig)\n\u001b[0;32m    232\u001b[0m     \u001b[39mreturn\u001b[39;00m caller(func, \u001b[39m*\u001b[39m(extras \u001b[39m+\u001b[39m args), \u001b[39m*\u001b[39m\u001b[39m*\u001b[39mkw)\n",
      "File \u001b[1;32mc:\\Python38\\lib\\site-packages\\decorator.py:203\u001b[0m, in \u001b[0;36mfix\u001b[1;34m(args, kwargs, sig)\u001b[0m\n\u001b[0;32m    199\u001b[0m \u001b[39mdef\u001b[39;00m \u001b[39mfix\u001b[39m(args, kwargs, sig):\n\u001b[0;32m    200\u001b[0m     \u001b[39m\"\"\"\u001b[39;00m\n\u001b[0;32m    201\u001b[0m \u001b[39m    Fix args and kwargs to be consistent with the signature\u001b[39;00m\n\u001b[0;32m    202\u001b[0m \u001b[39m    \"\"\"\u001b[39;00m\n\u001b[1;32m--> 203\u001b[0m     ba \u001b[39m=\u001b[39m sig\u001b[39m.\u001b[39;49mbind(\u001b[39m*\u001b[39;49margs, \u001b[39m*\u001b[39;49m\u001b[39m*\u001b[39;49mkwargs)\n\u001b[0;32m    204\u001b[0m     ba\u001b[39m.\u001b[39mapply_defaults()  \u001b[39m# needed for test_dan_schult\u001b[39;00m\n\u001b[0;32m    205\u001b[0m     \u001b[39mreturn\u001b[39;00m ba\u001b[39m.\u001b[39margs, ba\u001b[39m.\u001b[39mkwargs\n",
      "File \u001b[1;32mc:\\Python38\\lib\\inspect.py:3025\u001b[0m, in \u001b[0;36mSignature.bind\u001b[1;34m(self, *args, **kwargs)\u001b[0m\n\u001b[0;32m   3020\u001b[0m \u001b[39mdef\u001b[39;00m \u001b[39mbind\u001b[39m(\u001b[39mself\u001b[39m, \u001b[39m/\u001b[39m, \u001b[39m*\u001b[39margs, \u001b[39m*\u001b[39m\u001b[39m*\u001b[39mkwargs):\n\u001b[0;32m   3021\u001b[0m     \u001b[39m\"\"\"Get a BoundArguments object, that maps the passed `args`\u001b[39;00m\n\u001b[0;32m   3022\u001b[0m \u001b[39m    and `kwargs` to the function's signature.  Raises `TypeError`\u001b[39;00m\n\u001b[0;32m   3023\u001b[0m \u001b[39m    if the passed arguments can not be bound.\u001b[39;00m\n\u001b[0;32m   3024\u001b[0m \u001b[39m    \"\"\"\u001b[39;00m\n\u001b[1;32m-> 3025\u001b[0m     \u001b[39mreturn\u001b[39;00m \u001b[39mself\u001b[39;49m\u001b[39m.\u001b[39;49m_bind(args, kwargs)\n",
      "File \u001b[1;32mc:\\Python38\\lib\\inspect.py:3014\u001b[0m, in \u001b[0;36mSignature._bind\u001b[1;34m(self, args, kwargs, partial)\u001b[0m\n\u001b[0;32m   3012\u001b[0m         arguments[kwargs_param\u001b[39m.\u001b[39mname] \u001b[39m=\u001b[39m kwargs\n\u001b[0;32m   3013\u001b[0m     \u001b[39melse\u001b[39;00m:\n\u001b[1;32m-> 3014\u001b[0m         \u001b[39mraise\u001b[39;00m \u001b[39mTypeError\u001b[39;00m(\n\u001b[0;32m   3015\u001b[0m             \u001b[39m'\u001b[39m\u001b[39mgot an unexpected keyword argument \u001b[39m\u001b[39m{arg!r}\u001b[39;00m\u001b[39m'\u001b[39m\u001b[39m.\u001b[39mformat(\n\u001b[0;32m   3016\u001b[0m                 arg\u001b[39m=\u001b[39m\u001b[39mnext\u001b[39m(\u001b[39miter\u001b[39m(kwargs))))\n\u001b[0;32m   3018\u001b[0m \u001b[39mreturn\u001b[39;00m \u001b[39mself\u001b[39m\u001b[39m.\u001b[39m_bound_arguments_cls(\u001b[39mself\u001b[39m, arguments)\n",
      "\u001b[1;31mTypeError\u001b[0m: got an unexpected keyword argument 'event_shape'"
     ]
    }
   ],
   "source": [
    "# Define the trainable distribution\n",
    "\n",
    "def make_masked_autoregressive_flow(hidden_units=[16, 16], activation='relu'):\n",
    "    made = tfb.AutoregressiveNetwork(params=2, event_shape=[2], hidden_units=hidden_units, activation=activation)\n",
    "    return tfb.MaskedAutoregressiveFlow(shift_and_log_scale_fn=made)\n",
    "\n",
    "trainable_distribution = tfd.TransformedDistribution(base_distribution, make_masked_autoregressive_flow(), event_shape=[2])"
   ]
  },
  {
   "cell_type": "code",
   "execution_count": 34,
   "metadata": {},
   "outputs": [],
   "source": [
    "from mpl_toolkits.axes_grid1 import make_axes_locatable\n",
    "from tensorflow.compat.v1 import logging\n",
    "logging.set_verbosity(logging.ERROR)"
   ]
  },
  {
   "cell_type": "code",
   "execution_count": 35,
   "metadata": {},
   "outputs": [],
   "source": [
    "# Define a plot contour routine\n",
    "\n",
    "def plot_contour_prob(dist, rows=1, title=[''], scale_fig=4):\n",
    "    cols = int(len(dist) / rows)\n",
    "    xx = np.linspace(-5.0, 5.0, 100)\n",
    "    yy = np.linspace(-5.0, 5.0, 100)\n",
    "    X, Y = np.meshgrid(xx, yy)\n",
    "\n",
    "    fig, ax = plt.subplots(rows, cols, figsize=(scale_fig * cols, scale_fig * rows))\n",
    "    fig.tight_layout(pad=4.5)\n",
    "\n",
    "    i = 0\n",
    "    for r in range(rows):\n",
    "        for c in range(cols):\n",
    "            Z = dist[i].prob(np.dstack((X, Y)))\n",
    "            if len(dist) == 1:\n",
    "                axi = ax\n",
    "            elif rows == 1:\n",
    "                axi = ax[c]\n",
    "            else:\n",
    "                axi = ax[r, c]\n",
    "\n",
    "            # Plot contour\n",
    "            p = axi.contourf(X, Y, Z)\n",
    "\n",
    "            # Add a colorbar\n",
    "            divider = make_axes_locatable(axi)\n",
    "            cax = divider.append_axes(\"right\", size=\"5%\", pad=0.1)\n",
    "            cbar = fig.colorbar(p, cax=cax)\n",
    "\n",
    "            # Set title and labels\n",
    "            axi.set_title('Filled Contours Plot: ' + str(title[i]))\n",
    "            axi.set_xlabel('x')\n",
    "            axi.set_ylabel('y')\n",
    "\n",
    "            i += 1\n",
    "    plt.show()"
   ]
  },
  {
   "cell_type": "code",
   "execution_count": 36,
   "metadata": {},
   "outputs": [
    {
     "ename": "TypeError",
     "evalue": "got an unexpected keyword argument 'event_shape'",
     "output_type": "error",
     "traceback": [
      "\u001b[1;31m---------------------------------------------------------------------------\u001b[0m",
      "\u001b[1;31mTypeError\u001b[0m                                 Traceback (most recent call last)",
      "\u001b[1;32md:\\GitHub\\Coursera\\Tensorflow2forDeepLearning\\ProbabilisticDeepLearningwithTensorFlow2\\Week3\\Coding Tutorial.ipynb Cell 100\u001b[0m in \u001b[0;36m<cell line: 4>\u001b[1;34m()\u001b[0m\n\u001b[0;32m      <a href='vscode-notebook-cell:/d%3A/GitHub/Coursera/Tensorflow2forDeepLearning/ProbabilisticDeepLearningwithTensorFlow2/Week3/Coding%20Tutorial.ipynb#Y201sZmlsZQ%3D%3D?line=0'>1</a>\u001b[0m \u001b[39m# Plot contour\u001b[39;00m\n\u001b[0;32m      <a href='vscode-notebook-cell:/d%3A/GitHub/Coursera/Tensorflow2forDeepLearning/ProbabilisticDeepLearningwithTensorFlow2/Week3/Coding%20Tutorial.ipynb#Y201sZmlsZQ%3D%3D?line=2'>3</a>\u001b[0m activation \u001b[39m=\u001b[39m \u001b[39m'\u001b[39m\u001b[39mrelu\u001b[39m\u001b[39m'\u001b[39m\n\u001b[1;32m----> <a href='vscode-notebook-cell:/d%3A/GitHub/Coursera/Tensorflow2forDeepLearning/ProbabilisticDeepLearningwithTensorFlow2/Week3/Coding%20Tutorial.ipynb#Y201sZmlsZQ%3D%3D?line=3'>4</a>\u001b[0m maf \u001b[39m=\u001b[39m tfd\u001b[39m.\u001b[39;49mTransformedDistribution(base_distribution, make_masked_autoregressive_flow(activation\u001b[39m=\u001b[39;49mactivation), event_shape\u001b[39m=\u001b[39;49m[\u001b[39m2\u001b[39;49m])\n",
      "File \u001b[1;32mc:\\Python38\\lib\\site-packages\\tensorflow_probability\\python\\distributions\\transformed_distribution.py:689\u001b[0m, in \u001b[0;36mTransformedDistribution.__new__\u001b[1;34m(cls, *args, **kwargs)\u001b[0m\n\u001b[0;32m    685\u001b[0m     bijector \u001b[39m=\u001b[39m kwargs\u001b[39m.\u001b[39mget(\u001b[39m'\u001b[39m\u001b[39mbijector\u001b[39m\u001b[39m'\u001b[39m)\n\u001b[0;32m    687\u001b[0m   \u001b[39mif\u001b[39;00m \u001b[39mnot\u001b[39;00m (\u001b[39misinstance\u001b[39m(distribution, tf\u001b[39m.\u001b[39m__internal__\u001b[39m.\u001b[39mCompositeTensor)\n\u001b[0;32m    688\u001b[0m           \u001b[39mand\u001b[39;00m \u001b[39misinstance\u001b[39m(bijector, tf\u001b[39m.\u001b[39m__internal__\u001b[39m.\u001b[39mCompositeTensor)):\n\u001b[1;32m--> 689\u001b[0m     \u001b[39mreturn\u001b[39;00m _TransformedDistribution(\u001b[39m*\u001b[39;49margs, \u001b[39m*\u001b[39;49m\u001b[39m*\u001b[39;49mkwargs)\n\u001b[0;32m    690\u001b[0m \u001b[39mreturn\u001b[39;00m \u001b[39msuper\u001b[39m(TransformedDistribution, \u001b[39mcls\u001b[39m)\u001b[39m.\u001b[39m\u001b[39m__new__\u001b[39m(\u001b[39mcls\u001b[39m)\n",
      "File \u001b[1;32mc:\\Python38\\lib\\site-packages\\decorator.py:231\u001b[0m, in \u001b[0;36mdecorate.<locals>.fun\u001b[1;34m(*args, **kw)\u001b[0m\n\u001b[0;32m    229\u001b[0m \u001b[39mdef\u001b[39;00m \u001b[39mfun\u001b[39m(\u001b[39m*\u001b[39margs, \u001b[39m*\u001b[39m\u001b[39m*\u001b[39mkw):\n\u001b[0;32m    230\u001b[0m     \u001b[39mif\u001b[39;00m \u001b[39mnot\u001b[39;00m kwsyntax:\n\u001b[1;32m--> 231\u001b[0m         args, kw \u001b[39m=\u001b[39m fix(args, kw, sig)\n\u001b[0;32m    232\u001b[0m     \u001b[39mreturn\u001b[39;00m caller(func, \u001b[39m*\u001b[39m(extras \u001b[39m+\u001b[39m args), \u001b[39m*\u001b[39m\u001b[39m*\u001b[39mkw)\n",
      "File \u001b[1;32mc:\\Python38\\lib\\site-packages\\decorator.py:203\u001b[0m, in \u001b[0;36mfix\u001b[1;34m(args, kwargs, sig)\u001b[0m\n\u001b[0;32m    199\u001b[0m \u001b[39mdef\u001b[39;00m \u001b[39mfix\u001b[39m(args, kwargs, sig):\n\u001b[0;32m    200\u001b[0m     \u001b[39m\"\"\"\u001b[39;00m\n\u001b[0;32m    201\u001b[0m \u001b[39m    Fix args and kwargs to be consistent with the signature\u001b[39;00m\n\u001b[0;32m    202\u001b[0m \u001b[39m    \"\"\"\u001b[39;00m\n\u001b[1;32m--> 203\u001b[0m     ba \u001b[39m=\u001b[39m sig\u001b[39m.\u001b[39;49mbind(\u001b[39m*\u001b[39;49margs, \u001b[39m*\u001b[39;49m\u001b[39m*\u001b[39;49mkwargs)\n\u001b[0;32m    204\u001b[0m     ba\u001b[39m.\u001b[39mapply_defaults()  \u001b[39m# needed for test_dan_schult\u001b[39;00m\n\u001b[0;32m    205\u001b[0m     \u001b[39mreturn\u001b[39;00m ba\u001b[39m.\u001b[39margs, ba\u001b[39m.\u001b[39mkwargs\n",
      "File \u001b[1;32mc:\\Python38\\lib\\inspect.py:3025\u001b[0m, in \u001b[0;36mSignature.bind\u001b[1;34m(self, *args, **kwargs)\u001b[0m\n\u001b[0;32m   3020\u001b[0m \u001b[39mdef\u001b[39;00m \u001b[39mbind\u001b[39m(\u001b[39mself\u001b[39m, \u001b[39m/\u001b[39m, \u001b[39m*\u001b[39margs, \u001b[39m*\u001b[39m\u001b[39m*\u001b[39mkwargs):\n\u001b[0;32m   3021\u001b[0m     \u001b[39m\"\"\"Get a BoundArguments object, that maps the passed `args`\u001b[39;00m\n\u001b[0;32m   3022\u001b[0m \u001b[39m    and `kwargs` to the function's signature.  Raises `TypeError`\u001b[39;00m\n\u001b[0;32m   3023\u001b[0m \u001b[39m    if the passed arguments can not be bound.\u001b[39;00m\n\u001b[0;32m   3024\u001b[0m \u001b[39m    \"\"\"\u001b[39;00m\n\u001b[1;32m-> 3025\u001b[0m     \u001b[39mreturn\u001b[39;00m \u001b[39mself\u001b[39;49m\u001b[39m.\u001b[39;49m_bind(args, kwargs)\n",
      "File \u001b[1;32mc:\\Python38\\lib\\inspect.py:3014\u001b[0m, in \u001b[0;36mSignature._bind\u001b[1;34m(self, args, kwargs, partial)\u001b[0m\n\u001b[0;32m   3012\u001b[0m         arguments[kwargs_param\u001b[39m.\u001b[39mname] \u001b[39m=\u001b[39m kwargs\n\u001b[0;32m   3013\u001b[0m     \u001b[39melse\u001b[39;00m:\n\u001b[1;32m-> 3014\u001b[0m         \u001b[39mraise\u001b[39;00m \u001b[39mTypeError\u001b[39;00m(\n\u001b[0;32m   3015\u001b[0m             \u001b[39m'\u001b[39m\u001b[39mgot an unexpected keyword argument \u001b[39m\u001b[39m{arg!r}\u001b[39;00m\u001b[39m'\u001b[39m\u001b[39m.\u001b[39mformat(\n\u001b[0;32m   3016\u001b[0m                 arg\u001b[39m=\u001b[39m\u001b[39mnext\u001b[39m(\u001b[39miter\u001b[39m(kwargs))))\n\u001b[0;32m   3018\u001b[0m \u001b[39mreturn\u001b[39;00m \u001b[39mself\u001b[39m\u001b[39m.\u001b[39m_bound_arguments_cls(\u001b[39mself\u001b[39m, arguments)\n",
      "\u001b[1;31mTypeError\u001b[0m: got an unexpected keyword argument 'event_shape'"
     ]
    }
   ],
   "source": [
    "# Plot contour\n",
    "\n",
    "activation = 'relu'\n",
    "maf = tfd.TransformedDistribution(base_distribution, make_masked_autoregressive_flow(activation=activation), event_shape=[2])"
   ]
  },
  {
   "cell_type": "code",
   "execution_count": 37,
   "metadata": {},
   "outputs": [],
   "source": [
    "from tensorflow.keras.layers import Input\n",
    "from tensorflow.keras import Model"
   ]
  },
  {
   "cell_type": "code",
   "execution_count": 38,
   "metadata": {},
   "outputs": [
    {
     "ename": "NameError",
     "evalue": "name 'trainable_distribution' is not defined",
     "output_type": "error",
     "traceback": [
      "\u001b[1;31m---------------------------------------------------------------------------\u001b[0m",
      "\u001b[1;31mNameError\u001b[0m                                 Traceback (most recent call last)",
      "\u001b[1;32md:\\GitHub\\Coursera\\Tensorflow2forDeepLearning\\ProbabilisticDeepLearningwithTensorFlow2\\Week3\\Coding Tutorial.ipynb Cell 102\u001b[0m in \u001b[0;36m<cell line: 4>\u001b[1;34m()\u001b[0m\n\u001b[0;32m      <a href='vscode-notebook-cell:/d%3A/GitHub/Coursera/Tensorflow2forDeepLearning/ProbabilisticDeepLearningwithTensorFlow2/Week3/Coding%20Tutorial.ipynb#Y203sZmlsZQ%3D%3D?line=0'>1</a>\u001b[0m \u001b[39m# Make samples\u001b[39;00m\n\u001b[0;32m      <a href='vscode-notebook-cell:/d%3A/GitHub/Coursera/Tensorflow2forDeepLearning/ProbabilisticDeepLearningwithTensorFlow2/Week3/Coding%20Tutorial.ipynb#Y203sZmlsZQ%3D%3D?line=2'>3</a>\u001b[0m x \u001b[39m=\u001b[39m base_distribution\u001b[39m.\u001b[39msample((\u001b[39m1000\u001b[39m,\u001b[39m2\u001b[39m))\n\u001b[1;32m----> <a href='vscode-notebook-cell:/d%3A/GitHub/Coursera/Tensorflow2forDeepLearning/ProbabilisticDeepLearningwithTensorFlow2/Week3/Coding%20Tutorial.ipynb#Y203sZmlsZQ%3D%3D?line=3'>4</a>\u001b[0m names \u001b[39m=\u001b[39m [base_distribution\u001b[39m.\u001b[39mname, trainable_distribution\u001b[39m.\u001b[39mbijector\u001b[39m.\u001b[39mname]\n\u001b[0;32m      <a href='vscode-notebook-cell:/d%3A/GitHub/Coursera/Tensorflow2forDeepLearning/ProbabilisticDeepLearningwithTensorFlow2/Week3/Coding%20Tutorial.ipynb#Y203sZmlsZQ%3D%3D?line=4'>5</a>\u001b[0m samples \u001b[39m=\u001b[39m [x, trainable_distribution\u001b[39m.\u001b[39mbijector\u001b[39m.\u001b[39mforward(x)]\n",
      "\u001b[1;31mNameError\u001b[0m: name 'trainable_distribution' is not defined"
     ]
    }
   ],
   "source": [
    "# Make samples\n",
    "\n",
    "x = base_distribution.sample((1000,2))\n",
    "names = [base_distribution.name, trainable_distribution.bijector.name]\n",
    "samples = [x, trainable_distribution.bijector.forward(x)]"
   ]
  },
  {
   "cell_type": "code",
   "execution_count": 39,
   "metadata": {},
   "outputs": [],
   "source": [
    "# Define a scatter plot routine for the bijectors\n",
    "\n",
    "def _plot(results, rows=1, legend=False):\n",
    "    cols = int(len(results) / rows)\n",
    "    f, arr = plt.subplots(rows, cols, figsize=(4 * cols, 4 * rows))\n",
    "    i = 0\n",
    "    for r in range(rows):\n",
    "        for c in range(cols):\n",
    "            res = results[i]\n",
    "            X, Y = res[..., 0].numpy(), res[..., 1].numpy()\n",
    "            if rows == 1:\n",
    "                p = arr[c]\n",
    "            else:\n",
    "                p = arr[r, c]\n",
    "            p.scatter(X, Y, s=10, color='red')\n",
    "            p.set_xlim([-5, 5])\n",
    "            p.set_ylim([-5, 5])\n",
    "            p.set_title(names[i])\n",
    "            \n",
    "            i += 1"
   ]
  },
  {
   "cell_type": "code",
   "execution_count": 40,
   "metadata": {},
   "outputs": [
    {
     "ename": "NameError",
     "evalue": "name 'samples' is not defined",
     "output_type": "error",
     "traceback": [
      "\u001b[1;31m---------------------------------------------------------------------------\u001b[0m",
      "\u001b[1;31mNameError\u001b[0m                                 Traceback (most recent call last)",
      "\u001b[1;32md:\\GitHub\\Coursera\\Tensorflow2forDeepLearning\\ProbabilisticDeepLearningwithTensorFlow2\\Week3\\Coding Tutorial.ipynb Cell 104\u001b[0m in \u001b[0;36m<cell line: 3>\u001b[1;34m()\u001b[0m\n\u001b[0;32m      <a href='vscode-notebook-cell:/d%3A/GitHub/Coursera/Tensorflow2forDeepLearning/ProbabilisticDeepLearningwithTensorFlow2/Week3/Coding%20Tutorial.ipynb#Y205sZmlsZQ%3D%3D?line=0'>1</a>\u001b[0m \u001b[39m# Plot\u001b[39;00m\n\u001b[1;32m----> <a href='vscode-notebook-cell:/d%3A/GitHub/Coursera/Tensorflow2forDeepLearning/ProbabilisticDeepLearningwithTensorFlow2/Week3/Coding%20Tutorial.ipynb#Y205sZmlsZQ%3D%3D?line=2'>3</a>\u001b[0m _plot(samples)\n",
      "\u001b[1;31mNameError\u001b[0m: name 'samples' is not defined"
     ]
    }
   ],
   "source": [
    "# Plot\n",
    "\n",
    "_plot(samples)"
   ]
  },
  {
   "cell_type": "markdown",
   "metadata": {},
   "source": [
    "#### Training a MaskedAutoregressiveFlow bijector"
   ]
  },
  {
   "cell_type": "code",
   "execution_count": 41,
   "metadata": {},
   "outputs": [],
   "source": [
    "from tensorflow.keras.callbacks import LambdaCallback"
   ]
  },
  {
   "cell_type": "code",
   "execution_count": 42,
   "metadata": {},
   "outputs": [],
   "source": [
    "# Define a training routine\n",
    "\n",
    "def train_dist_routine(trainable_distribution, n_epochs=200, batch_size=None, n_disp=100):\n",
    "    x_ = Input(shape=(2,), dtype=tf.float32)\n",
    "    log_prob_ = trainable_distribution.log_prob(x_)\n",
    "    model = Model(x_, log_prob_)\n",
    "\n",
    "    model.compile(optimizer=tf.optimizers.Adam(),\n",
    "                  loss=lambda _, log_prob: -log_prob)\n",
    "\n",
    "    ns = X_data.shape[0]\n",
    "    if batch_size is None:\n",
    "        batch_size = ns\n",
    "\n",
    "    # Display the loss every n_disp epoch\n",
    "    epoch_callback = LambdaCallback(\n",
    "        on_epoch_end=lambda epoch, logs: \n",
    "                        print('\\n Epoch {}/{}'.format(epoch+1, n_epochs, logs),\n",
    "                              '\\n\\t ' + (': {:.4f}, '.join(logs.keys()) + ': {:.4f}').format(*logs.values()))\n",
    "                                       if epoch % n_disp == 0 else False \n",
    "    )\n",
    "\n",
    "\n",
    "    history = model.fit(x=X_data,\n",
    "                        y=np.zeros((ns, 0), dtype=np.float32),\n",
    "                        batch_size=batch_size,\n",
    "                        epochs=n_epochs,\n",
    "                        validation_split=0.2,\n",
    "                        shuffle=True,\n",
    "                        verbose=False,\n",
    "                        callbacks=[epoch_callback])\n",
    "    return history"
   ]
  },
  {
   "cell_type": "code",
   "execution_count": 43,
   "metadata": {},
   "outputs": [
    {
     "ename": "NameError",
     "evalue": "name 'trainable_distribution' is not defined",
     "output_type": "error",
     "traceback": [
      "\u001b[1;31m---------------------------------------------------------------------------\u001b[0m",
      "\u001b[1;31mNameError\u001b[0m                                 Traceback (most recent call last)",
      "\u001b[1;32md:\\GitHub\\Coursera\\Tensorflow2forDeepLearning\\ProbabilisticDeepLearningwithTensorFlow2\\Week3\\Coding Tutorial.ipynb Cell 108\u001b[0m in \u001b[0;36m<cell line: 3>\u001b[1;34m()\u001b[0m\n\u001b[0;32m      <a href='vscode-notebook-cell:/d%3A/GitHub/Coursera/Tensorflow2forDeepLearning/ProbabilisticDeepLearningwithTensorFlow2/Week3/Coding%20Tutorial.ipynb#Y212sZmlsZQ%3D%3D?line=0'>1</a>\u001b[0m \u001b[39m# Train the distribution\u001b[39;00m\n\u001b[1;32m----> <a href='vscode-notebook-cell:/d%3A/GitHub/Coursera/Tensorflow2forDeepLearning/ProbabilisticDeepLearningwithTensorFlow2/Week3/Coding%20Tutorial.ipynb#Y212sZmlsZQ%3D%3D?line=2'>3</a>\u001b[0m history \u001b[39m=\u001b[39m train_dist_routine(trainable_distribution, n_epochs\u001b[39m=\u001b[39m\u001b[39m600\u001b[39m, n_disp\u001b[39m=\u001b[39m\u001b[39m50\u001b[39m)\n",
      "\u001b[1;31mNameError\u001b[0m: name 'trainable_distribution' is not defined"
     ]
    }
   ],
   "source": [
    "# Train the distribution\n",
    "\n",
    "history = train_dist_routine(trainable_distribution, n_epochs=600, n_disp=50)"
   ]
  },
  {
   "cell_type": "code",
   "execution_count": 44,
   "metadata": {},
   "outputs": [
    {
     "ename": "NameError",
     "evalue": "name 'history' is not defined",
     "output_type": "error",
     "traceback": [
      "\u001b[1;31m---------------------------------------------------------------------------\u001b[0m",
      "\u001b[1;31mNameError\u001b[0m                                 Traceback (most recent call last)",
      "\u001b[1;32md:\\GitHub\\Coursera\\Tensorflow2forDeepLearning\\ProbabilisticDeepLearningwithTensorFlow2\\Week3\\Coding Tutorial.ipynb Cell 109\u001b[0m in \u001b[0;36m<cell line: 3>\u001b[1;34m()\u001b[0m\n\u001b[0;32m      <a href='vscode-notebook-cell:/d%3A/GitHub/Coursera/Tensorflow2forDeepLearning/ProbabilisticDeepLearningwithTensorFlow2/Week3/Coding%20Tutorial.ipynb#Y213sZmlsZQ%3D%3D?line=0'>1</a>\u001b[0m \u001b[39m# Get losses\u001b[39;00m\n\u001b[1;32m----> <a href='vscode-notebook-cell:/d%3A/GitHub/Coursera/Tensorflow2forDeepLearning/ProbabilisticDeepLearningwithTensorFlow2/Week3/Coding%20Tutorial.ipynb#Y213sZmlsZQ%3D%3D?line=2'>3</a>\u001b[0m train_losses \u001b[39m=\u001b[39m history\u001b[39m.\u001b[39mhistory[\u001b[39m'\u001b[39m\u001b[39mloss\u001b[39m\u001b[39m'\u001b[39m]\n\u001b[0;32m      <a href='vscode-notebook-cell:/d%3A/GitHub/Coursera/Tensorflow2forDeepLearning/ProbabilisticDeepLearningwithTensorFlow2/Week3/Coding%20Tutorial.ipynb#Y213sZmlsZQ%3D%3D?line=3'>4</a>\u001b[0m valid_losses \u001b[39m=\u001b[39m history\u001b[39m.\u001b[39mhistory[\u001b[39m'\u001b[39m\u001b[39mval_loss\u001b[39m\u001b[39m'\u001b[39m]\n",
      "\u001b[1;31mNameError\u001b[0m: name 'history' is not defined"
     ]
    }
   ],
   "source": [
    "# Get losses\n",
    "\n",
    "train_losses = history.history['loss']\n",
    "valid_losses = history.history['val_loss']"
   ]
  },
  {
   "cell_type": "code",
   "execution_count": 45,
   "metadata": {},
   "outputs": [
    {
     "data": {
      "image/png": "[encoded data removed]",
      "text/plain": [
       "<Figure size 432x288 with 1 Axes>"
      ]
     },
     "metadata": {
      "needs_background": "light"
     },
     "output_type": "display_data"
    }
   ],
   "source": [
    "# Plot loss vs epoch\n",
    "\n",
    "plt.plot(train_losses, label='train')\n",
    "plt.plot(valid_losses, label='valid')\n",
    "plt.legend()\n",
    "plt.xlabel(\"Epochs\")\n",
    "plt.ylabel(\"Negative log likelihood\")\n",
    "plt.title(\"Training and validation loss curves\")\n",
    "plt.show()"
   ]
  },
  {
   "cell_type": "code",
   "execution_count": null,
   "metadata": {},
   "outputs": [],
   "source": [
    "# Make samples\n",
    "\n",
    "x = base_distribution.sample((1000,2))\n",
    "names = [base_distribution.name, trainable_distribution.bijector.name]\n",
    "samples = [x, trainable_distribution.bijector.forward(x)]"
   ]
  },
  {
   "cell_type": "code",
   "execution_count": null,
   "metadata": {},
   "outputs": [],
   "source": [
    "# Plot\n",
    "\n",
    "_plot(samples)"
   ]
  },
  {
   "cell_type": "code",
   "execution_count": null,
   "metadata": {},
   "outputs": [],
   "source": [
    "# Define a plot routine\n",
    "\n",
    "def visualize_training_data(samples):\n",
    "    f, arr = plt.subplots(1, 2, figsize=(15, 6))\n",
    "    names = ['Data', 'Trainable']\n",
    "    samples = [tf.constant(X_data), samples[-1]]\n",
    "\n",
    "    for i in range(2):\n",
    "        res = samples[i]\n",
    "        X, Y = res[..., 0].numpy(), res[..., 1].numpy()\n",
    "        arr[i].scatter(X, Y, s=10, color='red')\n",
    "        arr[i].set_xlim([-2, 2])\n",
    "        arr[i].set_ylim([-2, 2])\n",
    "        arr[i].set_title(names[i])\n",
    "\n",
    "visualize_training_data(samples)"
   ]
  },
  {
   "cell_type": "code",
   "execution_count": null,
   "metadata": {},
   "outputs": [],
   "source": [
    "# Plot contour\n",
    "\n",
    "plot_contour_prob([trainable_distribution], scale_fig=6)"
   ]
  },
  {
   "cell_type": "markdown",
   "metadata": {},
   "source": [
    "#### Training a chain of MaskedAutoregressiveFlow bijectors"
   ]
  },
  {
   "cell_type": "code",
   "execution_count": null,
   "metadata": {},
   "outputs": [],
   "source": [
    "# Define a more expressive model\n",
    "\n",
    "num_bijectors=6\n",
    "bijectors = []\n",
    "\n",
    "for i in range(num_bijectors):\n",
    "    masked_auto_i = make_masked_autoregressive_flow(hidden_units=[256,256], activation='relu')\n",
    "    bijectors.append(masked_auto_i)\n",
    "    bijectors.append(tfb.Permute(permutation=[1,0]))\n",
    "\n",
    "flow_bijector = tfb.CHain(list(reversed(bijectors[:,1])))"
   ]
  },
  {
   "cell_type": "code",
   "execution_count": null,
   "metadata": {},
   "outputs": [],
   "source": [
    "# Define the trainable distribution\n",
    "\n",
    "trainable_distribution = tfd.TransformedDistribution(distribution = base_distribution, bijector=flow_bijector, event_shape=[2])"
   ]
  },
  {
   "cell_type": "code",
   "execution_count": null,
   "metadata": {},
   "outputs": [],
   "source": [
    "# Make samples\n",
    "\n",
    "def make_samples():\n",
    "    x = base_distribution.sample((1000, 2))\n",
    "    samples = [x]\n",
    "    names = [base_distribution.name]\n",
    "    for bijector in reversed(trainable_distribution.bijector.bijectors):\n",
    "        x = bijector.forward(x)\n",
    "        samples.append(x)\n",
    "        names.append(bijector.name)\n",
    "    return names, samples\n",
    "\n",
    "names, samples = make_samples()"
   ]
  },
  {
   "cell_type": "code",
   "execution_count": null,
   "metadata": {},
   "outputs": [],
   "source": [
    "# Plot\n",
    "\n",
    "_plot(samples, 3)"
   ]
  },
  {
   "cell_type": "code",
   "execution_count": null,
   "metadata": {},
   "outputs": [],
   "source": [
    "# Plot\n",
    "\n",
    "visualize_training_data(samples)"
   ]
  },
  {
   "cell_type": "code",
   "execution_count": null,
   "metadata": {},
   "outputs": [],
   "source": [
    "# Train the distribution\n",
    "\n",
    "history = train_dist_routine(trainable_distribution, n_epochs, n_disp=50)"
   ]
  },
  {
   "cell_type": "code",
   "execution_count": null,
   "metadata": {},
   "outputs": [],
   "source": [
    "# Get losses\n",
    "\n",
    "train_losses = history.history['loss']\n",
    "valid_losses = history.history['val_loss']"
   ]
  },
  {
   "cell_type": "code",
   "execution_count": null,
   "metadata": {},
   "outputs": [],
   "source": [
    "# Plot loss vs epoch\n",
    "\n",
    "plt.plot(train_losses, label='train')\n",
    "plt.plot(valid_losses, label='valid')\n",
    "plt.legend()\n",
    "plt.xlabel(\"Epochs\")\n",
    "plt.ylabel(\"Negative log likelihood\")\n",
    "plt.title(\"Training and validation loss curves\")\n",
    "plt.show()"
   ]
  },
  {
   "cell_type": "code",
   "execution_count": null,
   "metadata": {},
   "outputs": [],
   "source": [
    "# Make samples and plot\n",
    "\n",
    "names, samples = make_samples()\n",
    "_plot(samples, 3)"
   ]
  },
  {
   "cell_type": "code",
   "execution_count": null,
   "metadata": {},
   "outputs": [],
   "source": [
    "# Plot\n",
    "\n",
    "visualize_training_data(samples)"
   ]
  },
  {
   "cell_type": "code",
   "execution_count": null,
   "metadata": {},
   "outputs": [],
   "source": [
    "# Plot\n",
    "\n",
    "plot_contour_prob([trainable_distribution], scale_fig=6)"
   ]
  }
 ],
 "metadata": {
  "kernelspec": {
   "display_name": "Python 3",
   "language": "python",
   "name": "python3"
  },
  "language_info": {
   "codemirror_mode": {
    "name": "ipython",
    "version": 3
   },
   "file_extension": ".py",
   "mimetype": "text/x-python",
   "name": "python",
   "nbconvert_exporter": "python",
   "pygments_lexer": "ipython3",
   "version": "3.8.3 (tags/v3.8.3:6f8c832, May 13 2020, 22:37:02) [MSC v.1924 64 bit (AMD64)]"
  },
  "vscode": {
   "interpreter": {
    "hash": "9650cb4e16cdd4a8e8e2d128bf38d875813998db22a3c986335f89e0cb4d7bb2"
   }
  }
 },
 "nbformat": 4,
 "nbformat_minor": 2
}
