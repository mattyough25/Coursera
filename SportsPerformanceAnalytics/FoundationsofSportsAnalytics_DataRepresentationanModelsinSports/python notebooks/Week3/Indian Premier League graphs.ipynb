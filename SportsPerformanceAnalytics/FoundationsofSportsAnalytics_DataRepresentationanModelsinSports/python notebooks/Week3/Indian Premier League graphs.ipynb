{
 "cells": [
  {
   "cell_type": "markdown",
   "metadata": {},
   "source": [
    "# Visualizing Sports Data\n",
    "\n",
    "Last week we introduced some simple ways to graph data. This week we introduce some more applications of visualization methods in Python. There are entire courses on data visualization methods in Python or R, so here we will only skim the surface. Our object is to show how powerful graphs can be as tools for understanding sports data.\n",
    "\n",
    "As a general rule, any data analysis should start with drawing some graphs. Literally *looking* at the relationship between variables in your data can help you in a number of different ways, including:\n",
    "\n",
    "1. Identifying the correlation between variables\n",
    "2. Identifying particular ranges of values where the relationship might change\n",
    "3. Identifying outliers which may not conform to a typical pattern\n",
    "\n",
    "In essence, all data analysis is about looking for patterns, and using a visual representation is an especially good way for humans to recognize patterns.\n",
    "\n",
    "During this week we will look at data from four different sports: baseball, basketball, hockey, but first, cricket."
   ]
  },
  {
   "cell_type": "markdown",
   "metadata": {},
   "source": [
    "## Cricket\n",
    "\n",
    "Cricket is a sport which originated in England several hundred years ago- records of games date back over three hundred years. It is the most popular game in India, Pakistan, Bangladesh and Sri Lanka - home to almost one quarter of the world's population. It is also a popular sport in Australia, New Zealand, South Africa, Zimbabwe, and the islands of the Caribbean. \n",
    "\n",
    "It is a bat and ball game that bears some resemblance to baseball: a ball is thrown by a player (called the bowler in cricket) on one team at a player (called the batsman) on the other team, who attempts to hit it in order to score runs. (Note: although women's cricket is popular and has a long history, the term \"batsman\" is used for men and women alike). A batsman is \"out\" if he hits the ball and it is caught on the fly, and is also \"out\" if the ball hits the \"wicket\", which is a little like the strike-zone in baseball, except that the wicket is a physical object comprising three sticks planted vertically (the \"stumps\") with two smaller sticks resting on top (the \"bails\"). Unlike baseball, a player does not get three strikes before being out- if the wicket is hit and a bail dislodged, the batsman is out. \n",
    "\n",
    "Runs are also simpler in cricket- to complete a run a batsman has to be able to reach the \"crease\" at the \"other end\", which refers to the place from which the bowler delivered the ball, and where there stands another wicket (stumps and bails). At that other end stands another batsman- there are always two at any one time - and that batsman must also run to the opposite crease for the run to be complete. If any fielder can dislodge a bail at the end to which a batsman is running before the batsman reaches the crease then no run is scored and, more importantly, the batsman is out (this, again, is similar to baseball). \n",
    "\n",
    "To score runs the batsman needs to hit the ball to locations which are not close to fielders, to give the batsmen time to complete a run. Depending on where the ball is hit, the batsmen may have time to complete one, two runs, or even three. The game is played on an oval shaped field, and if the ball reaches the designated boundary of the field, four runs are scored, unless the ball crosses the boundary without hitting the ground (like a home run) in which case six runs are awarded.\n",
    "\n",
    "Two important differences between baseball and cricket are that (a) there are fewer outs in a game and (b) many more runs are typically scored. A game of cricket is typically played with one or two innings per team. We are going to look at data from the Indian Premier League, which is played under the \"Twenty20\" (T20) rules, in which each team gets only one inning. So each player may bat only once. There are 11 players on each team, and once ten batsmen are \"out\", the innings is over. \n",
    "\n",
    "The higher rate of scoring runs arises because (i) the bat in cricket is larger, and hence hitting the ball is easier (the ball is of similar size, and the distance between bowler and batsman is roughly the same as between pitcher and batter in baseball- the speed of delivery is tyically a bit faster in baseball) (ii) there is no obligation to run when the ball is hit, and there is no rule of three strikes and out - so that a player may stand and bat without attmempting to score runs.\n",
    "\n",
    "T20 cricket was invented in the early 2000s, and is a game played at a fast pace over short period of time (contrary to the popular perception of cricket). In a T20 game each side faces a maximum of 120 balls, and the game is usually completed within three hours (if ten batsmen are out before 120 balls have been bowled, then the innings is over).\n",
    "\n",
    "The team with the highest runs score wins. Statistically speaking, one other critical difference from baseball is that if the team batting second wins, there is no way of knowing how may runs that team could have scored in a completed inning- it is sufficient to outscore the team batting first for the game to be over. You will recall from week 1 that the Pythagorean expectation model fitted the cricket data poorly - and this may be in part due to the fact that the maximum potential score of the team in such cases is unknown."
   ]
  },
  {
   "cell_type": "markdown",
   "metadata": {},
   "source": [
    "## The Indian Premier League\n",
    "\n",
    "The Indian Premier League (IPL) was founded in 2008 and is the most popular cricket competition in world, and the value of braodcasting rights is estimated to be over $1 billion. The league currently consists of eight franchises based in Indian cities, and the league typically plays over seven weeks in April and May, with every team playing every other team home and away, followed by playoffs involving the top four teams. The season consists of 60 games in total.\n",
    "\n",
    "Most of the world's best players are recruited for the IPL. Each season there is a player auction, and teams are subject to a salary cap."
   ]
  },
  {
   "cell_type": "markdown",
   "metadata": {},
   "source": [
    "## The Run Chase\n",
    "\n",
    "The order in which teams bat is decided by the toss of a coin at the start of the game. Teams generally elect to field first (over 80% of the time in our data). Batting with the knowledge of the total you need to reach, having seen the batting conditions (the weather can play a significant role) is a big advantage. There is a fundamental trade-off between batting aggressively, (allowing you to score runs quickly) and batting conservatively (which means that \"outs\" are less likely). The ten wickets (outs) allowed for each team essentially represent resources at the batting team's commands. However, as in baseball, the bowlers tend to be less skilled in batting, and the better batsmen typically play at the top of the innings. \n",
    "\n",
    "Batting is typically hardest at the beginning of an innings, because the bowlers are freshest and the ball is new (unlike baseball, the same ball is used throughout a whole inning). However, there are also fielding restrictions, known as powerplays, which make it easier to make big hits safely, especially during the first ten overs of the game.\n",
    "\n",
    "From all this, it should be clear that managing the pace of an innings is a crucial team skill in cricket. We are going to use the IPL data to compare visually the run/wicket profiles of teams in each game."
   ]
  },
  {
   "cell_type": "markdown",
   "metadata": {},
   "source": [
    "## Plan for this session\n",
    "\n",
    "Runs scored determine the outcome of the game, so we will begin by looking at runs totals for each game from the IPL 2018 season and generating charts to show variations in runs scored depending on (a) which team batted first and (b) which team won the game.\n",
    "\n",
    "We then turn to a particular game - first game of the 2018 season between the Mumbai Indians and the Chennai Super Kings, and compare the progress of each team in terms of runs scored and wickets lost. \n",
    "\n",
    "Finally, we write a program to compare teams in any game."
   ]
  },
  {
   "cell_type": "markdown",
   "metadata": {},
   "source": [
    "## Starting\n",
    "\n",
    "As ever we begin by importing the packages we need, and loading up the data."
   ]
  },
  {
   "cell_type": "code",
   "execution_count": 1,
   "metadata": {},
   "outputs": [],
   "source": [
    "import pandas as pd\n",
    "import numpy as np\n",
    "import matplotlib.pyplot as plt"
   ]
  },
  {
   "cell_type": "code",
   "execution_count": 10,
   "metadata": {
    "scrolled": true
   },
   "outputs": [],
   "source": [
    "IPL2018 = pd.read_excel('D:\\\\GitHub\\\\Coursera\\\\SportsPerformanceAnalytics\\\\FoundationsofSportsAnalytics_DataRepresentationanModelsinSports\\\\data\\\\Week3\\\\IPL2018_results.xlsx')\n",
    "pd.set_option('display.max_columns', 50)\n",
    "#display(IPL2018)"
   ]
  },
  {
   "cell_type": "markdown",
   "metadata": {},
   "source": [
    "We can use the **\"print(filename.tolist())\"** command to see the names of the variables in our data"
   ]
  },
  {
   "cell_type": "code",
   "execution_count": 3,
   "metadata": {},
   "outputs": [
    {
     "name": "stdout",
     "output_type": "stream",
     "text": [
      "['scorecard_id', 'start_date', 'phase', 'stadium_name', 'home_team', 'away_team', 'toss_winner', 'toss_decision', 'innings1', 'wickets1', 'overs1', 'closure1', 'innings2', 'wickets2', 'overs2', 'closure2', 'adjusted_target_indicator', 'adjusted_target', 'team1_overs', 'team2_overs', 'mom_player_id', 'mom_player', 'scoring_status', 'result_type', 'result_margin', 'winning_team']\n"
     ]
    }
   ],
   "source": [
    "print(IPL2018.columns.tolist())"
   ]
  },
  {
   "cell_type": "markdown",
   "metadata": {},
   "source": [
    "## The distribution of runs scored\n",
    "\n",
    "The variables we are interested in are the runs scored by each team, which are listed in \"innings1\" and \"innings2\". A histogram will show us the variation of runs scored. We specify the number of 'bins' - we use 10 bins here, which divides the data between the highest and lowest scores into ten equals ranges of 20 runs. The vertical axis then tells us the percentage of scores in innings1 in each data range."
   ]
  },
  {
   "cell_type": "code",
   "execution_count": 4,
   "metadata": {},
   "outputs": [
    {
     "data": {
      "text/plain": [
       "array([[<AxesSubplot:title={'center':'innings1'}>]], dtype=object)"
      ]
     },
     "execution_count": 4,
     "metadata": {},
     "output_type": "execute_result"
    },
    {
     "data": {
      "image/png": "[encoded data removed]",
      "text/plain": [
       "<Figure size 432x288 with 1 Axes>"
      ]
     },
     "metadata": {
      "needs_background": "light"
     },
     "output_type": "display_data"
    }
   ],
   "source": [
    "IPL2018.hist(column='innings1', bins=10)"
   ]
  },
  {
   "cell_type": "markdown",
   "metadata": {},
   "source": [
    "## Self test\n",
    "\n",
    "Compare the charts you produce when you specify (a) 5 bins and (b) 20 bins. Which do you think is better representation of the data and why?"
   ]
  },
  {
   "cell_type": "code",
   "execution_count": 5,
   "metadata": {},
   "outputs": [
    {
     "data": {
      "text/plain": [
       "array([[<AxesSubplot:title={'center':'innings2'}>]], dtype=object)"
      ]
     },
     "execution_count": 5,
     "metadata": {},
     "output_type": "execute_result"
    },
    {
     "data": {
      "image/png": "[encoded data removed]",
      "text/plain": [
       "<Figure size 432x288 with 1 Axes>"
      ]
     },
     "metadata": {
      "needs_background": "light"
     },
     "output_type": "display_data"
    }
   ],
   "source": [
    "# now we generate the graph for innings2\n",
    "\n",
    "IPL2018.hist(column='innings2', bins=10)"
   ]
  },
  {
   "cell_type": "markdown",
   "metadata": {},
   "source": [
    "Comparing these two graphs it looks as if the scores in innings1 are skewed slightly to the left, and in innings2 slightly to the right. This could tell us something, but we should be careful. The x-axis for innings1 runs from 80 to 240, while for innings2 runs from 60 to 220. To compare, we really should specify that the x-axis has the same range for both sets of data. We do that in the next line:"
   ]
  },
  {
   "cell_type": "code",
   "execution_count": 6,
   "metadata": {},
   "outputs": [
    {
     "data": {
      "text/plain": [
       "<function matplotlib.pyplot.plot(*args, scalex=True, scaley=True, data=None, **kwargs)>"
      ]
     },
     "execution_count": 6,
     "metadata": {},
     "output_type": "execute_result"
    },
    {
     "data": {
      "image/png": "[encoded data removed]",
      "text/plain": [
       "<Figure size 432x288 with 1 Axes>"
      ]
     },
     "metadata": {
      "needs_background": "light"
     },
     "output_type": "display_data"
    },
    {
     "data": {
      "image/png": "[encoded data removed]",
      "text/plain": [
       "<Figure size 432x288 with 1 Axes>"
      ]
     },
     "metadata": {
      "needs_background": "light"
     },
     "output_type": "display_data"
    }
   ],
   "source": [
    "IPL2018.hist(column='innings1', bins=10)\n",
    "plt.xlim((60, 250))\n",
    "plt.ylim((0, 20))\n",
    "IPL2018.hist(column='innings2', bins=10)\n",
    "plt.xlim((60, 250))\n",
    "plt.ylim((0, 20))\n",
    "plt.plot"
   ]
  },
  {
   "cell_type": "markdown",
   "metadata": {},
   "source": [
    "We can now see that the two innings have quite similar distributions centered around roughly the same median score. The two main differences are that the scores for innings2 seem truncated around the 200-215 mark. That is probably a result of the run chase effect - teams batting second either reach the required target and stop, or the target set in the first place was so high that the team batting second collapsed with a very low score. "
   ]
  },
  {
   "cell_type": "code",
   "execution_count": 7,
   "metadata": {
    "scrolled": true
   },
   "outputs": [
    {
     "data": {
      "text/plain": [
       "(0.0, 20.0)"
      ]
     },
     "execution_count": 7,
     "metadata": {},
     "output_type": "execute_result"
    },
    {
     "data": {
      "image/png": "[encoded data removed]",
      "text/plain": [
       "<Figure size 432x288 with 1 Axes>"
      ]
     },
     "metadata": {
      "needs_background": "light"
     },
     "output_type": "display_data"
    }
   ],
   "source": [
    "# We can show the two distributions on the same histogram.\n",
    "# note that in addition to specifying the number of bins, we also specify alpha, which is the degree of transparency.\n",
    "\n",
    "IPL2018[['innings1','innings2']].plot.hist(alpha=.5,bins=10)\n",
    "plt.xlabel('Runs')\n",
    "plt.ylabel('Frequency')\n",
    "plt.title(\"Runs distribution by innings\", fontsize=15)\n",
    "plt.xlim((60, 250))\n",
    "plt.ylim((0, 20))"
   ]
  },
  {
   "cell_type": "markdown",
   "metadata": {},
   "source": [
    "## Self test\n",
    "\n",
    "Try experimenting with different values of alpha to see how this changes the the visual effectiveness of the histogram."
   ]
  },
  {
   "cell_type": "markdown",
   "metadata": {},
   "source": [
    "## The distribution of runs scored by winning and losing teams\n",
    "\n",
    "Having looked at the distributions comparing the team batting first and second, now let's compare the histograms for the teams that win and the teams that lose.\n",
    "\n",
    "First, define winning and losing teams - which is derived by comparing the number of runs scored."
   ]
  },
  {
   "cell_type": "code",
   "execution_count": 8,
   "metadata": {},
   "outputs": [],
   "source": [
    "IPL2018['winscore']= np.where(IPL2018['innings1']>IPL2018['innings2'],IPL2018['innings1'],IPL2018['innings2'])\n",
    "IPL2018['losescore'] = np.where(IPL2018['innings1']>IPL2018['innings2'],IPL2018['innings2'],IPL2018['innings1'])"
   ]
  },
  {
   "cell_type": "code",
   "execution_count": 9,
   "metadata": {},
   "outputs": [
    {
     "data": {
      "text/plain": [
       "(0.0, 20.0)"
      ]
     },
     "execution_count": 9,
     "metadata": {},
     "output_type": "execute_result"
    },
    {
     "data": {
      "image/png": "[encoded data removed]",
      "text/plain": [
       "<Figure size 432x288 with 1 Axes>"
      ]
     },
     "metadata": {
      "needs_background": "light"
     },
     "output_type": "display_data"
    }
   ],
   "source": [
    "# Now we can plot two histograms together\n",
    "\n",
    "IPL2018[['winscore','losescore']].plot.hist(alpha=.5,bins=10)\n",
    "plt.xlabel('Runs')\n",
    "plt.ylabel('Frequency')\n",
    "plt.title(\"Runs distribution by innings\", fontsize=15)\n",
    "plt.xlim((60, 250))\n",
    "plt.ylim((0, 20))"
   ]
  },
  {
   "cell_type": "markdown",
   "metadata": {},
   "source": [
    "We can see that the winning score appears like a rightward shift of the losing score- which should not be surprising! For a low score, losing scores must outnumber winning scores, while for high scores, winning scores must outnumber losing scores. "
   ]
  },
  {
   "cell_type": "markdown",
   "metadata": {},
   "source": [
    "## Run Accumulation and Wickets\n",
    "\n",
    "We now look at a particular game, the opening game of the 2018 season between the Mumbai Indians (the reigning champions) and Chennai Super Kings, played in Mumbai on April 7, 2018. The file we now load contains a record of the game, ball by ball."
   ]
  },
  {
   "cell_type": "code",
   "execution_count": 11,
   "metadata": {
    "scrolled": true
   },
   "outputs": [
    {
     "name": "stdout",
     "output_type": "stream",
     "text": [
      "['MI_over_no', 'MI_ball_no', 'MI_runs_total_end', 'MI_delivery_no', 'MI_wicket', 'CSK_over_no', 'CSK_ball_no', 'CSK_runs_total_end', 'CSK_delivery_no', 'CSK_wicket']\n"
     ]
    },
    {
     "data": {
      "text/html": [
       "<div>\n",
       "<style scoped>\n",
       "    .dataframe tbody tr th:only-of-type {\n",
       "        vertical-align: middle;\n",
       "    }\n",
       "\n",
       "    .dataframe tbody tr th {\n",
       "        vertical-align: top;\n",
       "    }\n",
       "\n",
       "    .dataframe thead th {\n",
       "        text-align: right;\n",
       "    }\n",
       "</style>\n",
       "<table border=\"1\" class=\"dataframe\">\n",
       "  <thead>\n",
       "    <tr style=\"text-align: right;\">\n",
       "      <th></th>\n",
       "      <th>MI_over_no</th>\n",
       "      <th>MI_ball_no</th>\n",
       "      <th>MI_runs_total_end</th>\n",
       "      <th>MI_delivery_no</th>\n",
       "      <th>MI_wicket</th>\n",
       "      <th>CSK_over_no</th>\n",
       "      <th>CSK_ball_no</th>\n",
       "      <th>CSK_runs_total_end</th>\n",
       "      <th>CSK_delivery_no</th>\n",
       "      <th>CSK_wicket</th>\n",
       "    </tr>\n",
       "  </thead>\n",
       "  <tbody>\n",
       "    <tr>\n",
       "      <th>0</th>\n",
       "      <td>0.0</td>\n",
       "      <td>1.0</td>\n",
       "      <td>0.0</td>\n",
       "      <td>1.0</td>\n",
       "      <td>0.0</td>\n",
       "      <td>0</td>\n",
       "      <td>1</td>\n",
       "      <td>0</td>\n",
       "      <td>1</td>\n",
       "      <td>0</td>\n",
       "    </tr>\n",
       "    <tr>\n",
       "      <th>1</th>\n",
       "      <td>0.0</td>\n",
       "      <td>2.0</td>\n",
       "      <td>0.0</td>\n",
       "      <td>2.0</td>\n",
       "      <td>0.0</td>\n",
       "      <td>0</td>\n",
       "      <td>2</td>\n",
       "      <td>1</td>\n",
       "      <td>2</td>\n",
       "      <td>0</td>\n",
       "    </tr>\n",
       "    <tr>\n",
       "      <th>2</th>\n",
       "      <td>0.0</td>\n",
       "      <td>3.0</td>\n",
       "      <td>0.0</td>\n",
       "      <td>3.0</td>\n",
       "      <td>0.0</td>\n",
       "      <td>0</td>\n",
       "      <td>3</td>\n",
       "      <td>2</td>\n",
       "      <td>3</td>\n",
       "      <td>0</td>\n",
       "    </tr>\n",
       "    <tr>\n",
       "      <th>3</th>\n",
       "      <td>0.0</td>\n",
       "      <td>4.0</td>\n",
       "      <td>4.0</td>\n",
       "      <td>4.0</td>\n",
       "      <td>0.0</td>\n",
       "      <td>0</td>\n",
       "      <td>4</td>\n",
       "      <td>3</td>\n",
       "      <td>4</td>\n",
       "      <td>0</td>\n",
       "    </tr>\n",
       "    <tr>\n",
       "      <th>4</th>\n",
       "      <td>0.0</td>\n",
       "      <td>5.0</td>\n",
       "      <td>5.0</td>\n",
       "      <td>5.0</td>\n",
       "      <td>0.0</td>\n",
       "      <td>0</td>\n",
       "      <td>5</td>\n",
       "      <td>3</td>\n",
       "      <td>5</td>\n",
       "      <td>0</td>\n",
       "    </tr>\n",
       "    <tr>\n",
       "      <th>...</th>\n",
       "      <td>...</td>\n",
       "      <td>...</td>\n",
       "      <td>...</td>\n",
       "      <td>...</td>\n",
       "      <td>...</td>\n",
       "      <td>...</td>\n",
       "      <td>...</td>\n",
       "      <td>...</td>\n",
       "      <td>...</td>\n",
       "      <td>...</td>\n",
       "    </tr>\n",
       "    <tr>\n",
       "      <th>119</th>\n",
       "      <td>19.0</td>\n",
       "      <td>4.0</td>\n",
       "      <td>162.0</td>\n",
       "      <td>120.0</td>\n",
       "      <td>0.0</td>\n",
       "      <td>19</td>\n",
       "      <td>1</td>\n",
       "      <td>159</td>\n",
       "      <td>120</td>\n",
       "      <td>0</td>\n",
       "    </tr>\n",
       "    <tr>\n",
       "      <th>120</th>\n",
       "      <td>19.0</td>\n",
       "      <td>5.0</td>\n",
       "      <td>164.0</td>\n",
       "      <td>121.0</td>\n",
       "      <td>0.0</td>\n",
       "      <td>19</td>\n",
       "      <td>2</td>\n",
       "      <td>159</td>\n",
       "      <td>121</td>\n",
       "      <td>0</td>\n",
       "    </tr>\n",
       "    <tr>\n",
       "      <th>121</th>\n",
       "      <td>19.0</td>\n",
       "      <td>6.0</td>\n",
       "      <td>165.0</td>\n",
       "      <td>122.0</td>\n",
       "      <td>0.0</td>\n",
       "      <td>19</td>\n",
       "      <td>3</td>\n",
       "      <td>159</td>\n",
       "      <td>122</td>\n",
       "      <td>0</td>\n",
       "    </tr>\n",
       "    <tr>\n",
       "      <th>122</th>\n",
       "      <td>NaN</td>\n",
       "      <td>NaN</td>\n",
       "      <td>NaN</td>\n",
       "      <td>NaN</td>\n",
       "      <td>NaN</td>\n",
       "      <td>19</td>\n",
       "      <td>4</td>\n",
       "      <td>165</td>\n",
       "      <td>123</td>\n",
       "      <td>0</td>\n",
       "    </tr>\n",
       "    <tr>\n",
       "      <th>123</th>\n",
       "      <td>NaN</td>\n",
       "      <td>NaN</td>\n",
       "      <td>NaN</td>\n",
       "      <td>NaN</td>\n",
       "      <td>NaN</td>\n",
       "      <td>19</td>\n",
       "      <td>5</td>\n",
       "      <td>169</td>\n",
       "      <td>124</td>\n",
       "      <td>0</td>\n",
       "    </tr>\n",
       "  </tbody>\n",
       "</table>\n",
       "<p>124 rows × 10 columns</p>\n",
       "</div>"
      ],
      "text/plain": [
       "     MI_over_no  MI_ball_no  MI_runs_total_end  MI_delivery_no  MI_wicket  \\\n",
       "0           0.0         1.0                0.0             1.0        0.0   \n",
       "1           0.0         2.0                0.0             2.0        0.0   \n",
       "2           0.0         3.0                0.0             3.0        0.0   \n",
       "3           0.0         4.0                4.0             4.0        0.0   \n",
       "4           0.0         5.0                5.0             5.0        0.0   \n",
       "..          ...         ...                ...             ...        ...   \n",
       "119        19.0         4.0              162.0           120.0        0.0   \n",
       "120        19.0         5.0              164.0           121.0        0.0   \n",
       "121        19.0         6.0              165.0           122.0        0.0   \n",
       "122         NaN         NaN                NaN             NaN        NaN   \n",
       "123         NaN         NaN                NaN             NaN        NaN   \n",
       "\n",
       "     CSK_over_no  CSK_ball_no  CSK_runs_total_end  CSK_delivery_no  CSK_wicket  \n",
       "0              0            1                   0                1           0  \n",
       "1              0            2                   1                2           0  \n",
       "2              0            3                   2                3           0  \n",
       "3              0            4                   3                4           0  \n",
       "4              0            5                   3                5           0  \n",
       "..           ...          ...                 ...              ...         ...  \n",
       "119           19            1                 159              120           0  \n",
       "120           19            2                 159              121           0  \n",
       "121           19            3                 159              122           0  \n",
       "122           19            4                 165              123           0  \n",
       "123           19            5                 169              124           0  \n",
       "\n",
       "[124 rows x 10 columns]"
      ]
     },
     "execution_count": 11,
     "metadata": {},
     "output_type": "execute_result"
    }
   ],
   "source": [
    "MI_CSK = pd.read_excel('D:\\\\GitHub\\\\Coursera\\\\SportsPerformanceAnalytics\\\\FoundationsofSportsAnalytics_DataRepresentationanModelsinSports\\\\data\\\\Week3\\\\MIvCSKadj.xlsx')\n",
    "print(MI_CSK.columns.tolist())\n",
    "MI_CSK"
   ]
  },
  {
   "cell_type": "markdown",
   "metadata": {},
   "source": [
    "Bowling in cricket alternates between each end of the batting strip (also, confusingly, called the \"wicket\"). Thus one bowler delivers six consecutive balls from one end, and then another bowler delivers six consecutive balls from the other end. Each batch of six balls (\"deliveries\") is called an \"over\". Hence a Twenty20 game refers to 20 over, equal to 120 deliveries. In the dataframe \"ball_no\" refers to the ball of the over in question, which is referred to by \"over_no\". \"delivery_no\" refers to its position in the inning as a whole. You can see that, in fact, there were 122 deliveries in the Mumbai innings, while there were 124 deliveries in the Chennai innings, despite only 19.5 overs being completed (Chennai won, i.e. surpassed the Mumbai score, with one ball to spare). This arises because some balls delivered do not count- these could be either \"wides\" - called when the umpire decides that the ball was delivered so far away from the batsman that he had no reasonable chance of hitting it - or \"no balls\", called when the bowler released the ball too close to the batsman (there is a line which the bowler must not overstep).\n",
    "\n",
    "Runs_total_end refers to the number of runs scored by each team by the completion of a given delivery number. So we can now draw a linechart plotting the runs against delivery number for Mumbai, the team which batted first:"
   ]
  },
  {
   "cell_type": "code",
   "execution_count": 12,
   "metadata": {},
   "outputs": [
    {
     "data": {
      "text/plain": [
       "[<matplotlib.lines.Line2D at 0x2f4176b13d0>]"
      ]
     },
     "execution_count": 12,
     "metadata": {},
     "output_type": "execute_result"
    },
    {
     "data": {
      "image/png": "[encoded data removed]",
      "text/plain": [
       "<Figure size 432x288 with 1 Axes>"
      ]
     },
     "metadata": {
      "needs_background": "light"
     },
     "output_type": "display_data"
    }
   ],
   "source": [
    "plt.plot(MI_CSK['MI_delivery_no'],MI_CSK['MI_runs_total_end'])"
   ]
  },
  {
   "cell_type": "markdown",
   "metadata": {},
   "source": [
    "We can see from this chart that Mumbai maintained a steady pace throughout the inning - the score increases more or less linearly with the number of balls.\n",
    "\n",
    "The next thing we want to do is incorporate the fall of wickets into the chart, to see how their batting resources changed as the inning progressed.\n",
    "\n",
    "The \"wicket\" columns for each team tell us if a wicket fell on that delivery ('1') or not ('0'). We can create dfs as subsets of main df, to identify the delivery number and runs scored when the wicket fell."
   ]
  },
  {
   "cell_type": "code",
   "execution_count": 13,
   "metadata": {},
   "outputs": [
    {
     "data": {
      "text/html": [
       "<div>\n",
       "<style scoped>\n",
       "    .dataframe tbody tr th:only-of-type {\n",
       "        vertical-align: middle;\n",
       "    }\n",
       "\n",
       "    .dataframe tbody tr th {\n",
       "        vertical-align: top;\n",
       "    }\n",
       "\n",
       "    .dataframe thead th {\n",
       "        text-align: right;\n",
       "    }\n",
       "</style>\n",
       "<table border=\"1\" class=\"dataframe\">\n",
       "  <thead>\n",
       "    <tr style=\"text-align: right;\">\n",
       "      <th></th>\n",
       "      <th>MI_over_no</th>\n",
       "      <th>MI_ball_no</th>\n",
       "      <th>MI_runs_total_end</th>\n",
       "      <th>MI_delivery_no</th>\n",
       "      <th>MI_wicket</th>\n",
       "      <th>CSK_over_no</th>\n",
       "      <th>CSK_ball_no</th>\n",
       "      <th>CSK_runs_total_end</th>\n",
       "      <th>CSK_delivery_no</th>\n",
       "      <th>CSK_wicket</th>\n",
       "    </tr>\n",
       "  </thead>\n",
       "  <tbody>\n",
       "    <tr>\n",
       "      <th>12</th>\n",
       "      <td>2.0</td>\n",
       "      <td>1.0</td>\n",
       "      <td>7.0</td>\n",
       "      <td>13.0</td>\n",
       "      <td>1.0</td>\n",
       "      <td>2</td>\n",
       "      <td>1</td>\n",
       "      <td>16</td>\n",
       "      <td>13</td>\n",
       "      <td>0</td>\n",
       "    </tr>\n",
       "    <tr>\n",
       "      <th>23</th>\n",
       "      <td>3.0</td>\n",
       "      <td>6.0</td>\n",
       "      <td>20.0</td>\n",
       "      <td>24.0</td>\n",
       "      <td>1.0</td>\n",
       "      <td>3</td>\n",
       "      <td>6</td>\n",
       "      <td>31</td>\n",
       "      <td>24</td>\n",
       "      <td>0</td>\n",
       "    </tr>\n",
       "    <tr>\n",
       "      <th>75</th>\n",
       "      <td>12.0</td>\n",
       "      <td>3.0</td>\n",
       "      <td>98.0</td>\n",
       "      <td>76.0</td>\n",
       "      <td>1.0</td>\n",
       "      <td>12</td>\n",
       "      <td>2</td>\n",
       "      <td>76</td>\n",
       "      <td>76</td>\n",
       "      <td>0</td>\n",
       "    </tr>\n",
       "    <tr>\n",
       "      <th>88</th>\n",
       "      <td>14.0</td>\n",
       "      <td>4.0</td>\n",
       "      <td>113.0</td>\n",
       "      <td>89.0</td>\n",
       "      <td>1.0</td>\n",
       "      <td>14</td>\n",
       "      <td>3</td>\n",
       "      <td>103</td>\n",
       "      <td>89</td>\n",
       "      <td>0</td>\n",
       "    </tr>\n",
       "  </tbody>\n",
       "</table>\n",
       "</div>"
      ],
      "text/plain": [
       "    MI_over_no  MI_ball_no  MI_runs_total_end  MI_delivery_no  MI_wicket  \\\n",
       "12         2.0         1.0                7.0            13.0        1.0   \n",
       "23         3.0         6.0               20.0            24.0        1.0   \n",
       "75        12.0         3.0               98.0            76.0        1.0   \n",
       "88        14.0         4.0              113.0            89.0        1.0   \n",
       "\n",
       "    CSK_over_no  CSK_ball_no  CSK_runs_total_end  CSK_delivery_no  CSK_wicket  \n",
       "12            2            1                  16               13           0  \n",
       "23            3            6                  31               24           0  \n",
       "75           12            2                  76               76           0  \n",
       "88           14            3                 103               89           0  "
      ]
     },
     "execution_count": 13,
     "metadata": {},
     "output_type": "execute_result"
    }
   ],
   "source": [
    "MIwicket = MI_CSK[MI_CSK['MI_wicket']>0]\n",
    "CSKwicket = MI_CSK[MI_CSK['CSK_wicket']>0]\n",
    "MIwicket"
   ]
  },
  {
   "cell_type": "code",
   "execution_count": 14,
   "metadata": {},
   "outputs": [
    {
     "data": {
      "text/plain": [
       "[<matplotlib.lines.Line2D at 0x2f41779f8b0>,\n",
       " <matplotlib.lines.Line2D at 0x2f41779fa60>]"
      ]
     },
     "execution_count": 14,
     "metadata": {},
     "output_type": "execute_result"
    },
    {
     "data": {
      "image/png": "[encoded data removed]",
      "text/plain": [
       "<Figure size 432x288 with 1 Axes>"
      ]
     },
     "metadata": {
      "needs_background": "light"
     },
     "output_type": "display_data"
    }
   ],
   "source": [
    "# We can now plot the fall of wickets alongside the runs total \n",
    "# note that we obtain the red dots for wickets by specifying 'ro' - 'r' for red and 'o' for circle dots\n",
    "\n",
    "plt.plot(MI_CSK['MI_delivery_no'],MI_CSK['MI_runs_total_end'],MIwicket['MI_runs_total_end'], 'ro')"
   ]
  },
  {
   "cell_type": "markdown",
   "metadata": {},
   "source": [
    "We can see from this that Mumbai made a realtively slow start, and lost two wickets early on. After that the innings stabilized, and then acclerated rapidly in the middle, only to slow down again after two more wickets fell. Some acceleration is also visible at the end of the innings."
   ]
  },
  {
   "cell_type": "markdown",
   "metadata": {},
   "source": [
    "##  Self test\n",
    "\n",
    "Try using 'ro' as the marker for the runs scored. Based on this you can consider other types of colors and/or markers for each variable. You can find options for markers in matplotlib here: https://matplotlib.org/3.1.1/api/markers_api.html and for colors here: https://matplotlib.org/3.1.0/gallery/color/named_colors.html"
   ]
  },
  {
   "cell_type": "code",
   "execution_count": 15,
   "metadata": {},
   "outputs": [
    {
     "data": {
      "text/plain": [
       "[<matplotlib.lines.Line2D at 0x2f41780a940>,\n",
       " <matplotlib.lines.Line2D at 0x2f41780aac0>]"
      ]
     },
     "execution_count": 15,
     "metadata": {},
     "output_type": "execute_result"
    },
    {
     "data": {
      "image/png": "[encoded data removed]",
      "text/plain": [
       "<Figure size 432x288 with 1 Axes>"
      ]
     },
     "metadata": {
      "needs_background": "light"
     },
     "output_type": "display_data"
    }
   ],
   "source": [
    "# we now combine the runs scored profile for Mumbai with Chennai's\n",
    "\n",
    "plt.plot(MI_CSK['CSK_delivery_no'],MI_CSK['MI_runs_total_end'],MI_CSK['CSK_runs_total_end'])"
   ]
  },
  {
   "cell_type": "markdown",
   "metadata": {},
   "source": [
    "We can see that Chennai's innings (in orange) progressed rather differently. Initially Chennai were well ahead of the pace set by Mumbai. However, Chennai slowed down considerably after about 25 deliveries, and were well behind Mumbai's scoring rate by mid-innings. Only at the end did Chennai accelerate, and overtake Mumbai's score to win the game."
   ]
  },
  {
   "cell_type": "code",
   "execution_count": 16,
   "metadata": {},
   "outputs": [
    {
     "data": {
      "text/plain": [
       "[<matplotlib.lines.Line2D at 0x2f41787bac0>,\n",
       " <matplotlib.lines.Line2D at 0x2f41787bc40>]"
      ]
     },
     "execution_count": 16,
     "metadata": {},
     "output_type": "execute_result"
    },
    {
     "data": {
      "image/png": "[encoded data removed]",
      "text/plain": [
       "<Figure size 432x288 with 1 Axes>"
      ]
     },
     "metadata": {
      "needs_background": "light"
     },
     "output_type": "display_data"
    }
   ],
   "source": [
    "# We now plot the fall of wickets on the chart\n",
    "\n",
    "plt.plot(MI_CSK['CSK_delivery_no'],MI_CSK['MI_runs_total_end'],MIwicket['MI_runs_total_end'], 'bo')\n",
    "plt.plot(MI_CSK['CSK_delivery_no'],MI_CSK['CSK_runs_total_end'],CSKwicket['CSK_runs_total_end'], 'ro')"
   ]
  },
  {
   "cell_type": "markdown",
   "metadata": {},
   "source": [
    "Now we can see why Chennai fell behind after the initial good start. Unlike Mumbai, Chennai's wickets fell steadily throughout the innings, a fact which tended to slow down the scoring rate. In fact, Chennai had lost eight wickets before its final accleration around the 100 delivery mark. In cricketing terms this was a fairly exceptional performance, for it is unusual for teams that have already lost eight wickets to score many runs, let alone outperform outpace the rest of the innings to this extent.\n",
    "\n",
    "This analysis was for just one game. We now write a program which will allow us to reproduce these profiles for any game in IPL 2018 season, and compare profiles for any pair of games.\n",
    "\n",
    "We now load a dataframe that includes every delivery for the season:"
   ]
  },
  {
   "cell_type": "code",
   "execution_count": 17,
   "metadata": {},
   "outputs": [
    {
     "name": "stdout",
     "output_type": "stream",
     "text": [
      "['home team', 'batting_team', 'bowling_team', 'gameno', 'innings_number', 'over_no', 'ball_no', 'runs_total_end', 'delivery_no', 'delno^2', 'runs*wkts', 'wicket', 'wkts_total_end']\n"
     ]
    }
   ],
   "source": [
    "IPLbyb = pd.read_excel('D:\\\\GitHub\\\\Coursera\\\\SportsPerformanceAnalytics\\\\FoundationsofSportsAnalytics_DataRepresentationanModelsinSports\\\\data\\\\Week3\\\\IPLbyb.xlsx')\n",
    "print(IPLbyb.columns.tolist())"
   ]
  },
  {
   "cell_type": "markdown",
   "metadata": {},
   "source": [
    "We are now going to define two functions: one that will allow to create a comparable chart for any game, and another that will allow us to specify two games to compare.\n",
    "\n",
    "We will encounter functions again, but for Python novices these take a while to become accustomed to. Rather than explain in detail here, we'll just run the functions to show what can be done."
   ]
  },
  {
   "cell_type": "code",
   "execution_count": 18,
   "metadata": {},
   "outputs": [],
   "source": [
    "# First, the function for plotting the runs and wickets for each team in a game.\n",
    "\n",
    "def plot_runs_wickets(IPLbyb, ax):\n",
    "    gameno = IPLbyb['gameno'].unique()[0]\n",
    "    for inning, data in IPLbyb.groupby('innings_number'):\n",
    "        # create separate dataframe for wickets\n",
    "        wicket = data[data['wicket'] > 0]\n",
    "        # plots line\n",
    "        ax.plot(data['delivery_no'],data['runs_total_end'])\n",
    "        # plots markers\n",
    "        marker = 'bo' if inning == 1 else 'ro'\n",
    "        ax.plot(wicket['delivery_no'],wicket['runs_total_end'], marker)\n",
    "        # labels\n",
    "        ax.set_xlabel('balls')\n",
    "        ax.set_ylabel('runs')\n",
    "        ax.set_title(f'Game {gameno}')\n",
    "    ax.legend(['runs1','wkt1','runs2','wkt2'])"
   ]
  },
  {
   "cell_type": "code",
   "execution_count": 19,
   "metadata": {},
   "outputs": [],
   "source": [
    "# Second, a function that allows us to plot two or more games at the same time. \n",
    "\n",
    "def plot_runs_wickets_multi_game(list_games):\n",
    "    n = len(list_games)\n",
    "    fig, axs = plt.subplots(n, 1, figsize=(6,15))\n",
    "    for i, gameno in enumerate(list_games):\n",
    "        game = IPLbyb[IPLbyb['gameno'] == gameno]\n",
    "        plot_runs_wickets(game, axs[i] if n > 1 else axs)"
   ]
  },
  {
   "cell_type": "markdown",
   "metadata": {},
   "source": [
    "These functions will allow us to produce mutliple charts in order to display games alongside each other. Before we do that, though, we should generate a list of games, so we can decide which game's number refer to which teams. The code below generates a list for us. In our chart we'll see innings1 and innings2 as before. The next three lines of code creates a table which specifies the home team, the away team and and whether the home team batted first, so that the teams 1 and 2 can be identified for any game."
   ]
  },
  {
   "cell_type": "code",
   "execution_count": 20,
   "metadata": {},
   "outputs": [
    {
     "data": {
      "text/html": [
       "<div>\n",
       "<style scoped>\n",
       "    .dataframe tbody tr th:only-of-type {\n",
       "        vertical-align: middle;\n",
       "    }\n",
       "\n",
       "    .dataframe tbody tr th {\n",
       "        vertical-align: top;\n",
       "    }\n",
       "\n",
       "    .dataframe thead th {\n",
       "        text-align: right;\n",
       "    }\n",
       "</style>\n",
       "<table border=\"1\" class=\"dataframe\">\n",
       "  <thead>\n",
       "    <tr style=\"text-align: right;\">\n",
       "      <th></th>\n",
       "      <th>home team</th>\n",
       "      <th>batting_team</th>\n",
       "      <th>bowling_team</th>\n",
       "      <th>gameno</th>\n",
       "      <th>innings_number</th>\n",
       "      <th>over_no</th>\n",
       "      <th>ball_no</th>\n",
       "      <th>runs_total_end</th>\n",
       "      <th>delivery_no</th>\n",
       "      <th>delno^2</th>\n",
       "      <th>runs*wkts</th>\n",
       "      <th>wicket</th>\n",
       "      <th>wkts_total_end</th>\n",
       "      <th>hometeambatsfirst</th>\n",
       "    </tr>\n",
       "  </thead>\n",
       "  <tbody>\n",
       "    <tr>\n",
       "      <th>0</th>\n",
       "      <td>Mumbai Indians</td>\n",
       "      <td>Mumbai Indians</td>\n",
       "      <td>Chennai Super Kings</td>\n",
       "      <td>1</td>\n",
       "      <td>1</td>\n",
       "      <td>0</td>\n",
       "      <td>1</td>\n",
       "      <td>0</td>\n",
       "      <td>1</td>\n",
       "      <td>1</td>\n",
       "      <td>0</td>\n",
       "      <td>0</td>\n",
       "      <td>0</td>\n",
       "      <td>yes</td>\n",
       "    </tr>\n",
       "    <tr>\n",
       "      <th>1</th>\n",
       "      <td>Mumbai Indians</td>\n",
       "      <td>Mumbai Indians</td>\n",
       "      <td>Chennai Super Kings</td>\n",
       "      <td>1</td>\n",
       "      <td>1</td>\n",
       "      <td>0</td>\n",
       "      <td>2</td>\n",
       "      <td>0</td>\n",
       "      <td>2</td>\n",
       "      <td>4</td>\n",
       "      <td>0</td>\n",
       "      <td>0</td>\n",
       "      <td>0</td>\n",
       "      <td>yes</td>\n",
       "    </tr>\n",
       "    <tr>\n",
       "      <th>2</th>\n",
       "      <td>Mumbai Indians</td>\n",
       "      <td>Mumbai Indians</td>\n",
       "      <td>Chennai Super Kings</td>\n",
       "      <td>1</td>\n",
       "      <td>1</td>\n",
       "      <td>0</td>\n",
       "      <td>3</td>\n",
       "      <td>0</td>\n",
       "      <td>3</td>\n",
       "      <td>9</td>\n",
       "      <td>0</td>\n",
       "      <td>0</td>\n",
       "      <td>0</td>\n",
       "      <td>yes</td>\n",
       "    </tr>\n",
       "    <tr>\n",
       "      <th>3</th>\n",
       "      <td>Mumbai Indians</td>\n",
       "      <td>Mumbai Indians</td>\n",
       "      <td>Chennai Super Kings</td>\n",
       "      <td>1</td>\n",
       "      <td>1</td>\n",
       "      <td>0</td>\n",
       "      <td>4</td>\n",
       "      <td>4</td>\n",
       "      <td>4</td>\n",
       "      <td>16</td>\n",
       "      <td>0</td>\n",
       "      <td>0</td>\n",
       "      <td>0</td>\n",
       "      <td>yes</td>\n",
       "    </tr>\n",
       "    <tr>\n",
       "      <th>4</th>\n",
       "      <td>Mumbai Indians</td>\n",
       "      <td>Mumbai Indians</td>\n",
       "      <td>Chennai Super Kings</td>\n",
       "      <td>1</td>\n",
       "      <td>1</td>\n",
       "      <td>0</td>\n",
       "      <td>5</td>\n",
       "      <td>5</td>\n",
       "      <td>5</td>\n",
       "      <td>25</td>\n",
       "      <td>0</td>\n",
       "      <td>0</td>\n",
       "      <td>0</td>\n",
       "      <td>yes</td>\n",
       "    </tr>\n",
       "    <tr>\n",
       "      <th>...</th>\n",
       "      <td>...</td>\n",
       "      <td>...</td>\n",
       "      <td>...</td>\n",
       "      <td>...</td>\n",
       "      <td>...</td>\n",
       "      <td>...</td>\n",
       "      <td>...</td>\n",
       "      <td>...</td>\n",
       "      <td>...</td>\n",
       "      <td>...</td>\n",
       "      <td>...</td>\n",
       "      <td>...</td>\n",
       "      <td>...</td>\n",
       "      <td>...</td>\n",
       "    </tr>\n",
       "    <tr>\n",
       "      <th>14281</th>\n",
       "      <td>Chennai Super Kings</td>\n",
       "      <td>Chennai Super Kings</td>\n",
       "      <td>Sunrisers</td>\n",
       "      <td>60</td>\n",
       "      <td>2</td>\n",
       "      <td>17</td>\n",
       "      <td>5</td>\n",
       "      <td>177</td>\n",
       "      <td>110</td>\n",
       "      <td>12100</td>\n",
       "      <td>354</td>\n",
       "      <td>0</td>\n",
       "      <td>2</td>\n",
       "      <td>no</td>\n",
       "    </tr>\n",
       "    <tr>\n",
       "      <th>14282</th>\n",
       "      <td>Chennai Super Kings</td>\n",
       "      <td>Chennai Super Kings</td>\n",
       "      <td>Sunrisers</td>\n",
       "      <td>60</td>\n",
       "      <td>2</td>\n",
       "      <td>17</td>\n",
       "      <td>6</td>\n",
       "      <td>177</td>\n",
       "      <td>111</td>\n",
       "      <td>12321</td>\n",
       "      <td>354</td>\n",
       "      <td>0</td>\n",
       "      <td>2</td>\n",
       "      <td>no</td>\n",
       "    </tr>\n",
       "    <tr>\n",
       "      <th>14283</th>\n",
       "      <td>Chennai Super Kings</td>\n",
       "      <td>Chennai Super Kings</td>\n",
       "      <td>Sunrisers</td>\n",
       "      <td>60</td>\n",
       "      <td>2</td>\n",
       "      <td>18</td>\n",
       "      <td>1</td>\n",
       "      <td>177</td>\n",
       "      <td>112</td>\n",
       "      <td>12544</td>\n",
       "      <td>354</td>\n",
       "      <td>0</td>\n",
       "      <td>2</td>\n",
       "      <td>no</td>\n",
       "    </tr>\n",
       "    <tr>\n",
       "      <th>14284</th>\n",
       "      <td>Chennai Super Kings</td>\n",
       "      <td>Chennai Super Kings</td>\n",
       "      <td>Sunrisers</td>\n",
       "      <td>60</td>\n",
       "      <td>2</td>\n",
       "      <td>18</td>\n",
       "      <td>2</td>\n",
       "      <td>177</td>\n",
       "      <td>113</td>\n",
       "      <td>12769</td>\n",
       "      <td>354</td>\n",
       "      <td>0</td>\n",
       "      <td>2</td>\n",
       "      <td>no</td>\n",
       "    </tr>\n",
       "    <tr>\n",
       "      <th>14285</th>\n",
       "      <td>Chennai Super Kings</td>\n",
       "      <td>Chennai Super Kings</td>\n",
       "      <td>Sunrisers</td>\n",
       "      <td>60</td>\n",
       "      <td>2</td>\n",
       "      <td>18</td>\n",
       "      <td>3</td>\n",
       "      <td>181</td>\n",
       "      <td>114</td>\n",
       "      <td>12996</td>\n",
       "      <td>362</td>\n",
       "      <td>0</td>\n",
       "      <td>2</td>\n",
       "      <td>no</td>\n",
       "    </tr>\n",
       "  </tbody>\n",
       "</table>\n",
       "<p>14286 rows × 14 columns</p>\n",
       "</div>"
      ],
      "text/plain": [
       "                 home team         batting_team         bowling_team  gameno  \\\n",
       "0           Mumbai Indians       Mumbai Indians  Chennai Super Kings       1   \n",
       "1           Mumbai Indians       Mumbai Indians  Chennai Super Kings       1   \n",
       "2           Mumbai Indians       Mumbai Indians  Chennai Super Kings       1   \n",
       "3           Mumbai Indians       Mumbai Indians  Chennai Super Kings       1   \n",
       "4           Mumbai Indians       Mumbai Indians  Chennai Super Kings       1   \n",
       "...                    ...                  ...                  ...     ...   \n",
       "14281  Chennai Super Kings  Chennai Super Kings            Sunrisers      60   \n",
       "14282  Chennai Super Kings  Chennai Super Kings            Sunrisers      60   \n",
       "14283  Chennai Super Kings  Chennai Super Kings            Sunrisers      60   \n",
       "14284  Chennai Super Kings  Chennai Super Kings            Sunrisers      60   \n",
       "14285  Chennai Super Kings  Chennai Super Kings            Sunrisers      60   \n",
       "\n",
       "       innings_number  over_no  ball_no  runs_total_end  delivery_no  delno^2  \\\n",
       "0                   1        0        1               0            1        1   \n",
       "1                   1        0        2               0            2        4   \n",
       "2                   1        0        3               0            3        9   \n",
       "3                   1        0        4               4            4       16   \n",
       "4                   1        0        5               5            5       25   \n",
       "...               ...      ...      ...             ...          ...      ...   \n",
       "14281               2       17        5             177          110    12100   \n",
       "14282               2       17        6             177          111    12321   \n",
       "14283               2       18        1             177          112    12544   \n",
       "14284               2       18        2             177          113    12769   \n",
       "14285               2       18        3             181          114    12996   \n",
       "\n",
       "       runs*wkts  wicket  wkts_total_end hometeambatsfirst  \n",
       "0              0       0               0               yes  \n",
       "1              0       0               0               yes  \n",
       "2              0       0               0               yes  \n",
       "3              0       0               0               yes  \n",
       "4              0       0               0               yes  \n",
       "...          ...     ...             ...               ...  \n",
       "14281        354       0               2                no  \n",
       "14282        354       0               2                no  \n",
       "14283        354       0               2                no  \n",
       "14284        354       0               2                no  \n",
       "14285        362       0               2                no  \n",
       "\n",
       "[14286 rows x 14 columns]"
      ]
     },
     "execution_count": 20,
     "metadata": {},
     "output_type": "execute_result"
    }
   ],
   "source": [
    "# Identify if the home team batted first\n",
    "\n",
    "IPLbyb['hometeambatsfirst']= np.where((IPLbyb['home team']==IPLbyb['batting_team']) & (IPLbyb['innings_number']==1),'yes','no')\n",
    "IPLbyb"
   ]
  },
  {
   "cell_type": "code",
   "execution_count": 21,
   "metadata": {},
   "outputs": [],
   "source": [
    "# drop duplicates so we just have a list of games\n",
    "\n",
    "games = IPLbyb.drop_duplicates('gameno')"
   ]
  },
  {
   "cell_type": "code",
   "execution_count": 22,
   "metadata": {
    "scrolled": true
   },
   "outputs": [
    {
     "data": {
      "text/html": [
       "<div>\n",
       "<style scoped>\n",
       "    .dataframe tbody tr th:only-of-type {\n",
       "        vertical-align: middle;\n",
       "    }\n",
       "\n",
       "    .dataframe tbody tr th {\n",
       "        vertical-align: top;\n",
       "    }\n",
       "\n",
       "    .dataframe thead th {\n",
       "        text-align: right;\n",
       "    }\n",
       "</style>\n",
       "<table border=\"1\" class=\"dataframe\">\n",
       "  <thead>\n",
       "    <tr style=\"text-align: right;\">\n",
       "      <th></th>\n",
       "      <th>gameno</th>\n",
       "      <th>home team</th>\n",
       "      <th>road team</th>\n",
       "      <th>hometeambatsfirst</th>\n",
       "    </tr>\n",
       "  </thead>\n",
       "  <tbody>\n",
       "    <tr>\n",
       "      <th>0</th>\n",
       "      <td>1</td>\n",
       "      <td>Mumbai Indians</td>\n",
       "      <td>Chennai Super Kings</td>\n",
       "      <td>yes</td>\n",
       "    </tr>\n",
       "    <tr>\n",
       "      <th>246</th>\n",
       "      <td>2</td>\n",
       "      <td>Kings XI Punjab</td>\n",
       "      <td>Delhi Daredevils</td>\n",
       "      <td>no</td>\n",
       "    </tr>\n",
       "    <tr>\n",
       "      <th>484</th>\n",
       "      <td>3</td>\n",
       "      <td>Kolkata Knight Riders</td>\n",
       "      <td>Royal Challengers Bangalore</td>\n",
       "      <td>no</td>\n",
       "    </tr>\n",
       "    <tr>\n",
       "      <th>728</th>\n",
       "      <td>4</td>\n",
       "      <td>Sunrisers</td>\n",
       "      <td>Rajasthan Royals</td>\n",
       "      <td>no</td>\n",
       "    </tr>\n",
       "    <tr>\n",
       "      <th>953</th>\n",
       "      <td>5</td>\n",
       "      <td>Chennai Super Kings</td>\n",
       "      <td>Kolkata Knight Riders</td>\n",
       "      <td>no</td>\n",
       "    </tr>\n",
       "    <tr>\n",
       "      <th>1199</th>\n",
       "      <td>6</td>\n",
       "      <td>Rajasthan Royals</td>\n",
       "      <td>Delhi Daredevils</td>\n",
       "      <td>yes</td>\n",
       "    </tr>\n",
       "    <tr>\n",
       "      <th>1345</th>\n",
       "      <td>7</td>\n",
       "      <td>Sunrisers</td>\n",
       "      <td>Mumbai Indians</td>\n",
       "      <td>no</td>\n",
       "    </tr>\n",
       "    <tr>\n",
       "      <th>1590</th>\n",
       "      <td>8</td>\n",
       "      <td>Royal Challengers Bangalore</td>\n",
       "      <td>Kings XI Punjab</td>\n",
       "      <td>no</td>\n",
       "    </tr>\n",
       "    <tr>\n",
       "      <th>1827</th>\n",
       "      <td>9</td>\n",
       "      <td>Mumbai Indians</td>\n",
       "      <td>Delhi Daredevils</td>\n",
       "      <td>yes</td>\n",
       "    </tr>\n",
       "    <tr>\n",
       "      <th>2073</th>\n",
       "      <td>10</td>\n",
       "      <td>Kolkata Knight Riders</td>\n",
       "      <td>Sunrisers</td>\n",
       "      <td>yes</td>\n",
       "    </tr>\n",
       "    <tr>\n",
       "      <th>2315</th>\n",
       "      <td>11</td>\n",
       "      <td>Royal Challengers Bangalore</td>\n",
       "      <td>Rajasthan Royals</td>\n",
       "      <td>no</td>\n",
       "    </tr>\n",
       "    <tr>\n",
       "      <th>2566</th>\n",
       "      <td>12</td>\n",
       "      <td>Kings XI Punjab</td>\n",
       "      <td>Chennai Super Kings</td>\n",
       "      <td>yes</td>\n",
       "    </tr>\n",
       "    <tr>\n",
       "      <th>2816</th>\n",
       "      <td>13</td>\n",
       "      <td>Kolkata Knight Riders</td>\n",
       "      <td>Delhi Daredevils</td>\n",
       "      <td>yes</td>\n",
       "    </tr>\n",
       "    <tr>\n",
       "      <th>3029</th>\n",
       "      <td>14</td>\n",
       "      <td>Mumbai Indians</td>\n",
       "      <td>Royal Challengers Bangalore</td>\n",
       "      <td>yes</td>\n",
       "    </tr>\n",
       "    <tr>\n",
       "      <th>3280</th>\n",
       "      <td>15</td>\n",
       "      <td>Rajasthan Royals</td>\n",
       "      <td>Kolkata Knight Riders</td>\n",
       "      <td>yes</td>\n",
       "    </tr>\n",
       "    <tr>\n",
       "      <th>3519</th>\n",
       "      <td>16</td>\n",
       "      <td>Kings XI Punjab</td>\n",
       "      <td>Sunrisers</td>\n",
       "      <td>yes</td>\n",
       "    </tr>\n",
       "    <tr>\n",
       "      <th>3772</th>\n",
       "      <td>17</td>\n",
       "      <td>Chennai Super Kings</td>\n",
       "      <td>Rajasthan Royals</td>\n",
       "      <td>yes</td>\n",
       "    </tr>\n",
       "    <tr>\n",
       "      <th>4017</th>\n",
       "      <td>18</td>\n",
       "      <td>Kolkata Knight Riders</td>\n",
       "      <td>Kings XI Punjab</td>\n",
       "      <td>yes</td>\n",
       "    </tr>\n",
       "    <tr>\n",
       "      <th>4214</th>\n",
       "      <td>19</td>\n",
       "      <td>Royal Challengers Bangalore</td>\n",
       "      <td>Delhi Daredevils</td>\n",
       "      <td>no</td>\n",
       "    </tr>\n",
       "    <tr>\n",
       "      <th>4448</th>\n",
       "      <td>20</td>\n",
       "      <td>Sunrisers</td>\n",
       "      <td>Chennai Super Kings</td>\n",
       "      <td>no</td>\n",
       "    </tr>\n",
       "    <tr>\n",
       "      <th>4694</th>\n",
       "      <td>21</td>\n",
       "      <td>Rajasthan Royals</td>\n",
       "      <td>Mumbai Indians</td>\n",
       "      <td>no</td>\n",
       "    </tr>\n",
       "    <tr>\n",
       "      <th>4942</th>\n",
       "      <td>22</td>\n",
       "      <td>Delhi Daredevils</td>\n",
       "      <td>Kings XI Punjab</td>\n",
       "      <td>no</td>\n",
       "    </tr>\n",
       "    <tr>\n",
       "      <th>5193</th>\n",
       "      <td>23</td>\n",
       "      <td>Mumbai Indians</td>\n",
       "      <td>Sunrisers</td>\n",
       "      <td>no</td>\n",
       "    </tr>\n",
       "    <tr>\n",
       "      <th>5423</th>\n",
       "      <td>24</td>\n",
       "      <td>Royal Challengers Bangalore</td>\n",
       "      <td>Chennai Super Kings</td>\n",
       "      <td>yes</td>\n",
       "    </tr>\n",
       "    <tr>\n",
       "      <th>5674</th>\n",
       "      <td>25</td>\n",
       "      <td>Sunrisers</td>\n",
       "      <td>Kings XI Punjab</td>\n",
       "      <td>yes</td>\n",
       "    </tr>\n",
       "    <tr>\n",
       "      <th>5913</th>\n",
       "      <td>26</td>\n",
       "      <td>Delhi Daredevils</td>\n",
       "      <td>Kolkata Knight Riders</td>\n",
       "      <td>yes</td>\n",
       "    </tr>\n",
       "    <tr>\n",
       "      <th>6159</th>\n",
       "      <td>27</td>\n",
       "      <td>Chennai Super Kings</td>\n",
       "      <td>Mumbai Indians</td>\n",
       "      <td>yes</td>\n",
       "    </tr>\n",
       "    <tr>\n",
       "      <th>6406</th>\n",
       "      <td>28</td>\n",
       "      <td>Rajasthan Royals</td>\n",
       "      <td>Sunrisers</td>\n",
       "      <td>no</td>\n",
       "    </tr>\n",
       "    <tr>\n",
       "      <th>6646</th>\n",
       "      <td>29</td>\n",
       "      <td>Royal Challengers Bangalore</td>\n",
       "      <td>Kolkata Knight Riders</td>\n",
       "      <td>yes</td>\n",
       "    </tr>\n",
       "    <tr>\n",
       "      <th>6892</th>\n",
       "      <td>30</td>\n",
       "      <td>Chennai Super Kings</td>\n",
       "      <td>Delhi Daredevils</td>\n",
       "      <td>yes</td>\n",
       "    </tr>\n",
       "    <tr>\n",
       "      <th>7142</th>\n",
       "      <td>31</td>\n",
       "      <td>Royal Challengers Bangalore</td>\n",
       "      <td>Mumbai Indians</td>\n",
       "      <td>yes</td>\n",
       "    </tr>\n",
       "    <tr>\n",
       "      <th>7395</th>\n",
       "      <td>32</td>\n",
       "      <td>Delhi Daredevils</td>\n",
       "      <td>Rajasthan Royals</td>\n",
       "      <td>yes</td>\n",
       "    </tr>\n",
       "    <tr>\n",
       "      <th>7579</th>\n",
       "      <td>33</td>\n",
       "      <td>Kolkata Knight Riders</td>\n",
       "      <td>Chennai Super Kings</td>\n",
       "      <td>no</td>\n",
       "    </tr>\n",
       "    <tr>\n",
       "      <th>7815</th>\n",
       "      <td>34</td>\n",
       "      <td>Kings XI Punjab</td>\n",
       "      <td>Mumbai Indians</td>\n",
       "      <td>yes</td>\n",
       "    </tr>\n",
       "    <tr>\n",
       "      <th>8056</th>\n",
       "      <td>35</td>\n",
       "      <td>Chennai Super Kings</td>\n",
       "      <td>Royal Challengers Bangalore</td>\n",
       "      <td>no</td>\n",
       "    </tr>\n",
       "    <tr>\n",
       "      <th>8289</th>\n",
       "      <td>36</td>\n",
       "      <td>Sunrisers</td>\n",
       "      <td>Delhi Daredevils</td>\n",
       "      <td>no</td>\n",
       "    </tr>\n",
       "    <tr>\n",
       "      <th>8535</th>\n",
       "      <td>37</td>\n",
       "      <td>Mumbai Indians</td>\n",
       "      <td>Kolkata Knight Riders</td>\n",
       "      <td>yes</td>\n",
       "    </tr>\n",
       "    <tr>\n",
       "      <th>8781</th>\n",
       "      <td>38</td>\n",
       "      <td>Kings XI Punjab</td>\n",
       "      <td>Rajasthan Royals</td>\n",
       "      <td>no</td>\n",
       "    </tr>\n",
       "    <tr>\n",
       "      <th>9017</th>\n",
       "      <td>39</td>\n",
       "      <td>Sunrisers</td>\n",
       "      <td>Royal Challengers Bangalore</td>\n",
       "      <td>yes</td>\n",
       "    </tr>\n",
       "    <tr>\n",
       "      <th>9266</th>\n",
       "      <td>40</td>\n",
       "      <td>Rajasthan Royals</td>\n",
       "      <td>Kings XI Punjab</td>\n",
       "      <td>yes</td>\n",
       "    </tr>\n",
       "    <tr>\n",
       "      <th>9510</th>\n",
       "      <td>41</td>\n",
       "      <td>Kolkata Knight Riders</td>\n",
       "      <td>Mumbai Indians</td>\n",
       "      <td>no</td>\n",
       "    </tr>\n",
       "    <tr>\n",
       "      <th>9744</th>\n",
       "      <td>42</td>\n",
       "      <td>Delhi Daredevils</td>\n",
       "      <td>Sunrisers</td>\n",
       "      <td>yes</td>\n",
       "    </tr>\n",
       "    <tr>\n",
       "      <th>9979</th>\n",
       "      <td>43</td>\n",
       "      <td>Rajasthan Royals</td>\n",
       "      <td>Chennai Super Kings</td>\n",
       "      <td>no</td>\n",
       "    </tr>\n",
       "    <tr>\n",
       "      <th>10231</th>\n",
       "      <td>44</td>\n",
       "      <td>Kings XI Punjab</td>\n",
       "      <td>Kolkata Knight Riders</td>\n",
       "      <td>no</td>\n",
       "    </tr>\n",
       "    <tr>\n",
       "      <th>10482</th>\n",
       "      <td>45</td>\n",
       "      <td>Delhi Daredevils</td>\n",
       "      <td>Royal Challengers Bangalore</td>\n",
       "      <td>yes</td>\n",
       "    </tr>\n",
       "    <tr>\n",
       "      <th>10727</th>\n",
       "      <td>46</td>\n",
       "      <td>Chennai Super Kings</td>\n",
       "      <td>Sunrisers</td>\n",
       "      <td>no</td>\n",
       "    </tr>\n",
       "    <tr>\n",
       "      <th>10972</th>\n",
       "      <td>47</td>\n",
       "      <td>Mumbai Indians</td>\n",
       "      <td>Rajasthan Royals</td>\n",
       "      <td>yes</td>\n",
       "    </tr>\n",
       "    <tr>\n",
       "      <th>11211</th>\n",
       "      <td>48</td>\n",
       "      <td>Kings XI Punjab</td>\n",
       "      <td>Royal Challengers Bangalore</td>\n",
       "      <td>yes</td>\n",
       "    </tr>\n",
       "    <tr>\n",
       "      <th>11356</th>\n",
       "      <td>49</td>\n",
       "      <td>Kolkata Knight Riders</td>\n",
       "      <td>Rajasthan Royals</td>\n",
       "      <td>no</td>\n",
       "    </tr>\n",
       "    <tr>\n",
       "      <th>11580</th>\n",
       "      <td>50</td>\n",
       "      <td>Mumbai Indians</td>\n",
       "      <td>Kings XI Punjab</td>\n",
       "      <td>yes</td>\n",
       "    </tr>\n",
       "    <tr>\n",
       "      <th>11831</th>\n",
       "      <td>51</td>\n",
       "      <td>Royal Challengers Bangalore</td>\n",
       "      <td>Sunrisers</td>\n",
       "      <td>yes</td>\n",
       "    </tr>\n",
       "    <tr>\n",
       "      <th>12076</th>\n",
       "      <td>52</td>\n",
       "      <td>Delhi Daredevils</td>\n",
       "      <td>Chennai Super Kings</td>\n",
       "      <td>yes</td>\n",
       "    </tr>\n",
       "    <tr>\n",
       "      <th>12322</th>\n",
       "      <td>53</td>\n",
       "      <td>Rajasthan Royals</td>\n",
       "      <td>Royal Challengers Bangalore</td>\n",
       "      <td>yes</td>\n",
       "    </tr>\n",
       "    <tr>\n",
       "      <th>12563</th>\n",
       "      <td>54</td>\n",
       "      <td>Sunrisers</td>\n",
       "      <td>Kolkata Knight Riders</td>\n",
       "      <td>yes</td>\n",
       "    </tr>\n",
       "    <tr>\n",
       "      <th>12812</th>\n",
       "      <td>55</td>\n",
       "      <td>Delhi Daredevils</td>\n",
       "      <td>Mumbai Indians</td>\n",
       "      <td>yes</td>\n",
       "    </tr>\n",
       "    <tr>\n",
       "      <th>13059</th>\n",
       "      <td>56</td>\n",
       "      <td>Chennai Super Kings</td>\n",
       "      <td>Kings XI Punjab</td>\n",
       "      <td>no</td>\n",
       "    </tr>\n",
       "    <tr>\n",
       "      <th>13306</th>\n",
       "      <td>57</td>\n",
       "      <td>Chennai Super Kings</td>\n",
       "      <td>Sunrisers</td>\n",
       "      <td>no</td>\n",
       "    </tr>\n",
       "    <tr>\n",
       "      <th>13553</th>\n",
       "      <td>58</td>\n",
       "      <td>Kolkata Knight Riders</td>\n",
       "      <td>Rajasthan Royals</td>\n",
       "      <td>yes</td>\n",
       "    </tr>\n",
       "    <tr>\n",
       "      <th>13800</th>\n",
       "      <td>59</td>\n",
       "      <td>Kolkata Knight Riders</td>\n",
       "      <td>Sunrisers</td>\n",
       "      <td>no</td>\n",
       "    </tr>\n",
       "    <tr>\n",
       "      <th>14045</th>\n",
       "      <td>60</td>\n",
       "      <td>Chennai Super Kings</td>\n",
       "      <td>Sunrisers</td>\n",
       "      <td>no</td>\n",
       "    </tr>\n",
       "  </tbody>\n",
       "</table>\n",
       "</div>"
      ],
      "text/plain": [
       "       gameno                    home team                    road team  \\\n",
       "0           1               Mumbai Indians          Chennai Super Kings   \n",
       "246         2              Kings XI Punjab             Delhi Daredevils   \n",
       "484         3        Kolkata Knight Riders  Royal Challengers Bangalore   \n",
       "728         4                    Sunrisers             Rajasthan Royals   \n",
       "953         5          Chennai Super Kings        Kolkata Knight Riders   \n",
       "1199        6             Rajasthan Royals             Delhi Daredevils   \n",
       "1345        7                    Sunrisers               Mumbai Indians   \n",
       "1590        8  Royal Challengers Bangalore              Kings XI Punjab   \n",
       "1827        9               Mumbai Indians             Delhi Daredevils   \n",
       "2073       10        Kolkata Knight Riders                    Sunrisers   \n",
       "2315       11  Royal Challengers Bangalore             Rajasthan Royals   \n",
       "2566       12              Kings XI Punjab          Chennai Super Kings   \n",
       "2816       13        Kolkata Knight Riders             Delhi Daredevils   \n",
       "3029       14               Mumbai Indians  Royal Challengers Bangalore   \n",
       "3280       15             Rajasthan Royals        Kolkata Knight Riders   \n",
       "3519       16              Kings XI Punjab                    Sunrisers   \n",
       "3772       17          Chennai Super Kings             Rajasthan Royals   \n",
       "4017       18        Kolkata Knight Riders              Kings XI Punjab   \n",
       "4214       19  Royal Challengers Bangalore             Delhi Daredevils   \n",
       "4448       20                    Sunrisers          Chennai Super Kings   \n",
       "4694       21             Rajasthan Royals               Mumbai Indians   \n",
       "4942       22             Delhi Daredevils              Kings XI Punjab   \n",
       "5193       23               Mumbai Indians                    Sunrisers   \n",
       "5423       24  Royal Challengers Bangalore          Chennai Super Kings   \n",
       "5674       25                    Sunrisers              Kings XI Punjab   \n",
       "5913       26             Delhi Daredevils        Kolkata Knight Riders   \n",
       "6159       27          Chennai Super Kings               Mumbai Indians   \n",
       "6406       28             Rajasthan Royals                    Sunrisers   \n",
       "6646       29  Royal Challengers Bangalore        Kolkata Knight Riders   \n",
       "6892       30          Chennai Super Kings             Delhi Daredevils   \n",
       "7142       31  Royal Challengers Bangalore               Mumbai Indians   \n",
       "7395       32             Delhi Daredevils             Rajasthan Royals   \n",
       "7579       33        Kolkata Knight Riders          Chennai Super Kings   \n",
       "7815       34              Kings XI Punjab               Mumbai Indians   \n",
       "8056       35          Chennai Super Kings  Royal Challengers Bangalore   \n",
       "8289       36                    Sunrisers             Delhi Daredevils   \n",
       "8535       37               Mumbai Indians        Kolkata Knight Riders   \n",
       "8781       38              Kings XI Punjab             Rajasthan Royals   \n",
       "9017       39                    Sunrisers  Royal Challengers Bangalore   \n",
       "9266       40             Rajasthan Royals              Kings XI Punjab   \n",
       "9510       41        Kolkata Knight Riders               Mumbai Indians   \n",
       "9744       42             Delhi Daredevils                    Sunrisers   \n",
       "9979       43             Rajasthan Royals          Chennai Super Kings   \n",
       "10231      44              Kings XI Punjab        Kolkata Knight Riders   \n",
       "10482      45             Delhi Daredevils  Royal Challengers Bangalore   \n",
       "10727      46          Chennai Super Kings                    Sunrisers   \n",
       "10972      47               Mumbai Indians             Rajasthan Royals   \n",
       "11211      48              Kings XI Punjab  Royal Challengers Bangalore   \n",
       "11356      49        Kolkata Knight Riders             Rajasthan Royals   \n",
       "11580      50               Mumbai Indians              Kings XI Punjab   \n",
       "11831      51  Royal Challengers Bangalore                    Sunrisers   \n",
       "12076      52             Delhi Daredevils          Chennai Super Kings   \n",
       "12322      53             Rajasthan Royals  Royal Challengers Bangalore   \n",
       "12563      54                    Sunrisers        Kolkata Knight Riders   \n",
       "12812      55             Delhi Daredevils               Mumbai Indians   \n",
       "13059      56          Chennai Super Kings              Kings XI Punjab   \n",
       "13306      57          Chennai Super Kings                    Sunrisers   \n",
       "13553      58        Kolkata Knight Riders             Rajasthan Royals   \n",
       "13800      59        Kolkata Knight Riders                    Sunrisers   \n",
       "14045      60          Chennai Super Kings                    Sunrisers   \n",
       "\n",
       "      hometeambatsfirst  \n",
       "0                   yes  \n",
       "246                  no  \n",
       "484                  no  \n",
       "728                  no  \n",
       "953                  no  \n",
       "1199                yes  \n",
       "1345                 no  \n",
       "1590                 no  \n",
       "1827                yes  \n",
       "2073                yes  \n",
       "2315                 no  \n",
       "2566                yes  \n",
       "2816                yes  \n",
       "3029                yes  \n",
       "3280                yes  \n",
       "3519                yes  \n",
       "3772                yes  \n",
       "4017                yes  \n",
       "4214                 no  \n",
       "4448                 no  \n",
       "4694                 no  \n",
       "4942                 no  \n",
       "5193                 no  \n",
       "5423                yes  \n",
       "5674                yes  \n",
       "5913                yes  \n",
       "6159                yes  \n",
       "6406                 no  \n",
       "6646                yes  \n",
       "6892                yes  \n",
       "7142                yes  \n",
       "7395                yes  \n",
       "7579                 no  \n",
       "7815                yes  \n",
       "8056                 no  \n",
       "8289                 no  \n",
       "8535                yes  \n",
       "8781                 no  \n",
       "9017                yes  \n",
       "9266                yes  \n",
       "9510                 no  \n",
       "9744                yes  \n",
       "9979                 no  \n",
       "10231                no  \n",
       "10482               yes  \n",
       "10727                no  \n",
       "10972               yes  \n",
       "11211               yes  \n",
       "11356                no  \n",
       "11580               yes  \n",
       "11831               yes  \n",
       "12076               yes  \n",
       "12322               yes  \n",
       "12563               yes  \n",
       "12812               yes  \n",
       "13059                no  \n",
       "13306                no  \n",
       "13553               yes  \n",
       "13800                no  \n",
       "14045                no  "
      ]
     },
     "execution_count": 22,
     "metadata": {},
     "output_type": "execute_result"
    }
   ],
   "source": [
    "# generate list of games\n",
    "\n",
    "games = games[['gameno','home team','batting_team','bowling_team','hometeambatsfirst']]\n",
    "games['road team'] = games.apply(lambda x: x['batting_team'] if x['home team'] == x['bowling_team'] else x['bowling_team'], axis=1)\n",
    "assert (games['home team'] != games['road team']).all()\n",
    "games = games[['gameno','home team','road team','hometeambatsfirst']]\n",
    "games"
   ]
  },
  {
   "cell_type": "markdown",
   "metadata": {},
   "source": [
    "You can see from the list above that game 27 was the return game between MI and CSK, with CSK the home team and batting first. So let's compare these two games. "
   ]
  },
  {
   "cell_type": "code",
   "execution_count": 23,
   "metadata": {},
   "outputs": [
    {
     "data": {
      "image/png": "[encoded data removed]",
      "text/plain": [
       "<Figure size 432x1080 with 2 Axes>"
      ]
     },
     "metadata": {
      "needs_background": "light"
     },
     "output_type": "display_data"
    }
   ],
   "source": [
    "# Inside the square brackets we can type in game numbers, separated by a comma, to specify the games we want to compare\n",
    "\n",
    "plot_runs_wickets_multi_game([1, 27])"
   ]
  },
  {
   "cell_type": "markdown",
   "metadata": {},
   "source": [
    "As with game 1, the team batting second won the game, but this time is was the Mumbai Indians that won. Apart from the middle portion of the game, the scoring rates of each team were much closer, and the main difference was that toward the end of innings 1 (CSK) three wickets fell quickly, which slowed down the scoring rate. "
   ]
  },
  {
   "cell_type": "markdown",
   "metadata": {},
   "source": [
    "## Self test\n",
    "\n",
    "Pick another pair of games between the same teams and compare scoring rates. "
   ]
  },
  {
   "cell_type": "markdown",
   "metadata": {},
   "source": [
    "# Conclusion\n",
    "\n",
    "In this notebook we have shown how a particular kind of visualization can help to understand the performance of teams in cricket.\n",
    "\n",
    "Looking at these charts, you start to think about ways to explain outcomes. For example, it seems clear that the rate at which runs are scored is a function of the number of wickets that have fallen, and that the fall of a wicket generally slows the run rate. Likewise, winning teams seem to enjoy periods of rapid acceleration. These observations should lead you to formulate stories (hypotheses) which can be tested more formally. In that sense, visualizing the data is a stepping stone to a more rigorous statistical analysis. \n",
    "\n",
    "The Nobel prize winning economist Sir John Hicks once said that he was never convinced of a theory until he could formalize it in an equation, write it down in plain English and draw a picture. Much the same thing is true for data analytics. However, whereas Hicks worked in an age where only limited amounts of data could be analyzed, and so often the picture was an afterthought, we now have the opportunity to start our analysis by drawing pictures which can sometimes show us clearly what the story is to be told. "
   ]
  },
  {
   "cell_type": "code",
   "execution_count": null,
   "metadata": {},
   "outputs": [],
   "source": []
  }
 ],
 "metadata": {
  "kernelspec": {
   "display_name": "Python 3.8.3 64-bit",
   "language": "python",
   "name": "python3"
  },
  "language_info": {
   "codemirror_mode": {
    "name": "ipython",
    "version": 3
   },
   "file_extension": ".py",
   "mimetype": "text/x-python",
   "name": "python",
   "nbconvert_exporter": "python",
   "pygments_lexer": "ipython3",
   "version": "3.8.3"
  },
  "vscode": {
   "interpreter": {
    "hash": "9650cb4e16cdd4a8e8e2d128bf38d875813998db22a3c986335f89e0cb4d7bb2"
   }
  }
 },
 "nbformat": 4,
 "nbformat_minor": 2
}
