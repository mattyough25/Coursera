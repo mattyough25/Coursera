{
 "cells": [
  {
   "cell_type": "markdown",
   "metadata": {
    "cell_id": "00000-4768447b-0248-467f-92d6-df7450eac4a0",
    "deepnote_cell_type": "text-cell-h2",
    "tags": []
   },
   "source": [
    "## Wearable Tech: Week 5 Assignment"
   ]
  },
  {
   "cell_type": "markdown",
   "metadata": {
    "cell_id": "00002-9f22fdc1-3088-4a15-8d75-f1c63be57221",
    "deepnote_cell_type": "markdown",
    "tags": []
   },
   "source": [
    "### Step 1\n"
   ]
  },
  {
   "cell_type": "code",
   "execution_count": 4,
   "metadata": {
    "cell_id": "00003-8c8102ee-b9a2-43e4-bf65-2bb7e746f3aa",
    "deepnote_cell_type": "code",
    "deepnote_to_be_reexecuted": false,
    "execution_millis": 7722,
    "execution_start": 1623777868670,
    "source_hash": "a888bc55",
    "tags": []
   },
   "outputs": [],
   "source": [
    "import numpy as np\n",
    "import pandas as pd\n",
    "from matplotlib import pyplot as plt\n",
    "import seaborn as sn\n",
    "import matplotlib.dates as mdates\n",
    "import datetime\n",
    "import plotly.graph_objects as go\n",
    "\n",
    "import scipy.stats as stats\n",
    "\n",
    "df = pd.read_csv(\"../Data/FH.csv\")"
   ]
  },
  {
   "cell_type": "markdown",
   "metadata": {
    "cell_id": "00005-72b83454-da00-440a-8e1e-acd577a1dad7",
    "deepnote_cell_type": "markdown",
    "tags": []
   },
   "source": [
    "### Step 2"
   ]
  },
  {
   "cell_type": "code",
   "execution_count": 5,
   "metadata": {
    "cell_id": "00006-0f8e8358-3985-4add-af67-ce11c5c54389",
    "deepnote_cell_type": "code",
    "deepnote_to_be_reexecuted": false,
    "execution_millis": 54,
    "execution_start": 1623777876484,
    "source_hash": "bab49cca",
    "tags": []
   },
   "outputs": [
    {
     "data": {
      "text/html": [
       "<div>\n",
       "<style scoped>\n",
       "    .dataframe tbody tr th:only-of-type {\n",
       "        vertical-align: middle;\n",
       "    }\n",
       "\n",
       "    .dataframe tbody tr th {\n",
       "        vertical-align: top;\n",
       "    }\n",
       "\n",
       "    .dataframe thead th {\n",
       "        text-align: right;\n",
       "    }\n",
       "</style>\n",
       "<table border=\"1\" class=\"dataframe\">\n",
       "  <thead>\n",
       "    <tr style=\"text-align: right;\">\n",
       "      <th></th>\n",
       "      <th></th>\n",
       "      <th>Seconds</th>\n",
       "      <th>Velocity</th>\n",
       "      <th>Acceleration</th>\n",
       "      <th>Odometer</th>\n",
       "      <th>Player Load</th>\n",
       "    </tr>\n",
       "    <tr>\n",
       "      <th>Timestamp</th>\n",
       "      <th>AthleteID</th>\n",
       "      <th></th>\n",
       "      <th></th>\n",
       "      <th></th>\n",
       "      <th></th>\n",
       "      <th></th>\n",
       "    </tr>\n",
       "  </thead>\n",
       "  <tbody>\n",
       "    <tr>\n",
       "      <th rowspan=\"5\" valign=\"top\">9/30/2018 12:21:49 PM</th>\n",
       "      <th>Athlete 1</th>\n",
       "      <td>0.0</td>\n",
       "      <td>0.06</td>\n",
       "      <td>-0.041234</td>\n",
       "      <td>0.0</td>\n",
       "      <td>0.0</td>\n",
       "    </tr>\n",
       "    <tr>\n",
       "      <th>Athlete 1</th>\n",
       "      <td>0.1</td>\n",
       "      <td>0.06</td>\n",
       "      <td>-0.025926</td>\n",
       "      <td>0.0</td>\n",
       "      <td>0.0</td>\n",
       "    </tr>\n",
       "    <tr>\n",
       "      <th>Athlete 1</th>\n",
       "      <td>0.2</td>\n",
       "      <td>0.06</td>\n",
       "      <td>-0.011945</td>\n",
       "      <td>0.0</td>\n",
       "      <td>0.0</td>\n",
       "    </tr>\n",
       "    <tr>\n",
       "      <th>Athlete 1</th>\n",
       "      <td>0.3</td>\n",
       "      <td>0.09</td>\n",
       "      <td>0.048539</td>\n",
       "      <td>0.0</td>\n",
       "      <td>0.0</td>\n",
       "    </tr>\n",
       "    <tr>\n",
       "      <th>Athlete 1</th>\n",
       "      <td>0.4</td>\n",
       "      <td>0.08</td>\n",
       "      <td>0.021406</td>\n",
       "      <td>0.0</td>\n",
       "      <td>0.0</td>\n",
       "    </tr>\n",
       "  </tbody>\n",
       "</table>\n",
       "</div>"
      ],
      "text/plain": [
       "                                 Seconds  Velocity  Acceleration  Odometer  \\\n",
       "Timestamp             AthleteID                                              \n",
       "9/30/2018 12:21:49 PM Athlete 1      0.0      0.06     -0.041234       0.0   \n",
       "                      Athlete 1      0.1      0.06     -0.025926       0.0   \n",
       "                      Athlete 1      0.2      0.06     -0.011945       0.0   \n",
       "                      Athlete 1      0.3      0.09      0.048539       0.0   \n",
       "                      Athlete 1      0.4      0.08      0.021406       0.0   \n",
       "\n",
       "                                 Player Load  \n",
       "Timestamp             AthleteID               \n",
       "9/30/2018 12:21:49 PM Athlete 1          0.0  \n",
       "                      Athlete 1          0.0  \n",
       "                      Athlete 1          0.0  \n",
       "                      Athlete 1          0.0  \n",
       "                      Athlete 1          0.0  "
      ]
     },
     "execution_count": 5,
     "metadata": {},
     "output_type": "execute_result"
    }
   ],
   "source": [
    "df2 = df.copy()\n",
    "df2.drop(['Unnamed: 0', 'Latitude', 'Longitude', 'Heart Rate'], axis=1, inplace=True) # we can drop the previous index column ('unnamed') and some others\n",
    "master=df2.set_index(['Timestamp', 'AthleteID'], inplace=False) # we'll use a multi-index to keep time in the index and the player ID #\n",
    "master.head()"
   ]
  },
  {
   "cell_type": "markdown",
   "metadata": {
    "cell_id": "00010-d4e100be-5388-4991-a7c0-3c276cd24b13",
    "deepnote_cell_type": "markdown",
    "tags": []
   },
   "source": [
    "### Step 3"
   ]
  },
  {
   "cell_type": "code",
   "execution_count": 6,
   "metadata": {
    "cell_id": "00008-55c7db75-80aa-420f-a643-84ba7b8c3d1b",
    "deepnote_cell_type": "code",
    "deepnote_to_be_reexecuted": false,
    "execution_millis": 28,
    "execution_start": 1623777878106,
    "source_hash": "2e96ea64",
    "tags": []
   },
   "outputs": [],
   "source": [
    "master['20farthest']=master['Odometer'].diff(200)\n",
    "master['60farthest']=master['Odometer'].diff(600)"
   ]
  },
  {
   "cell_type": "markdown",
   "metadata": {
    "cell_id": "00016-4f26f803-d12c-4411-9818-3701ce806151",
    "deepnote_cell_type": "markdown",
    "tags": []
   },
   "source": [
    "### Step 4"
   ]
  },
  {
   "cell_type": "code",
   "execution_count": 7,
   "metadata": {
    "allow_embed": "code_output",
    "cell_id": "00013-5839e1ba-49b1-453d-acc1-cc68c2d35305",
    "deepnote_cell_type": "code",
    "deepnote_to_be_reexecuted": false,
    "execution_millis": 380,
    "execution_start": 1623777878369,
    "source_hash": "d057225f",
    "tags": []
   },
   "outputs": [
    {
     "name": "stdout",
     "output_type": "stream",
     "text": [
      "            Seconds Velocity Acceleration  Odometer Player Load 20farthest  \\\n",
      "                max      max          max       max         max        max   \n",
      "AthleteID                                                                    \n",
      "Athlete 1   8759.98     7.24     5.981192  10036.75       891.5     119.37   \n",
      "Athlete 10  8749.93     6.79     5.580821   7269.15       615.6     111.93   \n",
      "Athlete 11  8749.93     6.56     3.825559   4791.84       449.0      87.14   \n",
      "Athlete 12  8749.91     7.38     4.360430   8551.21       734.4     177.37   \n",
      "Athlete 13  8749.93     6.33     7.034368   6345.99       609.2      83.81   \n",
      "Athlete 14  7855.38     6.58     4.908402   9906.41       951.3      94.24   \n",
      "Athlete 15  8749.93     6.61    11.318196   5001.16       540.0      85.37   \n",
      "Athlete 17  8749.93     7.71     5.889059   9896.45       888.5      97.05   \n",
      "Athlete 18  8759.92     6.63     5.557953   6326.56       688.5      81.20   \n",
      "Athlete 19  8749.92     6.85     4.089531   7952.18       781.6     107.76   \n",
      "Athlete 2   8749.93     4.69     3.819985   2001.83       220.6      67.25   \n",
      "Athlete 20  8749.93     7.32     5.553606   9214.04       886.7      95.91   \n",
      "Athlete 21  8749.93     6.31     5.394188   7360.27       624.5      99.72   \n",
      "Athlete 22  8749.93     3.94     3.201309   2209.77       262.3      55.32   \n",
      "Athlete 23  8749.92     7.17     6.044008   9254.26      1044.2      92.15   \n",
      "Athlete 24  8749.93     7.31     3.911020   6784.38       675.0     102.11   \n",
      "Athlete 3   8749.97     6.52     4.420637   4884.73       475.0      87.17   \n",
      "Athlete 4   8749.92     6.93     7.695746   8404.01       819.0      96.41   \n",
      "Athlete 5   8749.92     6.33     3.994656   7482.94       750.9      92.39   \n",
      "Athlete 6   8750.04     7.15     8.633133  10739.12       988.4      98.62   \n",
      "Athlete 7   8749.93     7.53     5.789903  10723.64       900.1      95.02   \n",
      "Athlete 9   8749.92     7.01     3.932414   9233.42       767.0      98.01   \n",
      "\n",
      "           60farthest  \n",
      "                  max  \n",
      "AthleteID              \n",
      "Athlete 1      232.70  \n",
      "Athlete 10     276.47  \n",
      "Athlete 11     188.02  \n",
      "Athlete 12     190.98  \n",
      "Athlete 13     192.87  \n",
      "Athlete 14     201.00  \n",
      "Athlete 15     187.88  \n",
      "Athlete 17     214.22  \n",
      "Athlete 18     179.21  \n",
      "Athlete 19     212.21  \n",
      "Athlete 2      113.17  \n",
      "Athlete 20     250.36  \n",
      "Athlete 21     191.86  \n",
      "Athlete 22      90.69  \n",
      "Athlete 23     230.36  \n",
      "Athlete 24     208.56  \n",
      "Athlete 3      168.68  \n",
      "Athlete 4      225.55  \n",
      "Athlete 5      186.41  \n",
      "Athlete 6      205.90  \n",
      "Athlete 7      204.92  \n",
      "Athlete 9      170.66  \n"
     ]
    }
   ],
   "source": [
    "MaxValues_df=master.groupby('AthleteID').agg([max])\n",
    "print(MaxValues_df)"
   ]
  },
  {
   "cell_type": "markdown",
   "metadata": {
    "cell_id": "00019-5d7a2790-23e4-40ac-b446-349f2911cd65",
    "deepnote_cell_type": "markdown",
    "tags": []
   },
   "source": [
    "### Step 5"
   ]
  },
  {
   "cell_type": "code",
   "execution_count": 8,
   "metadata": {
    "allow_embed": "code_output",
    "cell_id": "00014-d5830a11-c145-46db-8336-50e813c3523a",
    "deepnote_cell_type": "code",
    "deepnote_to_be_reexecuted": false,
    "execution_millis": 40,
    "execution_start": 1623777878759,
    "source_hash": "f2f7553f",
    "tags": []
   },
   "outputs": [
    {
     "name": "stdout",
     "output_type": "stream",
     "text": [
      "            Seconds Velocity Acceleration  Odometer Player Load 20farthest  \\\n",
      "                max      max          max       max         max        max   \n",
      "AthleteID                                                                    \n",
      "Athlete 1   8759.98     7.24     5.981192  10036.75       891.5     119.37   \n",
      "Athlete 10  8749.93     6.79     5.580821   7269.15       615.6     111.93   \n",
      "Athlete 11  8749.93     6.56     3.825559   4791.84       449.0      87.14   \n",
      "Athlete 12  8749.91     7.38     4.360430   8551.21       734.4     177.37   \n",
      "Athlete 13  8749.93     6.33     7.034368   6345.99       609.2      83.81   \n",
      "Athlete 14  7855.38     6.58     4.908402   9906.41       951.3      94.24   \n",
      "Athlete 15  8749.93     6.61    11.318196   5001.16       540.0      85.37   \n",
      "Athlete 17  8749.93     7.71     5.889059   9896.45       888.5      97.05   \n",
      "Athlete 18  8759.92     6.63     5.557953   6326.56       688.5      81.20   \n",
      "Athlete 19  8749.92     6.85     4.089531   7952.18       781.6     107.76   \n",
      "Athlete 2   8749.93     4.69     3.819985   2001.83       220.6      67.25   \n",
      "Athlete 20  8749.93     7.32     5.553606   9214.04       886.7      95.91   \n",
      "Athlete 21  8749.93     6.31     5.394188   7360.27       624.5      99.72   \n",
      "Athlete 22  8749.93     3.94     3.201309   2209.77       262.3      55.32   \n",
      "Athlete 23  8749.92     7.17     6.044008   9254.26      1044.2      92.15   \n",
      "Athlete 24  8749.93     7.31     3.911020   6784.38       675.0     102.11   \n",
      "Athlete 3   8749.97     6.52     4.420637   4884.73       475.0      87.17   \n",
      "Athlete 4   8749.92     6.93     7.695746   8404.01       819.0      96.41   \n",
      "Athlete 5   8749.92     6.33     3.994656   7482.94       750.9      92.39   \n",
      "Athlete 6   8750.04     7.15     8.633133  10739.12       988.4      98.62   \n",
      "Athlete 7   8749.93     7.53     5.789903  10723.64       900.1      95.02   \n",
      "Athlete 9   8749.92     7.01     3.932414   9233.42       767.0      98.01   \n",
      "\n",
      "           60farthest zscores_vel zscores_20far zscores_60far  \n",
      "                  max                                          \n",
      "AthleteID                                                      \n",
      "Athlete 1      232.70    0.660933      1.029112      0.925621  \n",
      "Athlete 10     276.47    0.132827      0.692774      2.044355  \n",
      "Athlete 11     188.02   -0.137094     -0.427903     -0.216372  \n",
      "Athlete 12     190.98    0.825233      3.651107     -0.140716  \n",
      "Athlete 13     192.87   -0.407015     -0.578442     -0.092409  \n",
      "Athlete 14     201.00   -0.113623     -0.106935      0.115389  \n",
      "Athlete 15     187.88   -0.078416     -0.507919     -0.219950  \n",
      "Athlete 17     214.22    1.212511      0.020096      0.453284  \n",
      "Athlete 18     179.21   -0.054944     -0.696431     -0.441550  \n",
      "Athlete 19     212.21    0.203241      0.504261      0.401910  \n",
      "Athlete 2      113.17   -2.331670     -1.327066     -2.129491  \n",
      "Athlete 20     250.36    0.754819     -0.031439      1.377000  \n",
      "Athlete 21     191.86   -0.430487      0.140799     -0.118224  \n",
      "Athlete 22      90.69   -3.211847     -1.866384     -2.704066  \n",
      "Athlete 23     230.36    0.578783     -0.201417      0.865812  \n",
      "Athlete 24     208.56    0.743083      0.248843      0.308618  \n",
      "Athlete 3      168.68   -0.184037     -0.426547     -0.710690  \n",
      "Athlete 4      225.55    0.297127     -0.008836      0.742872  \n",
      "Athlete 5      186.41   -0.407015     -0.190567     -0.257522  \n",
      "Athlete 6      205.90    0.555312      0.091071      0.240630  \n",
      "Athlete 7      204.92    1.001268     -0.071673      0.215582  \n",
      "Athlete 9      170.66    0.391012      0.063495     -0.660082  \n"
     ]
    }
   ],
   "source": [
    "MaxValues_df['zscores_vel'] = stats.zscore(MaxValues_df['Velocity'])\n",
    "MaxValues_df['zscores_20far'] = stats.zscore(MaxValues_df['20farthest'])\n",
    "MaxValues_df['zscores_60far'] = stats.zscore(MaxValues_df['60farthest'])\n",
    "print(MaxValues_df)"
   ]
  },
  {
   "cell_type": "markdown",
   "metadata": {
    "cell_id": "00022-ee30a2fe-6575-4f78-b8e7-d1d9c8183dcf",
    "deepnote_cell_type": "markdown",
    "tags": []
   },
   "source": [
    "### Step 6"
   ]
  },
  {
   "cell_type": "code",
   "execution_count": 9,
   "metadata": {
    "cell_id": "00023-c3b16372-74ea-4101-b095-17c98e90ed1f",
    "deepnote_cell_type": "code",
    "deepnote_to_be_reexecuted": false,
    "execution_millis": 35,
    "execution_start": 1623777878803,
    "source_hash": "d3832726",
    "tags": []
   },
   "outputs": [
    {
     "name": "stdout",
     "output_type": "stream",
     "text": [
      "            Seconds Velocity Acceleration  Odometer Player Load 20farthest  \\\n",
      "                max      max          max       max         max        max   \n",
      "AthleteID                                                                    \n",
      "Athlete 1   8759.98     7.24     5.981192  10036.75       891.5     119.37   \n",
      "Athlete 10  8749.93     6.79     5.580821   7269.15       615.6     111.93   \n",
      "Athlete 11  8749.93     6.56     3.825559   4791.84       449.0      87.14   \n",
      "Athlete 12  8749.91     7.38     4.360430   8551.21       734.4     177.37   \n",
      "Athlete 13  8749.93     6.33     7.034368   6345.99       609.2      83.81   \n",
      "Athlete 14  7855.38     6.58     4.908402   9906.41       951.3      94.24   \n",
      "Athlete 15  8749.93     6.61    11.318196   5001.16       540.0      85.37   \n",
      "Athlete 17  8749.93     7.71     5.889059   9896.45       888.5      97.05   \n",
      "Athlete 18  8759.92     6.63     5.557953   6326.56       688.5      81.20   \n",
      "Athlete 19  8749.92     6.85     4.089531   7952.18       781.6     107.76   \n",
      "Athlete 2   8749.93     4.69     3.819985   2001.83       220.6      67.25   \n",
      "Athlete 20  8749.93     7.32     5.553606   9214.04       886.7      95.91   \n",
      "Athlete 21  8749.93     6.31     5.394188   7360.27       624.5      99.72   \n",
      "Athlete 22  8749.93     3.94     3.201309   2209.77       262.3      55.32   \n",
      "Athlete 23  8749.92     7.17     6.044008   9254.26      1044.2      92.15   \n",
      "Athlete 24  8749.93     7.31     3.911020   6784.38       675.0     102.11   \n",
      "Athlete 3   8749.97     6.52     4.420637   4884.73       475.0      87.17   \n",
      "Athlete 4   8749.92     6.93     7.695746   8404.01       819.0      96.41   \n",
      "Athlete 5   8749.92     6.33     3.994656   7482.94       750.9      92.39   \n",
      "Athlete 6   8750.04     7.15     8.633133  10739.12       988.4      98.62   \n",
      "Athlete 7   8749.93     7.53     5.789903  10723.64       900.1      95.02   \n",
      "Athlete 9   8749.92     7.01     3.932414   9233.42       767.0      98.01   \n",
      "\n",
      "           60farthest zscores_vel zscores_20far zscores_60far     Metric  \n",
      "                  max                                                     \n",
      "AthleteID                                                                 \n",
      "Athlete 1      232.70    0.660933      1.029112      0.925621  12.615667  \n",
      "Athlete 10     276.47    0.132827      0.692774      2.044355  12.869955  \n",
      "Athlete 11     188.02   -0.137094     -0.427903     -0.216372   9.218631  \n",
      "Athlete 12     190.98    0.825233      3.651107     -0.140716  14.335624  \n",
      "Athlete 13     192.87   -0.407015     -0.578442     -0.092409   8.922134  \n",
      "Athlete 14     201.00   -0.113623     -0.106935      0.115389   9.894831  \n",
      "Athlete 15     187.88   -0.078416     -0.507919     -0.219950   9.193715  \n",
      "Athlete 17     214.22    1.212511      0.020096      0.453284  11.685891  \n",
      "Athlete 18     179.21   -0.054944     -0.696431     -0.441550   8.807074  \n",
      "Athlete 19     212.21    0.203241      0.504261      0.401910  11.109412  \n",
      "Athlete 2      113.17   -2.331670     -1.327066     -2.129491   4.211773  \n",
      "Athlete 20     250.36    0.754819     -0.031439      1.377000  12.100379  \n",
      "Athlete 21     191.86   -0.430487      0.140799     -0.118224   9.592088  \n",
      "Athlete 22      90.69   -3.211847     -1.866384     -2.704066   2.217704  \n",
      "Athlete 23     230.36    0.578783     -0.201417      0.865812  11.243179  \n",
      "Athlete 24     208.56    0.743083      0.248843      0.308618  11.300544  \n",
      "Athlete 3      168.68   -0.184037     -0.426547     -0.710690   8.678726  \n",
      "Athlete 4      225.55    0.297127     -0.008836      0.742872  11.031162  \n",
      "Athlete 5      186.41   -0.407015     -0.190567     -0.257522   9.144895  \n",
      "Athlete 6      205.90    0.555312      0.091071      0.240630  10.887013  \n",
      "Athlete 7      204.92    1.001268     -0.071673      0.215582  11.145177  \n",
      "Athlete 9      170.66    0.391012      0.063495     -0.660082   9.794425  \n"
     ]
    }
   ],
   "source": [
    "# adding up the z-scores to provide my simple global metric! \n",
    "\n",
    "MaxValues_df['Metric'] = stats.zscore(MaxValues_df['Velocity']) + stats.zscore(MaxValues_df['20farthest'])+stats.zscore(MaxValues_df['60farthest']) + 10\n",
    "\n",
    "print(MaxValues_df)"
   ]
  },
  {
   "cell_type": "markdown",
   "metadata": {
    "cell_id": "00024-44eb271d-0cd9-451b-a124-bf0b4e137dc0",
    "deepnote_cell_type": "markdown",
    "tags": []
   },
   "source": [
    "### Step 7"
   ]
  },
  {
   "cell_type": "code",
   "execution_count": null,
   "metadata": {},
   "outputs": [],
   "source": []
  }
 ],
 "metadata": {
  "deepnote": {
   "is_reactive": false
  },
  "deepnote_execution_queue": [],
  "deepnote_notebook_id": "a73f607f-24b8-458f-8af2-76760ee7f15c",
  "kernelspec": {
   "display_name": "Python 3",
   "language": "python",
   "name": "python3"
  },
  "language_info": {
   "codemirror_mode": {
    "name": "ipython",
    "version": 3
   },
   "file_extension": ".py",
   "mimetype": "text/x-python",
   "name": "python",
   "nbconvert_exporter": "python",
   "pygments_lexer": "ipython3",
   "version": "3.8.3 (tags/v3.8.3:6f8c832, May 13 2020, 22:37:02) [MSC v.1924 64 bit (AMD64)]"
  },
  "vscode": {
   "interpreter": {
    "hash": "9650cb4e16cdd4a8e8e2d128bf38d875813998db22a3c986335f89e0cb4d7bb2"
   }
  }
 },
 "nbformat": 4,
 "nbformat_minor": 2
}
