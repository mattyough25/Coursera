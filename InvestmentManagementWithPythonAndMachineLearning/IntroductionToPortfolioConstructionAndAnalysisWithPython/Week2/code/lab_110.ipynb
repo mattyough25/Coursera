{
 "cells": [
  {
   "cell_type": "markdown",
   "metadata": {},
   "source": [
    "# Finding the Max Sharpe Ratio Portfolio\n",
    "\n",
    "We've already seen that given a set of expected returns and a covariance matrix, we can plot the efficient frontier. In this section, we'll extend the code to locate the point on the efficient frontier that we are most interested in, which is the tangency portfolio or the Max Sharpe Ratio portfolio.\n",
    "\n",
    "Let's start by the usual imports, and load in the data."
   ]
  },
  {
   "cell_type": "code",
   "execution_count": 1,
   "metadata": {},
   "outputs": [
    {
     "name": "stderr",
     "output_type": "stream",
     "text": [
      "d:\\GitHub\\Coursera\\InvestmentManagementWithPythonAndMachineLearning\\IntroductionToPortfolioConstructionAndAnalysisWithPython\\Week2\\code\\finance_risk_kit.py:36: SyntaxWarning: \"is\" with a literal. Did you mean \"==\"?\n",
      "  if filetype is \"returns\":\n",
      "d:\\GitHub\\Coursera\\InvestmentManagementWithPythonAndMachineLearning\\IntroductionToPortfolioConstructionAndAnalysisWithPython\\Week2\\code\\finance_risk_kit.py:39: SyntaxWarning: \"is\" with a literal. Did you mean \"==\"?\n",
      "  elif filetype is \"nfirms\":\n",
      "d:\\GitHub\\Coursera\\InvestmentManagementWithPythonAndMachineLearning\\IntroductionToPortfolioConstructionAndAnalysisWithPython\\Week2\\code\\finance_risk_kit.py:42: SyntaxWarning: \"is\" with a literal. Did you mean \"==\"?\n",
      "  elif filetype is \"size\":\n"
     ]
    }
   ],
   "source": [
    "%load_ext autoreload\n",
    "%autoreload 2\n",
    "%matplotlib inline\n",
    "import finance_risk_kit as erk\n",
    "\n",
    "ind = erk.get_ind_returns(\"D:\\\\GitHub\\\\Coursera\\\\InvestmentManagementWithPythonAndMachineLearning\\\\IntroductionToPortfolioConstructionAndAnalysisWithPython\\\\data\")\n",
    "er = erk.annualize_rets(ind[\"1996\":\"2000\"], 12)\n",
    "cov = ind[\"1996\":\"2000\"].cov()"
   ]
  },
  {
   "cell_type": "markdown",
   "metadata": {},
   "source": [
    "We already know how to identify points on the curve if we are given a target rate of return. Instead of minimizing the vol based on a target return, we want to find that one point on the curve that maximizes the Sharpe Ratio, given the risk free rate.\n",
    "\n",
    "```python\n",
    "def msr(riskfree_rate, er, cov):\n",
    "    \"\"\"\n",
    "    Returns the weights of the portfolio that gives you the maximum sharpe ratio\n",
    "    given the riskfree rate and expected returns and a covariance matrix\n",
    "    \"\"\"\n",
    "    n = er.shape[0]\n",
    "    init_guess = np.repeat(1/n, n)\n",
    "    bounds = ((0.0, 1.0),) * n # an N-tuple of 2-tuples!\n",
    "    # construct the constraints\n",
    "    weights_sum_to_1 = {'type': 'eq',\n",
    "                        'fun': lambda weights: np.sum(weights) - 1\n",
    "    }\n",
    "    def neg_sharpe(weights, riskfree_rate, er, cov):\n",
    "        \"\"\"\n",
    "        Returns the negative of the sharpe ratio\n",
    "        of the given portfolio\n",
    "        \"\"\"\n",
    "        r = portfolio_return(weights, er)\n",
    "        vol = portfolio_vol(weights, cov)\n",
    "        return -(r - riskfree_rate)/vol\n",
    "    \n",
    "    weights = minimize(neg_sharpe, init_guess,\n",
    "                       args=(riskfree_rate, er, cov), method='SLSQP',\n",
    "                       options={'disp': False},\n",
    "                       constraints=(weights_sum_to_1,),\n",
    "                       bounds=bounds)\n",
    "    return weights.x\n",
    "```\n",
    "\n",
    "Let's guess where the point might be:"
   ]
  },
  {
   "cell_type": "code",
   "execution_count": 5,
   "metadata": {},
   "outputs": [
    {
     "data": {
      "image/png": "[encoded data removed]",
      "text/plain": [
       "<Figure size 432x288 with 1 Axes>"
      ]
     },
     "metadata": {
      "needs_background": "light"
     },
     "output_type": "display_data"
    }
   ],
   "source": [
    "ax = erk.plot_ef(20, er, cov)\n"
   ]
  },
  {
   "cell_type": "code",
   "execution_count": 11,
   "metadata": {},
   "outputs": [],
   "source": [
    "# plot EF\n",
    "#ax = erk.plot_ef(20, er, cov,show_cml=True)\n",
    "\n",
    "# get MSR\n",
    "rf = 0.1\n",
    "w_msr = erk.msr(rf, er, cov)\n",
    "r_msr = erk.portfolio_return(w_msr, er)\n",
    "vol_msr = erk.portfolio_vol(w_msr, cov)\n",
    "# add CML\n",
    "cml_x = [0, vol_msr]\n",
    "cml_y = [rf, r_msr]\n",
    "#ax.plot(cml_x, cml_y, color='green', marker='o', linestyle='dashed', linewidth=2, markersize=12)\n"
   ]
  },
  {
   "cell_type": "code",
   "execution_count": 12,
   "metadata": {},
   "outputs": [
    {
     "data": {
      "text/plain": [
       "(0.26473947900159334, 0.04571973123461822)"
      ]
     },
     "execution_count": 12,
     "metadata": {},
     "output_type": "execute_result"
    }
   ],
   "source": [
    "r_msr, vol_msr"
   ]
  },
  {
   "cell_type": "markdown",
   "metadata": {},
   "source": [
    "Let's put it all together by adding the CML to the `plot_ef` code.\n",
    "\n",
    "Add the following code:\n",
    "\n",
    "```python\n",
    "    if show_cml:\n",
    "        ax.set_xlim(left = 0)\n",
    "        # get MSR\n",
    "        w_msr = msr(riskfree_rate, er, cov)\n",
    "        r_msr = portfolio_return(w_msr, er)\n",
    "        vol_msr = portfolio_vol(w_msr, cov)\n",
    "        # add CML\n",
    "        cml_x = [0, vol_msr]\n",
    "        cml_y = [riskfree_rate, r_msr]\n",
    "        ax.plot(cml_x, cml_y, color='green', marker='o', linestyle='dashed', linewidth=2, markersize=12)\n",
    "```\n"
   ]
  },
  {
   "cell_type": "code",
   "execution_count": 13,
   "metadata": {},
   "outputs": [
    {
     "name": "stderr",
     "output_type": "stream",
     "text": [
      "d:\\GitHub\\Coursera\\InvestmentManagementWithPythonAndMachineLearning\\IntroductionToPortfolioConstructionAndAnalysisWithPython\\Week2\\code\\finance_risk_kit.py:36: SyntaxWarning: \"is\" with a literal. Did you mean \"==\"?\n",
      "  if filetype is \"returns\":\n",
      "d:\\GitHub\\Coursera\\InvestmentManagementWithPythonAndMachineLearning\\IntroductionToPortfolioConstructionAndAnalysisWithPython\\Week2\\code\\finance_risk_kit.py:39: SyntaxWarning: \"is\" with a literal. Did you mean \"==\"?\n",
      "  elif filetype is \"nfirms\":\n",
      "d:\\GitHub\\Coursera\\InvestmentManagementWithPythonAndMachineLearning\\IntroductionToPortfolioConstructionAndAnalysisWithPython\\Week2\\code\\finance_risk_kit.py:42: SyntaxWarning: \"is\" with a literal. Did you mean \"==\"?\n",
      "  elif filetype is \"size\":\n"
     ]
    },
    {
     "data": {
      "text/plain": [
       "<AxesSubplot:xlabel='Volatility'>"
      ]
     },
     "execution_count": 13,
     "metadata": {},
     "output_type": "execute_result"
    },
    {
     "data": {
      "image/png": "[encoded data removed]",
      "text/plain": [
       "<Figure size 432x288 with 1 Axes>"
      ]
     },
     "metadata": {
      "needs_background": "light"
     },
     "output_type": "display_data"
    }
   ],
   "source": [
    "erk.plot_ef(20, er, cov, style='-', show_cml=True, riskfree_rate=0.1)"
   ]
  },
  {
   "cell_type": "code",
   "execution_count": null,
   "metadata": {},
   "outputs": [],
   "source": []
  }
 ],
 "metadata": {
  "kernelspec": {
   "display_name": "Python 3",
   "language": "python",
   "name": "python3"
  },
  "language_info": {
   "codemirror_mode": {
    "name": "ipython",
    "version": 3
   },
   "file_extension": ".py",
   "mimetype": "text/x-python",
   "name": "python",
   "nbconvert_exporter": "python",
   "pygments_lexer": "ipython3",
   "version": "3.8.3 (tags/v3.8.3:6f8c832, May 13 2020, 22:37:02) [MSC v.1924 64 bit (AMD64)]"
  },
  "vscode": {
   "interpreter": {
    "hash": "9650cb4e16cdd4a8e8e2d128bf38d875813998db22a3c986335f89e0cb4d7bb2"
   }
  }
 },
 "nbformat": 4,
 "nbformat_minor": 2
}
