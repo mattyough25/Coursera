{
 "cells": [
  {
   "cell_type": "markdown",
   "metadata": {
    "cell_id": "00000-06d50d0b-3e98-4a33-aa13-c3debe790779",
    "deepnote_cell_type": "markdown",
    "tags": []
   },
   "source": [
    "### Introduction to week 5 workbook: Creating a (simple) global metric"
   ]
  },
  {
   "cell_type": "markdown",
   "metadata": {
    "cell_id": "00001-b96ff364-2e82-4254-b799-202819e408a4",
    "deepnote_cell_type": "markdown",
    "tags": []
   },
   "source": [
    "In week 5 we have looked at how many metrics have been developed in order to try and capture “global indicators” like sleep quality, body battery, VO2max, etc.  These are exciting -- but also we need to be mindful that they are hard to test and validate in some (many!) cases.  With that said -- I'm going to \"play around\" a little with the data to make a simple global metric.  "
   ]
  },
  {
   "cell_type": "markdown",
   "metadata": {
    "cell_id": "00002-cc0e896e-b920-44b1-aa06-c1e4ecdb1581",
    "deepnote_cell_type": "markdown",
    "tags": []
   },
   "source": [
    "### Import Libraries and Dataset "
   ]
  },
  {
   "cell_type": "code",
   "execution_count": 1,
   "metadata": {
    "cell_id": "00003-7e17afd3-b635-4556-9f2b-f12d141f3e9a",
    "deepnote_cell_type": "code",
    "deepnote_to_be_reexecuted": false,
    "execution_millis": 7355,
    "execution_start": 1623777900286,
    "source_hash": "7039de26",
    "tags": []
   },
   "outputs": [],
   "source": [
    "import numpy as np\n",
    "import pandas as pd\n",
    "from matplotlib import pyplot as plt\n",
    "import seaborn as sn\n",
    "import matplotlib.dates as mdates\n",
    "import datetime\n",
    "import plotly.graph_objects as go\n",
    "\n",
    "import scipy.stats as stats\n",
    "\n",
    "df = pd.read_csv(\"../Data/FH.csv\",)"
   ]
  },
  {
   "cell_type": "code",
   "execution_count": 2,
   "metadata": {
    "cell_id": "00008-3685ca33-3671-49ff-aad0-8642ba0acf03",
    "deepnote_cell_type": "code",
    "deepnote_to_be_reexecuted": false,
    "execution_millis": 1,
    "execution_start": 1623777907653,
    "source_hash": "f2d5a375",
    "tags": []
   },
   "outputs": [
    {
     "data": {
      "text/plain": [
       "Index(['Unnamed: 0', 'Timestamp', 'Seconds', 'Velocity', 'Acceleration',\n",
       "       'Odometer', 'Latitude', 'Longitude', 'Heart Rate', 'Player Load',\n",
       "       'AthleteID'],\n",
       "      dtype='object')"
      ]
     },
     "execution_count": 2,
     "metadata": {},
     "output_type": "execute_result"
    }
   ],
   "source": [
    "df.columns"
   ]
  },
  {
   "cell_type": "code",
   "execution_count": 3,
   "metadata": {
    "cell_id": "00011-22947121-357c-47d2-a6ca-f1c6b9b6ec32",
    "deepnote_cell_type": "code",
    "deepnote_to_be_reexecuted": false,
    "execution_millis": 32,
    "execution_start": 1623777907698,
    "source_hash": "c085b6ba",
    "tags": []
   },
   "outputs": [
    {
     "data": {
      "text/html": [
       "<div>\n",
       "<style scoped>\n",
       "    .dataframe tbody tr th:only-of-type {\n",
       "        vertical-align: middle;\n",
       "    }\n",
       "\n",
       "    .dataframe tbody tr th {\n",
       "        vertical-align: top;\n",
       "    }\n",
       "\n",
       "    .dataframe thead th {\n",
       "        text-align: right;\n",
       "    }\n",
       "</style>\n",
       "<table border=\"1\" class=\"dataframe\">\n",
       "  <thead>\n",
       "    <tr style=\"text-align: right;\">\n",
       "      <th></th>\n",
       "      <th>Unnamed: 0</th>\n",
       "      <th>Timestamp</th>\n",
       "      <th>Seconds</th>\n",
       "      <th>Velocity</th>\n",
       "      <th>Acceleration</th>\n",
       "      <th>Odometer</th>\n",
       "      <th>Latitude</th>\n",
       "      <th>Longitude</th>\n",
       "      <th>Heart Rate</th>\n",
       "      <th>Player Load</th>\n",
       "      <th>AthleteID</th>\n",
       "    </tr>\n",
       "  </thead>\n",
       "  <tbody>\n",
       "    <tr>\n",
       "      <th>0</th>\n",
       "      <td>0</td>\n",
       "      <td>9/30/2018 12:21:49 PM</td>\n",
       "      <td>0.0</td>\n",
       "      <td>0.06</td>\n",
       "      <td>-0.041234</td>\n",
       "      <td>0.0</td>\n",
       "      <td>42.263222</td>\n",
       "      <td>-83.741055</td>\n",
       "      <td>122</td>\n",
       "      <td>0.0</td>\n",
       "      <td>Athlete 1</td>\n",
       "    </tr>\n",
       "    <tr>\n",
       "      <th>1</th>\n",
       "      <td>1</td>\n",
       "      <td>9/30/2018 12:21:49 PM</td>\n",
       "      <td>0.1</td>\n",
       "      <td>0.06</td>\n",
       "      <td>-0.025926</td>\n",
       "      <td>0.0</td>\n",
       "      <td>42.263223</td>\n",
       "      <td>-83.741055</td>\n",
       "      <td>122</td>\n",
       "      <td>0.0</td>\n",
       "      <td>Athlete 1</td>\n",
       "    </tr>\n",
       "    <tr>\n",
       "      <th>2</th>\n",
       "      <td>2</td>\n",
       "      <td>9/30/2018 12:21:49 PM</td>\n",
       "      <td>0.2</td>\n",
       "      <td>0.06</td>\n",
       "      <td>-0.011945</td>\n",
       "      <td>0.0</td>\n",
       "      <td>42.263223</td>\n",
       "      <td>-83.741055</td>\n",
       "      <td>122</td>\n",
       "      <td>0.0</td>\n",
       "      <td>Athlete 1</td>\n",
       "    </tr>\n",
       "    <tr>\n",
       "      <th>3</th>\n",
       "      <td>3</td>\n",
       "      <td>9/30/2018 12:21:49 PM</td>\n",
       "      <td>0.3</td>\n",
       "      <td>0.09</td>\n",
       "      <td>0.048539</td>\n",
       "      <td>0.0</td>\n",
       "      <td>42.263223</td>\n",
       "      <td>-83.741055</td>\n",
       "      <td>122</td>\n",
       "      <td>0.0</td>\n",
       "      <td>Athlete 1</td>\n",
       "    </tr>\n",
       "    <tr>\n",
       "      <th>4</th>\n",
       "      <td>4</td>\n",
       "      <td>9/30/2018 12:21:49 PM</td>\n",
       "      <td>0.4</td>\n",
       "      <td>0.08</td>\n",
       "      <td>0.021406</td>\n",
       "      <td>0.0</td>\n",
       "      <td>42.263223</td>\n",
       "      <td>-83.741055</td>\n",
       "      <td>122</td>\n",
       "      <td>0.0</td>\n",
       "      <td>Athlete 1</td>\n",
       "    </tr>\n",
       "  </tbody>\n",
       "</table>\n",
       "</div>"
      ],
      "text/plain": [
       "   Unnamed: 0              Timestamp  Seconds  Velocity  Acceleration  \\\n",
       "0           0  9/30/2018 12:21:49 PM      0.0      0.06     -0.041234   \n",
       "1           1  9/30/2018 12:21:49 PM      0.1      0.06     -0.025926   \n",
       "2           2  9/30/2018 12:21:49 PM      0.2      0.06     -0.011945   \n",
       "3           3  9/30/2018 12:21:49 PM      0.3      0.09      0.048539   \n",
       "4           4  9/30/2018 12:21:49 PM      0.4      0.08      0.021406   \n",
       "\n",
       "   Odometer   Latitude  Longitude  Heart Rate  Player Load  AthleteID  \n",
       "0       0.0  42.263222 -83.741055         122          0.0  Athlete 1  \n",
       "1       0.0  42.263223 -83.741055         122          0.0  Athlete 1  \n",
       "2       0.0  42.263223 -83.741055         122          0.0  Athlete 1  \n",
       "3       0.0  42.263223 -83.741055         122          0.0  Athlete 1  \n",
       "4       0.0  42.263223 -83.741055         122          0.0  Athlete 1  "
      ]
     },
     "execution_count": 3,
     "metadata": {},
     "output_type": "execute_result"
    }
   ],
   "source": [
    "df.head()"
   ]
  },
  {
   "cell_type": "code",
   "execution_count": 4,
   "metadata": {
    "cell_id": "00005-631d3438-08a6-4121-b1ff-c9f0ca8fff5c",
    "deepnote_cell_type": "code",
    "deepnote_to_be_reexecuted": false,
    "execution_millis": 110,
    "execution_start": 1623777907767,
    "source_hash": "831f800b",
    "tags": []
   },
   "outputs": [],
   "source": [
    "df.drop(['Unnamed: 0', 'Latitude', 'Longitude', 'Heart Rate'], axis=1, inplace=True) # we can drop the previous index column ('unnamed') and some others"
   ]
  },
  {
   "cell_type": "code",
   "execution_count": 5,
   "metadata": {
    "cell_id": "00005-8c430b47-6cc5-43c8-a004-34a00ded9acc",
    "deepnote_cell_type": "code",
    "deepnote_to_be_reexecuted": false,
    "execution_millis": 1263,
    "execution_start": 1623777907989,
    "source_hash": "65a53658",
    "tags": []
   },
   "outputs": [
    {
     "data": {
      "text/html": [
       "<div>\n",
       "<style scoped>\n",
       "    .dataframe tbody tr th:only-of-type {\n",
       "        vertical-align: middle;\n",
       "    }\n",
       "\n",
       "    .dataframe tbody tr th {\n",
       "        vertical-align: top;\n",
       "    }\n",
       "\n",
       "    .dataframe thead th {\n",
       "        text-align: right;\n",
       "    }\n",
       "</style>\n",
       "<table border=\"1\" class=\"dataframe\">\n",
       "  <thead>\n",
       "    <tr style=\"text-align: right;\">\n",
       "      <th></th>\n",
       "      <th></th>\n",
       "      <th>Seconds</th>\n",
       "      <th>Velocity</th>\n",
       "      <th>Acceleration</th>\n",
       "      <th>Odometer</th>\n",
       "      <th>Player Load</th>\n",
       "    </tr>\n",
       "    <tr>\n",
       "      <th>Timestamp</th>\n",
       "      <th>AthleteID</th>\n",
       "      <th></th>\n",
       "      <th></th>\n",
       "      <th></th>\n",
       "      <th></th>\n",
       "      <th></th>\n",
       "    </tr>\n",
       "  </thead>\n",
       "  <tbody>\n",
       "    <tr>\n",
       "      <th rowspan=\"5\" valign=\"top\">9/30/2018 12:21:49 PM</th>\n",
       "      <th>Athlete 1</th>\n",
       "      <td>0.0</td>\n",
       "      <td>0.06</td>\n",
       "      <td>-0.041234</td>\n",
       "      <td>0.0</td>\n",
       "      <td>0.0</td>\n",
       "    </tr>\n",
       "    <tr>\n",
       "      <th>Athlete 1</th>\n",
       "      <td>0.1</td>\n",
       "      <td>0.06</td>\n",
       "      <td>-0.025926</td>\n",
       "      <td>0.0</td>\n",
       "      <td>0.0</td>\n",
       "    </tr>\n",
       "    <tr>\n",
       "      <th>Athlete 1</th>\n",
       "      <td>0.2</td>\n",
       "      <td>0.06</td>\n",
       "      <td>-0.011945</td>\n",
       "      <td>0.0</td>\n",
       "      <td>0.0</td>\n",
       "    </tr>\n",
       "    <tr>\n",
       "      <th>Athlete 1</th>\n",
       "      <td>0.3</td>\n",
       "      <td>0.09</td>\n",
       "      <td>0.048539</td>\n",
       "      <td>0.0</td>\n",
       "      <td>0.0</td>\n",
       "    </tr>\n",
       "    <tr>\n",
       "      <th>Athlete 1</th>\n",
       "      <td>0.4</td>\n",
       "      <td>0.08</td>\n",
       "      <td>0.021406</td>\n",
       "      <td>0.0</td>\n",
       "      <td>0.0</td>\n",
       "    </tr>\n",
       "  </tbody>\n",
       "</table>\n",
       "</div>"
      ],
      "text/plain": [
       "                                 Seconds  Velocity  Acceleration  Odometer  \\\n",
       "Timestamp             AthleteID                                              \n",
       "9/30/2018 12:21:49 PM Athlete 1      0.0      0.06     -0.041234       0.0   \n",
       "                      Athlete 1      0.1      0.06     -0.025926       0.0   \n",
       "                      Athlete 1      0.2      0.06     -0.011945       0.0   \n",
       "                      Athlete 1      0.3      0.09      0.048539       0.0   \n",
       "                      Athlete 1      0.4      0.08      0.021406       0.0   \n",
       "\n",
       "                                 Player Load  \n",
       "Timestamp             AthleteID               \n",
       "9/30/2018 12:21:49 PM Athlete 1          0.0  \n",
       "                      Athlete 1          0.0  \n",
       "                      Athlete 1          0.0  \n",
       "                      Athlete 1          0.0  \n",
       "                      Athlete 1          0.0  "
      ]
     },
     "execution_count": 5,
     "metadata": {},
     "output_type": "execute_result"
    }
   ],
   "source": [
    "master=df.set_index(['Timestamp', 'AthleteID'], inplace=False) # we'll use a multi-index to keep time in the index and the player ID #\n",
    "master.head()"
   ]
  },
  {
   "cell_type": "code",
   "execution_count": 6,
   "metadata": {
    "cell_id": "00007-9c888000-9a12-4a7d-bc04-59bf4ee1453b",
    "deepnote_cell_type": "code",
    "deepnote_to_be_reexecuted": false,
    "execution_millis": 0,
    "execution_start": 1623777909298,
    "source_hash": "9342b00",
    "tags": []
   },
   "outputs": [],
   "source": [
    "master['farthest']=master['Odometer'].diff(300) # 30 second window of recent distance covered (in meters) -- this will provide us perspective on the anaerobic capacity of the player\n"
   ]
  },
  {
   "cell_type": "code",
   "execution_count": 7,
   "metadata": {
    "cell_id": "00009-871dea97-88d0-4f02-83fd-fb6b6bc9931e",
    "deepnote_cell_type": "code",
    "deepnote_to_be_reexecuted": false,
    "execution_millis": 43,
    "execution_start": 1623777909299,
    "source_hash": "f34d2b2f",
    "tags": []
   },
   "outputs": [],
   "source": [
    "master['ThreeMinuteDistance']=master['Odometer'].diff(1800) # 3 minute window of recent distance covered (in meters)."
   ]
  },
  {
   "cell_type": "code",
   "execution_count": 8,
   "metadata": {
    "cell_id": "00008-7f309949-d951-4685-ba6e-078668637883",
    "deepnote_cell_type": "code",
    "deepnote_to_be_reexecuted": false,
    "execution_millis": 73,
    "execution_start": 1623777909343,
    "source_hash": "a50eab68",
    "tags": []
   },
   "outputs": [],
   "source": [
    "master.loc[master['ThreeMinuteDistance'] <0,'ThreeMinuteDistance'] = np.nan\n",
    "master.loc[master['farthest'] <0,'farthest'] = np.nan"
   ]
  },
  {
   "cell_type": "markdown",
   "metadata": {
    "cell_id": "00011-0cf51445-81d7-4083-86e2-9e22e6c6fe6f",
    "deepnote_cell_type": "markdown",
    "tags": []
   },
   "source": [
    "The rationale for the simple performance measure is that Field Hockey requires high velocity -- but also considerable stamina.  One could weight the different measures variably to "
   ]
  },
  {
   "cell_type": "code",
   "execution_count": 9,
   "metadata": {
    "cell_id": "00009-dfab3b2e-749c-4a5b-b2b8-19552803d91c",
    "deepnote_cell_type": "code",
    "deepnote_to_be_reexecuted": false,
    "execution_millis": 29,
    "execution_start": 1623777909461,
    "source_hash": "1652694d",
    "tags": []
   },
   "outputs": [
    {
     "data": {
      "text/html": [
       "<div>\n",
       "<style scoped>\n",
       "    .dataframe tbody tr th:only-of-type {\n",
       "        vertical-align: middle;\n",
       "    }\n",
       "\n",
       "    .dataframe tbody tr th {\n",
       "        vertical-align: top;\n",
       "    }\n",
       "\n",
       "    .dataframe thead th {\n",
       "        text-align: right;\n",
       "    }\n",
       "</style>\n",
       "<table border=\"1\" class=\"dataframe\">\n",
       "  <thead>\n",
       "    <tr style=\"text-align: right;\">\n",
       "      <th></th>\n",
       "      <th></th>\n",
       "      <th>Seconds</th>\n",
       "      <th>Velocity</th>\n",
       "      <th>Acceleration</th>\n",
       "      <th>Odometer</th>\n",
       "      <th>Player Load</th>\n",
       "      <th>farthest</th>\n",
       "      <th>ThreeMinuteDistance</th>\n",
       "    </tr>\n",
       "    <tr>\n",
       "      <th>Timestamp</th>\n",
       "      <th>AthleteID</th>\n",
       "      <th></th>\n",
       "      <th></th>\n",
       "      <th></th>\n",
       "      <th></th>\n",
       "      <th></th>\n",
       "      <th></th>\n",
       "      <th></th>\n",
       "    </tr>\n",
       "  </thead>\n",
       "  <tbody>\n",
       "    <tr>\n",
       "      <th rowspan=\"5\" valign=\"top\">9/30/2018 12:21:49 PM</th>\n",
       "      <th>Athlete 1</th>\n",
       "      <td>0.0</td>\n",
       "      <td>0.06</td>\n",
       "      <td>-0.041234</td>\n",
       "      <td>0.0</td>\n",
       "      <td>0.0</td>\n",
       "      <td>NaN</td>\n",
       "      <td>NaN</td>\n",
       "    </tr>\n",
       "    <tr>\n",
       "      <th>Athlete 1</th>\n",
       "      <td>0.1</td>\n",
       "      <td>0.06</td>\n",
       "      <td>-0.025926</td>\n",
       "      <td>0.0</td>\n",
       "      <td>0.0</td>\n",
       "      <td>NaN</td>\n",
       "      <td>NaN</td>\n",
       "    </tr>\n",
       "    <tr>\n",
       "      <th>Athlete 1</th>\n",
       "      <td>0.2</td>\n",
       "      <td>0.06</td>\n",
       "      <td>-0.011945</td>\n",
       "      <td>0.0</td>\n",
       "      <td>0.0</td>\n",
       "      <td>NaN</td>\n",
       "      <td>NaN</td>\n",
       "    </tr>\n",
       "    <tr>\n",
       "      <th>Athlete 1</th>\n",
       "      <td>0.3</td>\n",
       "      <td>0.09</td>\n",
       "      <td>0.048539</td>\n",
       "      <td>0.0</td>\n",
       "      <td>0.0</td>\n",
       "      <td>NaN</td>\n",
       "      <td>NaN</td>\n",
       "    </tr>\n",
       "    <tr>\n",
       "      <th>Athlete 1</th>\n",
       "      <td>0.4</td>\n",
       "      <td>0.08</td>\n",
       "      <td>0.021406</td>\n",
       "      <td>0.0</td>\n",
       "      <td>0.0</td>\n",
       "      <td>NaN</td>\n",
       "      <td>NaN</td>\n",
       "    </tr>\n",
       "  </tbody>\n",
       "</table>\n",
       "</div>"
      ],
      "text/plain": [
       "                                 Seconds  Velocity  Acceleration  Odometer  \\\n",
       "Timestamp             AthleteID                                              \n",
       "9/30/2018 12:21:49 PM Athlete 1      0.0      0.06     -0.041234       0.0   \n",
       "                      Athlete 1      0.1      0.06     -0.025926       0.0   \n",
       "                      Athlete 1      0.2      0.06     -0.011945       0.0   \n",
       "                      Athlete 1      0.3      0.09      0.048539       0.0   \n",
       "                      Athlete 1      0.4      0.08      0.021406       0.0   \n",
       "\n",
       "                                 Player Load  farthest  ThreeMinuteDistance  \n",
       "Timestamp             AthleteID                                              \n",
       "9/30/2018 12:21:49 PM Athlete 1          0.0       NaN                  NaN  \n",
       "                      Athlete 1          0.0       NaN                  NaN  \n",
       "                      Athlete 1          0.0       NaN                  NaN  \n",
       "                      Athlete 1          0.0       NaN                  NaN  \n",
       "                      Athlete 1          0.0       NaN                  NaN  "
      ]
     },
     "execution_count": 9,
     "metadata": {},
     "output_type": "execute_result"
    }
   ],
   "source": [
    "master.head()"
   ]
  },
  {
   "cell_type": "code",
   "execution_count": 10,
   "metadata": {
    "allow_embed": "code_output",
    "cell_id": "00010-ee82675b-bbda-488d-93bc-59ef2361b3a2",
    "deepnote_cell_type": "code",
    "deepnote_to_be_reexecuted": false,
    "execution_millis": 404,
    "execution_start": 1623777909481,
    "source_hash": "d057225f",
    "tags": []
   },
   "outputs": [
    {
     "name": "stdout",
     "output_type": "stream",
     "text": [
      "            Seconds Velocity Acceleration  Odometer Player Load farthest  \\\n",
      "                max      max          max       max         max      max   \n",
      "AthleteID                                                                  \n",
      "Athlete 1   8759.98     7.24     5.981192  10036.75       891.5   151.38   \n",
      "Athlete 10  8749.93     6.79     5.580821   7269.15       615.6   150.52   \n",
      "Athlete 11  8749.93     6.56     3.825559   4791.84       449.0   122.10   \n",
      "Athlete 12  8749.91     7.38     4.360430   8551.21       734.4   177.37   \n",
      "Athlete 13  8749.93     6.33     7.034368   6345.99       609.2   118.57   \n",
      "Athlete 14  7855.38     6.58     4.908402   9906.41       951.3   118.65   \n",
      "Athlete 15  8749.93     6.61    11.318196   5001.16       540.0   115.69   \n",
      "Athlete 17  8749.93     7.71     5.889059   9896.45       888.5   121.59   \n",
      "Athlete 18  8759.92     6.63     5.557953   6326.56       688.5   111.38   \n",
      "Athlete 19  8749.92     6.85     4.089531   7952.18       781.6   134.38   \n",
      "Athlete 2   8749.93     4.69     3.819985   2001.83       220.6    68.26   \n",
      "Athlete 20  8749.93     7.32     5.553606   9214.04       886.7   132.63   \n",
      "Athlete 21  8749.93     6.31     5.394188   7360.27       624.5   118.80   \n",
      "Athlete 22  8749.93     3.94     3.201309   2209.77       262.3    65.01   \n",
      "Athlete 23  8749.92     7.17     6.044008   9254.26      1044.2   127.24   \n",
      "Athlete 24  8749.93     7.31     3.911020   6784.38       675.0   125.93   \n",
      "Athlete 3   8749.97     6.52     4.420637   4884.73       475.0   105.88   \n",
      "Athlete 4   8749.92     6.93     7.695746   8404.01       819.0   131.37   \n",
      "Athlete 5   8749.92     6.33     3.994656   7482.94       750.9   118.69   \n",
      "Athlete 6   8750.04     7.15     8.633133  10739.12       988.4   117.31   \n",
      "Athlete 7   8749.93     7.53     5.789903  10723.64       900.1   131.45   \n",
      "Athlete 9   8749.92     7.01     3.932414   9233.42       767.0   109.88   \n",
      "\n",
      "           ThreeMinuteDistance  \n",
      "                           max  \n",
      "AthleteID                       \n",
      "Athlete 1               645.59  \n",
      "Athlete 10              680.17  \n",
      "Athlete 11              440.27  \n",
      "Athlete 12              481.11  \n",
      "Athlete 13              443.65  \n",
      "Athlete 14              472.57  \n",
      "Athlete 15              461.78  \n",
      "Athlete 17              572.63  \n",
      "Athlete 18              423.70  \n",
      "Athlete 19              497.27  \n",
      "Athlete 2               190.30  \n",
      "Athlete 20              639.16  \n",
      "Athlete 21              417.40  \n",
      "Athlete 22              151.24  \n",
      "Athlete 23              570.50  \n",
      "Athlete 24              467.11  \n",
      "Athlete 3               444.66  \n",
      "Athlete 4               412.89  \n",
      "Athlete 5               459.87  \n",
      "Athlete 6               517.77  \n",
      "Athlete 7               490.36  \n",
      "Athlete 9               387.91  \n"
     ]
    }
   ],
   "source": [
    "MaxValues_df=master.groupby('AthleteID').agg([max])\n",
    "print(MaxValues_df)"
   ]
  },
  {
   "cell_type": "code",
   "execution_count": 11,
   "metadata": {
    "allow_embed": "code_output",
    "cell_id": "00015-588b8e80-66ca-46a9-b79a-1c933f448152",
    "deepnote_cell_type": "code",
    "deepnote_to_be_reexecuted": false,
    "execution_millis": 10,
    "execution_start": 1623777909938,
    "source_hash": "b0b5abce",
    "tags": []
   },
   "outputs": [
    {
     "name": "stdout",
     "output_type": "stream",
     "text": [
      "            Seconds Velocity Acceleration  Odometer Player Load farthest  \\\n",
      "                max      max          max       max         max      max   \n",
      "AthleteID                                                                  \n",
      "Athlete 1   8759.98     7.24     5.981192  10036.75       891.5   151.38   \n",
      "Athlete 10  8749.93     6.79     5.580821   7269.15       615.6   150.52   \n",
      "Athlete 11  8749.93     6.56     3.825559   4791.84       449.0   122.10   \n",
      "Athlete 12  8749.91     7.38     4.360430   8551.21       734.4   177.37   \n",
      "Athlete 13  8749.93     6.33     7.034368   6345.99       609.2   118.57   \n",
      "Athlete 14  7855.38     6.58     4.908402   9906.41       951.3   118.65   \n",
      "Athlete 15  8749.93     6.61    11.318196   5001.16       540.0   115.69   \n",
      "Athlete 17  8749.93     7.71     5.889059   9896.45       888.5   121.59   \n",
      "Athlete 18  8759.92     6.63     5.557953   6326.56       688.5   111.38   \n",
      "Athlete 19  8749.92     6.85     4.089531   7952.18       781.6   134.38   \n",
      "Athlete 2   8749.93     4.69     3.819985   2001.83       220.6    68.26   \n",
      "Athlete 20  8749.93     7.32     5.553606   9214.04       886.7   132.63   \n",
      "Athlete 21  8749.93     6.31     5.394188   7360.27       624.5   118.80   \n",
      "Athlete 22  8749.93     3.94     3.201309   2209.77       262.3    65.01   \n",
      "Athlete 23  8749.92     7.17     6.044008   9254.26      1044.2   127.24   \n",
      "Athlete 24  8749.93     7.31     3.911020   6784.38       675.0   125.93   \n",
      "Athlete 3   8749.97     6.52     4.420637   4884.73       475.0   105.88   \n",
      "Athlete 4   8749.92     6.93     7.695746   8404.01       819.0   131.37   \n",
      "Athlete 5   8749.92     6.33     3.994656   7482.94       750.9   118.69   \n",
      "Athlete 6   8750.04     7.15     8.633133  10739.12       988.4   117.31   \n",
      "Athlete 7   8749.93     7.53     5.789903  10723.64       900.1   131.45   \n",
      "Athlete 9   8749.92     7.01     3.932414   9233.42       767.0   109.88   \n",
      "\n",
      "           ThreeMinuteDistance zscores_vel zscores_far zscores_three  \n",
      "                           max                                        \n",
      "AthleteID                                                             \n",
      "Athlete 1               645.59    0.660933    1.278042      1.472233  \n",
      "Athlete 10              680.17    0.132827    1.241197      1.756857  \n",
      "Athlete 11              440.27   -0.137094    0.023603     -0.217733  \n",
      "Athlete 12              481.11    0.825233    2.391528      0.118416  \n",
      "Athlete 13              443.65   -0.407015   -0.127633     -0.189913  \n",
      "Athlete 14              472.57   -0.113623   -0.124205      0.048125  \n",
      "Athlete 15              461.78   -0.078416   -0.251020     -0.040687  \n",
      "Athlete 17              572.63    1.212511    0.001753      0.871707  \n",
      "Athlete 18              423.70   -0.054944   -0.435673     -0.354119  \n",
      "Athlete 19              497.27    0.203241    0.549713      0.251427  \n",
      "Athlete 2               190.30   -2.331670   -2.283058     -2.275208  \n",
      "Athlete 20              639.16    0.754819    0.474738      1.419308  \n",
      "Athlete 21              417.40   -0.430487   -0.117779     -0.405974  \n",
      "Athlete 22              151.24   -3.211847   -2.422297     -2.596707  \n",
      "Athlete 23              570.50    0.578783    0.243815      0.854175  \n",
      "Athlete 24              467.11    0.743083    0.187691      0.003184  \n",
      "Athlete 3               444.66   -0.184037   -0.671309     -0.181600  \n",
      "Athlete 4               412.89    0.297127    0.420756     -0.443095  \n",
      "Athlete 5               459.87   -0.407015   -0.122492     -0.056408  \n",
      "Athlete 6               517.77    0.555312   -0.181615      0.420161  \n",
      "Athlete 7               490.36    1.001268    0.424183      0.194552  \n",
      "Athlete 9               387.91    0.391012   -0.499937     -0.648702  \n"
     ]
    }
   ],
   "source": [
    "MaxValues_df['zscores_vel'] = stats.zscore(MaxValues_df['Velocity'])\n",
    "MaxValues_df['zscores_far'] = stats.zscore(MaxValues_df['farthest'])\n",
    "MaxValues_df['zscores_three'] = stats.zscore(MaxValues_df['ThreeMinuteDistance'])\n",
    "print(MaxValues_df)"
   ]
  },
  {
   "cell_type": "code",
   "execution_count": 11,
   "metadata": {
    "cell_id": "00017-17b3ba84-fd83-40db-b66a-767c09e189cd",
    "deepnote_cell_type": "code",
    "deepnote_to_be_reexecuted": false,
    "execution_millis": 7,
    "execution_start": 1623777909986,
    "source_hash": "6df99164",
    "tags": []
   },
   "outputs": [
    {
     "name": "stdout",
     "output_type": "stream",
     "text": [
      "            Seconds Velocity Acceleration  Odometer Player Load farthest  \\\n",
      "                max      max          max       max         max      max   \n",
      "AthleteID                                                                  \n",
      "Athlete 1   8759.98     7.24     5.981192  10036.75       891.5   151.38   \n",
      "Athlete 10  8749.93     6.79     5.580821   7269.15       615.6   150.52   \n",
      "Athlete 11  8749.93     6.56     3.825559   4791.84       449.0   122.10   \n",
      "Athlete 12  8749.91     7.38     4.360430   8551.21       734.4   177.37   \n",
      "Athlete 13  8749.93     6.33     7.034368   6345.99       609.2   118.57   \n",
      "Athlete 14  7855.38     6.58     4.908402   9906.41       951.3   118.65   \n",
      "Athlete 15  8749.93     6.61    11.318196   5001.16       540.0   115.69   \n",
      "Athlete 17  8749.93     7.71     5.889059   9896.45       888.5   121.59   \n",
      "Athlete 18  8759.92     6.63     5.557953   6326.56       688.5   111.38   \n",
      "Athlete 19  8749.92     6.85     4.089531   7952.18       781.6   134.38   \n",
      "Athlete 2   8749.93     4.69     3.819985   2001.83       220.6    68.26   \n",
      "Athlete 20  8749.93     7.32     5.553606   9214.04       886.7   132.63   \n",
      "Athlete 21  8749.93     6.31     5.394188   7360.27       624.5   118.80   \n",
      "Athlete 22  8749.93     3.94     3.201309   2209.77       262.3    65.01   \n",
      "Athlete 23  8749.92     7.17     6.044008   9254.26      1044.2   127.24   \n",
      "Athlete 24  8749.93     7.31     3.911020   6784.38       675.0   125.93   \n",
      "Athlete 3   8749.97     6.52     4.420637   4884.73       475.0   105.88   \n",
      "Athlete 4   8749.92     6.93     7.695746   8404.01       819.0   131.37   \n",
      "Athlete 5   8749.92     6.33     3.994656   7482.94       750.9   118.69   \n",
      "Athlete 6   8750.04     7.15     8.633133  10739.12       988.4   117.31   \n",
      "Athlete 7   8749.93     7.53     5.789903  10723.64       900.1   131.45   \n",
      "Athlete 9   8749.92     7.01     3.932414   9233.42       767.0   109.88   \n",
      "\n",
      "           ThreeMinuteDistance     Metric  \n",
      "                           max             \n",
      "AthleteID                                  \n",
      "Athlete 1               645.59  13.411208  \n",
      "Athlete 10              680.17  13.130881  \n",
      "Athlete 11              440.27   9.668775  \n",
      "Athlete 12              481.11  13.335177  \n",
      "Athlete 13              443.65   9.275439  \n",
      "Athlete 14              472.57   9.810296  \n",
      "Athlete 15              461.78   9.629877  \n",
      "Athlete 17              572.63  12.085971  \n",
      "Athlete 18              423.70   9.155264  \n",
      "Athlete 19              497.27  11.004381  \n",
      "Athlete 2               190.30   3.110064  \n",
      "Athlete 20              639.16  12.648865  \n",
      "Athlete 21              417.40   9.045761  \n",
      "Athlete 22              151.24   1.769149  \n",
      "Athlete 23              570.50  11.676773  \n",
      "Athlete 24              467.11  10.933958  \n",
      "Athlete 3               444.66   8.963054  \n",
      "Athlete 4               412.89  10.274788  \n",
      "Athlete 5               459.87   9.414085  \n",
      "Athlete 6               517.77  10.793858  \n",
      "Athlete 7               490.36  11.620004  \n",
      "Athlete 9               387.91   9.242372  \n"
     ]
    }
   ],
   "source": [
    "# adding up the z-scores to provide my simple global metric! \n",
    "\n",
    "MaxValues_df['Metric'] = stats.zscore(MaxValues_df['Velocity']) + stats.zscore(MaxValues_df['farthest'])+stats.zscore(MaxValues_df['ThreeMinuteDistance']) + 10\n",
    "\n",
    "print(MaxValues_df)"
   ]
  },
  {
   "cell_type": "markdown",
   "metadata": {
    "cell_id": "00016-323000f0-cb33-4910-bec0-c27cca4989e6",
    "deepnote_cell_type": "markdown",
    "tags": []
   },
   "source": [
    "We added 10 to the z-scores as no one wants to have a performance score that is negative.  However, this individual athlete is likely and was not currently participating fully with the practices or games.  All other scores are near 10 -- which makes sense as the z-scores should sum to zero."
   ]
  }
 ],
 "metadata": {
  "deepnote": {
   "is_reactive": false
  },
  "deepnote_execution_queue": [],
  "deepnote_notebook_id": "45ee093e-5ca2-42ea-ab6c-ddbb6bcd7906",
  "kernelspec": {
   "display_name": "Python 3",
   "language": "python",
   "name": "python3"
  },
  "language_info": {
   "codemirror_mode": {
    "name": "ipython",
    "version": 3
   },
   "file_extension": ".py",
   "mimetype": "text/x-python",
   "name": "python",
   "nbconvert_exporter": "python",
   "pygments_lexer": "ipython3",
   "version": "3.8.3 (tags/v3.8.3:6f8c832, May 13 2020, 22:37:02) [MSC v.1924 64 bit (AMD64)]"
  },
  "vscode": {
   "interpreter": {
    "hash": "9650cb4e16cdd4a8e8e2d128bf38d875813998db22a3c986335f89e0cb4d7bb2"
   }
  }
 },
 "nbformat": 4,
 "nbformat_minor": 2
}
